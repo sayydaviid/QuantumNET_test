{
 "cells": [
  {
   "cell_type": "markdown",
   "metadata": {},
   "source": [
    "## Guia da Camada Física\n",
    "##### O documento tem o objetivo de demostrar o funcionamento da camada física, além de suas funções e ferramentas."
   ]
  },
  {
   "cell_type": "code",
   "execution_count": 1,
   "metadata": {},
   "outputs": [],
   "source": [
    "from quantumnet.components import Network, Host\n",
    "from quantumnet.objects import Qubit, Logger\n",
    "import random\n",
    "Logger.activate(Logger)"
   ]
  },
  {
   "cell_type": "markdown",
   "metadata": {},
   "source": [
    "##### Será instaciada a rede e definida a topologia de Grade"
   ]
  },
  {
   "cell_type": "code",
   "execution_count": 2,
   "metadata": {},
   "outputs": [
    {
     "name": "stderr",
     "output_type": "stream",
     "text": [
      "2024-06-30 21:30:26,876: Qubit 0 adicionado à memória do Host 0.\n",
      "2024-06-30 21:30:26,877: Qubit 0 criado com fidelidade inicial 0.7702326281345594 e adicionado à memória do Host 0.\n",
      "2024-06-30 21:30:26,877: Qubit 1 adicionado à memória do Host 0.\n",
      "2024-06-30 21:30:26,878: Qubit 1 criado com fidelidade inicial 0.31048660067003175 e adicionado à memória do Host 0.\n",
      "2024-06-30 21:30:26,878: Qubit 2 adicionado à memória do Host 0.\n",
      "2024-06-30 21:30:26,879: Qubit 2 criado com fidelidade inicial 0.983426802993647 e adicionado à memória do Host 0.\n",
      "2024-06-30 21:30:26,880: Qubit 3 adicionado à memória do Host 0.\n",
      "2024-06-30 21:30:26,881: Qubit 3 criado com fidelidade inicial 0.3334155701581115 e adicionado à memória do Host 0.\n",
      "2024-06-30 21:30:26,882: Qubit 4 adicionado à memória do Host 0.\n",
      "2024-06-30 21:30:26,882: Qubit 4 criado com fidelidade inicial 0.6317692445117444 e adicionado à memória do Host 0.\n",
      "2024-06-30 21:30:26,883: Qubit 5 adicionado à memória do Host 0.\n",
      "2024-06-30 21:30:26,883: Qubit 5 criado com fidelidade inicial 0.4705553889863261 e adicionado à memória do Host 0.\n",
      "2024-06-30 21:30:26,883: Qubit 6 adicionado à memória do Host 0.\n",
      "2024-06-30 21:30:26,884: Qubit 6 criado com fidelidade inicial 0.29343798591451553 e adicionado à memória do Host 0.\n",
      "2024-06-30 21:30:26,884: Qubit 7 adicionado à memória do Host 0.\n",
      "2024-06-30 21:30:26,885: Qubit 7 criado com fidelidade inicial 0.9086060933462051 e adicionado à memória do Host 0.\n",
      "2024-06-30 21:30:26,885: Qubit 8 adicionado à memória do Host 0.\n",
      "2024-06-30 21:30:26,886: Qubit 8 criado com fidelidade inicial 0.1752682646343361 e adicionado à memória do Host 0.\n",
      "2024-06-30 21:30:26,887: Qubit 9 adicionado à memória do Host 0.\n",
      "2024-06-30 21:30:26,887: Qubit 9 criado com fidelidade inicial 0.9373443083465105 e adicionado à memória do Host 0.\n",
      "2024-06-30 21:30:26,888: Qubit 10 adicionado à memória do Host 1.\n",
      "2024-06-30 21:30:26,888: Qubit 10 criado com fidelidade inicial 0.2232700432253556 e adicionado à memória do Host 1.\n",
      "2024-06-30 21:30:26,889: Qubit 11 adicionado à memória do Host 1.\n",
      "2024-06-30 21:30:26,889: Qubit 11 criado com fidelidade inicial 0.9627278800673305 e adicionado à memória do Host 1.\n",
      "2024-06-30 21:30:26,890: Qubit 12 adicionado à memória do Host 1.\n",
      "2024-06-30 21:30:26,890: Qubit 12 criado com fidelidade inicial 0.016567609650700588 e adicionado à memória do Host 1.\n",
      "2024-06-30 21:30:26,891: Qubit 13 adicionado à memória do Host 1.\n",
      "2024-06-30 21:30:26,891: Qubit 13 criado com fidelidade inicial 0.4264322077417133 e adicionado à memória do Host 1.\n",
      "2024-06-30 21:30:26,891: Qubit 14 adicionado à memória do Host 1.\n",
      "2024-06-30 21:30:26,892: Qubit 14 criado com fidelidade inicial 0.23921782793074176 e adicionado à memória do Host 1.\n",
      "2024-06-30 21:30:26,892: Qubit 15 adicionado à memória do Host 1.\n",
      "2024-06-30 21:30:26,893: Qubit 15 criado com fidelidade inicial 0.711656576836781 e adicionado à memória do Host 1.\n",
      "2024-06-30 21:30:26,893: Qubit 16 adicionado à memória do Host 1.\n",
      "2024-06-30 21:30:26,894: Qubit 16 criado com fidelidade inicial 0.6672233169345901 e adicionado à memória do Host 1.\n",
      "2024-06-30 21:30:26,894: Qubit 17 adicionado à memória do Host 1.\n",
      "2024-06-30 21:30:26,895: Qubit 17 criado com fidelidade inicial 0.7182916328375243 e adicionado à memória do Host 1.\n",
      "2024-06-30 21:30:26,896: Qubit 18 adicionado à memória do Host 1.\n",
      "2024-06-30 21:30:26,896: Qubit 18 criado com fidelidade inicial 0.5082388878007695 e adicionado à memória do Host 1.\n",
      "2024-06-30 21:30:26,896: Qubit 19 adicionado à memória do Host 1.\n",
      "2024-06-30 21:30:26,897: Qubit 19 criado com fidelidade inicial 0.2910643034135174 e adicionado à memória do Host 1.\n",
      "2024-06-30 21:30:26,897: Qubit 20 adicionado à memória do Host 2.\n",
      "2024-06-30 21:30:26,898: Qubit 20 criado com fidelidade inicial 0.16967627090133597 e adicionado à memória do Host 2.\n",
      "2024-06-30 21:30:26,899: Qubit 21 adicionado à memória do Host 2.\n",
      "2024-06-30 21:30:26,899: Qubit 21 criado com fidelidade inicial 0.9741218839928442 e adicionado à memória do Host 2.\n",
      "2024-06-30 21:30:26,900: Qubit 22 adicionado à memória do Host 2.\n",
      "2024-06-30 21:30:26,900: Qubit 22 criado com fidelidade inicial 0.7336715390382238 e adicionado à memória do Host 2.\n",
      "2024-06-30 21:30:26,901: Qubit 23 adicionado à memória do Host 2.\n",
      "2024-06-30 21:30:26,901: Qubit 23 criado com fidelidade inicial 0.2913685143350684 e adicionado à memória do Host 2.\n",
      "2024-06-30 21:30:26,902: Qubit 24 adicionado à memória do Host 2.\n",
      "2024-06-30 21:30:26,902: Qubit 24 criado com fidelidade inicial 0.9917811728023527 e adicionado à memória do Host 2.\n",
      "2024-06-30 21:30:26,903: Qubit 25 adicionado à memória do Host 2.\n",
      "2024-06-30 21:30:26,905: Qubit 25 criado com fidelidade inicial 0.31500492328355034 e adicionado à memória do Host 2.\n",
      "2024-06-30 21:30:26,906: Qubit 26 adicionado à memória do Host 2.\n",
      "2024-06-30 21:30:26,907: Qubit 26 criado com fidelidade inicial 0.559896329993347 e adicionado à memória do Host 2.\n",
      "2024-06-30 21:30:26,907: Qubit 27 adicionado à memória do Host 2.\n",
      "2024-06-30 21:30:26,908: Qubit 27 criado com fidelidade inicial 0.46047115096293134 e adicionado à memória do Host 2.\n",
      "2024-06-30 21:30:26,909: Qubit 28 adicionado à memória do Host 2.\n",
      "2024-06-30 21:30:26,909: Qubit 28 criado com fidelidade inicial 0.7818331578485727 e adicionado à memória do Host 2.\n",
      "2024-06-30 21:30:26,909: Qubit 29 adicionado à memória do Host 2.\n",
      "2024-06-30 21:30:26,910: Qubit 29 criado com fidelidade inicial 0.6888911354012761 e adicionado à memória do Host 2.\n",
      "2024-06-30 21:30:26,910: Qubit 30 adicionado à memória do Host 3.\n",
      "2024-06-30 21:30:26,910: Qubit 30 criado com fidelidade inicial 0.5354445934767859 e adicionado à memória do Host 3.\n",
      "2024-06-30 21:30:26,911: Qubit 31 adicionado à memória do Host 3.\n",
      "2024-06-30 21:30:26,911: Qubit 31 criado com fidelidade inicial 0.6367898471952028 e adicionado à memória do Host 3.\n",
      "2024-06-30 21:30:26,911: Qubit 32 adicionado à memória do Host 3.\n",
      "2024-06-30 21:30:26,912: Qubit 32 criado com fidelidade inicial 0.558804797554492 e adicionado à memória do Host 3.\n",
      "2024-06-30 21:30:26,913: Qubit 33 adicionado à memória do Host 3.\n",
      "2024-06-30 21:30:26,913: Qubit 33 criado com fidelidade inicial 0.7371634533221436 e adicionado à memória do Host 3.\n",
      "2024-06-30 21:30:26,913: Qubit 34 adicionado à memória do Host 3.\n",
      "2024-06-30 21:30:26,914: Qubit 34 criado com fidelidade inicial 0.6711318206884787 e adicionado à memória do Host 3.\n",
      "2024-06-30 21:30:26,914: Qubit 35 adicionado à memória do Host 3.\n",
      "2024-06-30 21:30:26,915: Qubit 35 criado com fidelidade inicial 0.3491346458985142 e adicionado à memória do Host 3.\n",
      "2024-06-30 21:30:26,916: Qubit 36 adicionado à memória do Host 3.\n",
      "2024-06-30 21:30:26,916: Qubit 36 criado com fidelidade inicial 0.11433348856961156 e adicionado à memória do Host 3.\n",
      "2024-06-30 21:30:26,917: Qubit 37 adicionado à memória do Host 3.\n",
      "2024-06-30 21:30:26,917: Qubit 37 criado com fidelidade inicial 0.054347654619961605 e adicionado à memória do Host 3.\n",
      "2024-06-30 21:30:26,918: Qubit 38 adicionado à memória do Host 3.\n",
      "2024-06-30 21:30:26,919: Qubit 38 criado com fidelidade inicial 0.9846397492922575 e adicionado à memória do Host 3.\n",
      "2024-06-30 21:30:26,919: Qubit 39 adicionado à memória do Host 3.\n",
      "2024-06-30 21:30:26,919: Qubit 39 criado com fidelidade inicial 0.009874879654828028 e adicionado à memória do Host 3.\n",
      "2024-06-30 21:30:26,920: Qubit 40 adicionado à memória do Host 4.\n",
      "2024-06-30 21:30:26,920: Qubit 40 criado com fidelidade inicial 0.19876977226894543 e adicionado à memória do Host 4.\n",
      "2024-06-30 21:30:26,920: Qubit 41 adicionado à memória do Host 4.\n",
      "2024-06-30 21:30:26,921: Qubit 41 criado com fidelidade inicial 0.47237058106388696 e adicionado à memória do Host 4.\n",
      "2024-06-30 21:30:26,922: Qubit 42 adicionado à memória do Host 4.\n",
      "2024-06-30 21:30:26,922: Qubit 42 criado com fidelidade inicial 0.8544726047771325 e adicionado à memória do Host 4.\n",
      "2024-06-30 21:30:26,922: Qubit 43 adicionado à memória do Host 4.\n",
      "2024-06-30 21:30:26,923: Qubit 43 criado com fidelidade inicial 0.09584830338738282 e adicionado à memória do Host 4.\n",
      "2024-06-30 21:30:26,923: Qubit 44 adicionado à memória do Host 4.\n",
      "2024-06-30 21:30:26,923: Qubit 44 criado com fidelidade inicial 0.357061353354991 e adicionado à memória do Host 4.\n",
      "2024-06-30 21:30:26,924: Qubit 45 adicionado à memória do Host 4.\n",
      "2024-06-30 21:30:26,924: Qubit 45 criado com fidelidade inicial 0.8968063113519512 e adicionado à memória do Host 4.\n",
      "2024-06-30 21:30:26,924: Qubit 46 adicionado à memória do Host 4.\n",
      "2024-06-30 21:30:26,926: Qubit 46 criado com fidelidade inicial 0.6732674053999377 e adicionado à memória do Host 4.\n",
      "2024-06-30 21:30:26,926: Qubit 47 adicionado à memória do Host 4.\n",
      "2024-06-30 21:30:26,928: Qubit 47 criado com fidelidade inicial 0.7232633530511908 e adicionado à memória do Host 4.\n",
      "2024-06-30 21:30:26,928: Qubit 48 adicionado à memória do Host 4.\n",
      "2024-06-30 21:30:26,929: Qubit 48 criado com fidelidade inicial 0.6828238332163874 e adicionado à memória do Host 4.\n",
      "2024-06-30 21:30:26,929: Qubit 49 adicionado à memória do Host 4.\n",
      "2024-06-30 21:30:26,930: Qubit 49 criado com fidelidade inicial 0.12113562128927136 e adicionado à memória do Host 4.\n",
      "2024-06-30 21:30:26,930: Qubit 50 adicionado à memória do Host 5.\n",
      "2024-06-30 21:30:26,931: Qubit 50 criado com fidelidade inicial 0.3089343423228925 e adicionado à memória do Host 5.\n",
      "2024-06-30 21:30:26,932: Qubit 51 adicionado à memória do Host 5.\n",
      "2024-06-30 21:30:26,932: Qubit 51 criado com fidelidade inicial 0.4012374459522442 e adicionado à memória do Host 5.\n",
      "2024-06-30 21:30:26,933: Qubit 52 adicionado à memória do Host 5.\n",
      "2024-06-30 21:30:26,933: Qubit 52 criado com fidelidade inicial 0.7345748519357969 e adicionado à memória do Host 5.\n",
      "2024-06-30 21:30:26,934: Qubit 53 adicionado à memória do Host 5.\n",
      "2024-06-30 21:30:26,934: Qubit 53 criado com fidelidade inicial 0.03533697429999816 e adicionado à memória do Host 5.\n",
      "2024-06-30 21:30:26,934: Qubit 54 adicionado à memória do Host 5.\n",
      "2024-06-30 21:30:26,935: Qubit 54 criado com fidelidade inicial 0.416314872716535 e adicionado à memória do Host 5.\n",
      "2024-06-30 21:30:26,935: Qubit 55 adicionado à memória do Host 5.\n",
      "2024-06-30 21:30:26,936: Qubit 55 criado com fidelidade inicial 0.6606049158624706 e adicionado à memória do Host 5.\n",
      "2024-06-30 21:30:26,937: Qubit 56 adicionado à memória do Host 5.\n",
      "2024-06-30 21:30:26,937: Qubit 56 criado com fidelidade inicial 0.923669966708 e adicionado à memória do Host 5.\n",
      "2024-06-30 21:30:26,938: Qubit 57 adicionado à memória do Host 5.\n",
      "2024-06-30 21:30:26,939: Qubit 57 criado com fidelidade inicial 0.45581189040499615 e adicionado à memória do Host 5.\n",
      "2024-06-30 21:30:26,939: Qubit 58 adicionado à memória do Host 5.\n",
      "2024-06-30 21:30:26,939: Qubit 58 criado com fidelidade inicial 0.8205027101805343 e adicionado à memória do Host 5.\n",
      "2024-06-30 21:30:26,940: Qubit 59 adicionado à memória do Host 5.\n",
      "2024-06-30 21:30:26,940: Qubit 59 criado com fidelidade inicial 0.5859046090719624 e adicionado à memória do Host 5.\n",
      "2024-06-30 21:30:26,941: Qubit 60 adicionado à memória do Host 6.\n",
      "2024-06-30 21:30:26,941: Qubit 60 criado com fidelidade inicial 0.10211081882125328 e adicionado à memória do Host 6.\n",
      "2024-06-30 21:30:26,941: Qubit 61 adicionado à memória do Host 6.\n",
      "2024-06-30 21:30:26,942: Qubit 61 criado com fidelidade inicial 0.6511582861149557 e adicionado à memória do Host 6.\n",
      "2024-06-30 21:30:26,943: Qubit 62 adicionado à memória do Host 6.\n",
      "2024-06-30 21:30:26,943: Qubit 62 criado com fidelidade inicial 0.9048867501117638 e adicionado à memória do Host 6.\n",
      "2024-06-30 21:30:26,943: Qubit 63 adicionado à memória do Host 6.\n",
      "2024-06-30 21:30:26,944: Qubit 63 criado com fidelidade inicial 0.795925807043362 e adicionado à memória do Host 6.\n",
      "2024-06-30 21:30:26,945: Qubit 64 adicionado à memória do Host 6.\n",
      "2024-06-30 21:30:26,945: Qubit 64 criado com fidelidade inicial 0.0007650836585733067 e adicionado à memória do Host 6.\n",
      "2024-06-30 21:30:26,946: Qubit 65 adicionado à memória do Host 6.\n",
      "2024-06-30 21:30:26,947: Qubit 65 criado com fidelidade inicial 0.7901151832557712 e adicionado à memória do Host 6.\n",
      "2024-06-30 21:30:26,948: Qubit 66 adicionado à memória do Host 6.\n",
      "2024-06-30 21:30:26,948: Qubit 66 criado com fidelidade inicial 0.8380305138534078 e adicionado à memória do Host 6.\n",
      "2024-06-30 21:30:26,949: Qubit 67 adicionado à memória do Host 6.\n",
      "2024-06-30 21:30:26,950: Qubit 67 criado com fidelidade inicial 0.27977973990683047 e adicionado à memória do Host 6.\n",
      "2024-06-30 21:30:26,951: Qubit 68 adicionado à memória do Host 6.\n",
      "2024-06-30 21:30:26,951: Qubit 68 criado com fidelidade inicial 0.9988950808372612 e adicionado à memória do Host 6.\n",
      "2024-06-30 21:30:26,952: Qubit 69 adicionado à memória do Host 6.\n",
      "2024-06-30 21:30:26,953: Qubit 69 criado com fidelidade inicial 0.6295008444182575 e adicionado à memória do Host 6.\n",
      "2024-06-30 21:30:26,954: Qubit 70 adicionado à memória do Host 7.\n",
      "2024-06-30 21:30:26,954: Qubit 70 criado com fidelidade inicial 0.4350903890152801 e adicionado à memória do Host 7.\n",
      "2024-06-30 21:30:26,955: Qubit 71 adicionado à memória do Host 7.\n",
      "2024-06-30 21:30:26,955: Qubit 71 criado com fidelidade inicial 0.5173498989483674 e adicionado à memória do Host 7.\n",
      "2024-06-30 21:30:26,957: Qubit 72 adicionado à memória do Host 7.\n",
      "2024-06-30 21:30:26,958: Qubit 72 criado com fidelidade inicial 0.37059793073148495 e adicionado à memória do Host 7.\n",
      "2024-06-30 21:30:26,958: Qubit 73 adicionado à memória do Host 7.\n",
      "2024-06-30 21:30:26,959: Qubit 73 criado com fidelidade inicial 0.7529251644125126 e adicionado à memória do Host 7.\n",
      "2024-06-30 21:30:26,959: Qubit 74 adicionado à memória do Host 7.\n",
      "2024-06-30 21:30:26,960: Qubit 74 criado com fidelidade inicial 0.06524910949228868 e adicionado à memória do Host 7.\n",
      "2024-06-30 21:30:26,960: Qubit 75 adicionado à memória do Host 7.\n",
      "2024-06-30 21:30:26,960: Qubit 75 criado com fidelidade inicial 0.31477956508440597 e adicionado à memória do Host 7.\n",
      "2024-06-30 21:30:26,961: Qubit 76 adicionado à memória do Host 7.\n",
      "2024-06-30 21:30:26,961: Qubit 76 criado com fidelidade inicial 0.1251154978095642 e adicionado à memória do Host 7.\n",
      "2024-06-30 21:30:26,962: Qubit 77 adicionado à memória do Host 7.\n",
      "2024-06-30 21:30:26,962: Qubit 77 criado com fidelidade inicial 0.009955282459456205 e adicionado à memória do Host 7.\n",
      "2024-06-30 21:30:26,962: Qubit 78 adicionado à memória do Host 7.\n",
      "2024-06-30 21:30:26,963: Qubit 78 criado com fidelidade inicial 0.057436655935193426 e adicionado à memória do Host 7.\n",
      "2024-06-30 21:30:26,963: Qubit 79 adicionado à memória do Host 7.\n",
      "2024-06-30 21:30:26,965: Qubit 79 criado com fidelidade inicial 0.7968099601220043 e adicionado à memória do Host 7.\n",
      "2024-06-30 21:30:26,967: Qubit 80 adicionado à memória do Host 8.\n",
      "2024-06-30 21:30:26,968: Qubit 80 criado com fidelidade inicial 0.060130138245840126 e adicionado à memória do Host 8.\n",
      "2024-06-30 21:30:26,969: Qubit 81 adicionado à memória do Host 8.\n",
      "2024-06-30 21:30:26,970: Qubit 81 criado com fidelidade inicial 0.9040319900583185 e adicionado à memória do Host 8.\n",
      "2024-06-30 21:30:26,970: Qubit 82 adicionado à memória do Host 8.\n",
      "2024-06-30 21:30:26,971: Qubit 82 criado com fidelidade inicial 0.5979771347047449 e adicionado à memória do Host 8.\n",
      "2024-06-30 21:30:26,971: Qubit 83 adicionado à memória do Host 8.\n",
      "2024-06-30 21:30:26,972: Qubit 83 criado com fidelidade inicial 0.5185438720353192 e adicionado à memória do Host 8.\n",
      "2024-06-30 21:30:26,972: Qubit 84 adicionado à memória do Host 8.\n",
      "2024-06-30 21:30:26,972: Qubit 84 criado com fidelidade inicial 0.1398201209628035 e adicionado à memória do Host 8.\n",
      "2024-06-30 21:30:26,973: Qubit 85 adicionado à memória do Host 8.\n",
      "2024-06-30 21:30:26,973: Qubit 85 criado com fidelidade inicial 0.5287613864814943 e adicionado à memória do Host 8.\n",
      "2024-06-30 21:30:26,974: Qubit 86 adicionado à memória do Host 8.\n",
      "2024-06-30 21:30:26,974: Qubit 86 criado com fidelidade inicial 0.3869830936458297 e adicionado à memória do Host 8.\n",
      "2024-06-30 21:30:26,974: Qubit 87 adicionado à memória do Host 8.\n",
      "2024-06-30 21:30:26,975: Qubit 87 criado com fidelidade inicial 0.4550277126130654 e adicionado à memória do Host 8.\n",
      "2024-06-30 21:30:26,975: Qubit 88 adicionado à memória do Host 8.\n",
      "2024-06-30 21:30:26,976: Qubit 88 criado com fidelidade inicial 0.5518777176015356 e adicionado à memória do Host 8.\n",
      "2024-06-30 21:30:26,976: Qubit 89 adicionado à memória do Host 8.\n",
      "2024-06-30 21:30:26,977: Qubit 89 criado com fidelidade inicial 0.6215795006332124 e adicionado à memória do Host 8.\n",
      "2024-06-30 21:30:26,979: Par EPR <quantumnet.objects.epr.Epr object at 0x000001F338FD7650> adicionado ao canal.\n",
      "2024-06-30 21:30:26,980: Par EPR <quantumnet.objects.epr.Epr object at 0x000001F338FCB950> adicionado ao canal.\n",
      "2024-06-30 21:30:26,981: Par EPR <quantumnet.objects.epr.Epr object at 0x000001F3384C70D0> adicionado ao canal.\n",
      "2024-06-30 21:30:26,981: Par EPR <quantumnet.objects.epr.Epr object at 0x000001F338FB3C50> adicionado ao canal.\n",
      "2024-06-30 21:30:26,982: Par EPR <quantumnet.objects.epr.Epr object at 0x000001F338FB1010> adicionado ao canal.\n",
      "2024-06-30 21:30:26,983: Par EPR <quantumnet.objects.epr.Epr object at 0x000001F338FCCF10> adicionado ao canal.\n",
      "2024-06-30 21:30:26,983: Par EPR <quantumnet.objects.epr.Epr object at 0x000001F338FC3410> adicionado ao canal.\n",
      "2024-06-30 21:30:26,983: Par EPR <quantumnet.objects.epr.Epr object at 0x000001F338FB3310> adicionado ao canal.\n",
      "2024-06-30 21:30:26,984: Par EPR <quantumnet.objects.epr.Epr object at 0x000001F338990350> adicionado ao canal.\n",
      "2024-06-30 21:30:26,984: Par EPR <quantumnet.objects.epr.Epr object at 0x000001F338FB7FD0> adicionado ao canal.\n",
      "2024-06-30 21:30:26,985: Par EPR <quantumnet.objects.epr.Epr object at 0x000001F338FC0750> adicionado ao canal.\n",
      "2024-06-30 21:30:26,986: Par EPR <quantumnet.objects.epr.Epr object at 0x000001F338FD77D0> adicionado ao canal.\n",
      "2024-06-30 21:30:26,986: Par EPR <quantumnet.objects.epr.Epr object at 0x000001F338FD7D50> adicionado ao canal.\n",
      "2024-06-30 21:30:26,987: Par EPR <quantumnet.objects.epr.Epr object at 0x000001F338FD7E10> adicionado ao canal.\n",
      "2024-06-30 21:30:26,987: Par EPR <quantumnet.objects.epr.Epr object at 0x000001F338FB10D0> adicionado ao canal.\n",
      "2024-06-30 21:30:26,988: Par EPR <quantumnet.objects.epr.Epr object at 0x000001F338FE03D0> adicionado ao canal.\n",
      "2024-06-30 21:30:26,988: Par EPR <quantumnet.objects.epr.Epr object at 0x000001F338FE0950> adicionado ao canal.\n",
      "2024-06-30 21:30:26,989: Par EPR <quantumnet.objects.epr.Epr object at 0x000001F3384D1690> adicionado ao canal.\n",
      "2024-06-30 21:30:26,989: Par EPR <quantumnet.objects.epr.Epr object at 0x000001F338FCA7D0> adicionado ao canal.\n",
      "2024-06-30 21:30:26,990: Par EPR <quantumnet.objects.epr.Epr object at 0x000001F338FC1050> adicionado ao canal.\n",
      "2024-06-30 21:30:26,990: Par EPR <quantumnet.objects.epr.Epr object at 0x000001F338FE0550> adicionado ao canal.\n",
      "2024-06-30 21:30:26,990: Par EPR <quantumnet.objects.epr.Epr object at 0x000001F338FC9C50> adicionado ao canal.\n",
      "2024-06-30 21:30:26,991: Par EPR <quantumnet.objects.epr.Epr object at 0x000001F338FC1C90> adicionado ao canal.\n",
      "2024-06-30 21:30:26,991: Par EPR <quantumnet.objects.epr.Epr object at 0x000001F338FE0B90> adicionado ao canal.\n",
      "2024-06-30 21:30:26,991: Par EPR <quantumnet.objects.epr.Epr object at 0x000001F338FE1ED0> adicionado ao canal.\n",
      "2024-06-30 21:30:26,993: Par EPR <quantumnet.objects.epr.Epr object at 0x000001F338FB2350> adicionado ao canal.\n",
      "2024-06-30 21:30:26,994: Par EPR <quantumnet.objects.epr.Epr object at 0x000001F338FC2250> adicionado ao canal.\n",
      "2024-06-30 21:30:26,994: Par EPR <quantumnet.objects.epr.Epr object at 0x000001F338FE2550> adicionado ao canal.\n",
      "2024-06-30 21:30:26,995: Par EPR <quantumnet.objects.epr.Epr object at 0x000001F338FE1890> adicionado ao canal.\n",
      "2024-06-30 21:30:26,995: Par EPR <quantumnet.objects.epr.Epr object at 0x000001F338FE1710> adicionado ao canal.\n",
      "2024-06-30 21:30:26,996: Par EPR <quantumnet.objects.epr.Epr object at 0x000001F338FE2090> adicionado ao canal.\n",
      "2024-06-30 21:30:26,996: Par EPR <quantumnet.objects.epr.Epr object at 0x000001F338FE1A10> adicionado ao canal.\n",
      "2024-06-30 21:30:26,998: Par EPR <quantumnet.objects.epr.Epr object at 0x000001F338FB2C90> adicionado ao canal.\n",
      "2024-06-30 21:30:26,999: Par EPR <quantumnet.objects.epr.Epr object at 0x000001F338FC2A50> adicionado ao canal.\n",
      "2024-06-30 21:30:27,000: Par EPR <quantumnet.objects.epr.Epr object at 0x000001F338FC2BD0> adicionado ao canal.\n",
      "2024-06-30 21:30:27,001: Par EPR <quantumnet.objects.epr.Epr object at 0x000001F3384C3190> adicionado ao canal.\n",
      "2024-06-30 21:30:27,001: Par EPR <quantumnet.objects.epr.Epr object at 0x000001F338FCB350> adicionado ao canal.\n",
      "2024-06-30 21:30:27,002: Par EPR <quantumnet.objects.epr.Epr object at 0x000001F338FB3550> adicionado ao canal.\n",
      "2024-06-30 21:30:27,003: Par EPR <quantumnet.objects.epr.Epr object at 0x000001F338FC0B90> adicionado ao canal.\n",
      "2024-06-30 21:30:27,004: Par EPR <quantumnet.objects.epr.Epr object at 0x000001F338FC2FD0> adicionado ao canal.\n",
      "2024-06-30 21:30:27,004: Par EPR <quantumnet.objects.epr.Epr object at 0x000001F338FCB510> adicionado ao canal.\n",
      "2024-06-30 21:30:27,005: Par EPR <quantumnet.objects.epr.Epr object at 0x000001F338FC3A50> adicionado ao canal.\n",
      "2024-06-30 21:30:27,006: Par EPR <quantumnet.objects.epr.Epr object at 0x000001F338FE3C50> adicionado ao canal.\n",
      "2024-06-30 21:30:27,006: Par EPR <quantumnet.objects.epr.Epr object at 0x000001F338FE30D0> adicionado ao canal.\n",
      "2024-06-30 21:30:27,007: Par EPR <quantumnet.objects.epr.Epr object at 0x000001F338FE31D0> adicionado ao canal.\n",
      "2024-06-30 21:30:27,009: Par EPR <quantumnet.objects.epr.Epr object at 0x000001F338FE3A90> adicionado ao canal.\n",
      "2024-06-30 21:30:27,009: Par EPR <quantumnet.objects.epr.Epr object at 0x000001F338FE2810> adicionado ao canal.\n",
      "2024-06-30 21:30:27,010: Par EPR <quantumnet.objects.epr.Epr object at 0x000001F338FCC610> adicionado ao canal.\n",
      "2024-06-30 21:30:27,010: Par EPR <quantumnet.objects.epr.Epr object at 0x000001F338FE3F10> adicionado ao canal.\n",
      "2024-06-30 21:30:27,011: Par EPR <quantumnet.objects.epr.Epr object at 0x000001F338FE01D0> adicionado ao canal.\n",
      "2024-06-30 21:30:27,011: Par EPR <quantumnet.objects.epr.Epr object at 0x000001F338FE3B50> adicionado ao canal.\n",
      "2024-06-30 21:30:27,012: Par EPR <quantumnet.objects.epr.Epr object at 0x000001F338FB4DD0> adicionado ao canal.\n",
      "2024-06-30 21:30:27,012: Par EPR <quantumnet.objects.epr.Epr object at 0x000001F338FCF590> adicionado ao canal.\n",
      "2024-06-30 21:30:27,013: Par EPR <quantumnet.objects.epr.Epr object at 0x000001F338FCF850> adicionado ao canal.\n",
      "2024-06-30 21:30:27,014: Par EPR <quantumnet.objects.epr.Epr object at 0x000001F338FCCF90> adicionado ao canal.\n",
      "2024-06-30 21:30:27,014: Par EPR <quantumnet.objects.epr.Epr object at 0x000001F338FB5250> adicionado ao canal.\n",
      "2024-06-30 21:30:27,015: Par EPR <quantumnet.objects.epr.Epr object at 0x000001F338FD5690> adicionado ao canal.\n",
      "2024-06-30 21:30:27,015: Par EPR <quantumnet.objects.epr.Epr object at 0x000001F338FB6210> adicionado ao canal.\n",
      "2024-06-30 21:30:27,016: Par EPR <quantumnet.objects.epr.Epr object at 0x000001F338FB5850> adicionado ao canal.\n",
      "2024-06-30 21:30:27,016: Par EPR <quantumnet.objects.epr.Epr object at 0x000001F338FCCE50> adicionado ao canal.\n",
      "2024-06-30 21:30:27,017: Par EPR <quantumnet.objects.epr.Epr object at 0x000001F338FDCC90> adicionado ao canal.\n",
      "2024-06-30 21:30:27,018: Par EPR <quantumnet.objects.epr.Epr object at 0x000001F338FD6110> adicionado ao canal.\n",
      "2024-06-30 21:30:27,018: Par EPR <quantumnet.objects.epr.Epr object at 0x000001F338FD52D0> adicionado ao canal.\n",
      "2024-06-30 21:30:27,019: Par EPR <quantumnet.objects.epr.Epr object at 0x000001F338FDD490> adicionado ao canal.\n",
      "2024-06-30 21:30:27,019: Par EPR <quantumnet.objects.epr.Epr object at 0x000001F338FDDD10> adicionado ao canal.\n",
      "2024-06-30 21:30:27,021: Par EPR <quantumnet.objects.epr.Epr object at 0x000001F338FCE7D0> adicionado ao canal.\n",
      "2024-06-30 21:30:27,021: Par EPR <quantumnet.objects.epr.Epr object at 0x000001F338FD68D0> adicionado ao canal.\n",
      "2024-06-30 21:30:27,021: Par EPR <quantumnet.objects.epr.Epr object at 0x000001F338FD6650> adicionado ao canal.\n",
      "2024-06-30 21:30:27,021: Par EPR <quantumnet.objects.epr.Epr object at 0x000001F338FB6010> adicionado ao canal.\n",
      "2024-06-30 21:30:27,022: Par EPR <quantumnet.objects.epr.Epr object at 0x000001F338FD69D0> adicionado ao canal.\n",
      "2024-06-30 21:30:27,022: Par EPR <quantumnet.objects.epr.Epr object at 0x000001F338FDDF10> adicionado ao canal.\n",
      "2024-06-30 21:30:27,023: Par EPR <quantumnet.objects.epr.Epr object at 0x000001F338FCF010> adicionado ao canal.\n",
      "2024-06-30 21:30:27,024: Par EPR <quantumnet.objects.epr.Epr object at 0x000001F338FCE350> adicionado ao canal.\n",
      "2024-06-30 21:30:27,025: Par EPR <quantumnet.objects.epr.Epr object at 0x000001F338FB7250> adicionado ao canal.\n",
      "2024-06-30 21:30:27,025: Par EPR <quantumnet.objects.epr.Epr object at 0x000001F338FD7150> adicionado ao canal.\n",
      "2024-06-30 21:30:27,025: Par EPR <quantumnet.objects.epr.Epr object at 0x000001F338FB46D0> adicionado ao canal.\n",
      "2024-06-30 21:30:27,026: Par EPR <quantumnet.objects.epr.Epr object at 0x000001F338FB7850> adicionado ao canal.\n",
      "2024-06-30 21:30:27,027: Par EPR <quantumnet.objects.epr.Epr object at 0x000001F338FB4590> adicionado ao canal.\n",
      "2024-06-30 21:30:27,028: Par EPR <quantumnet.objects.epr.Epr object at 0x000001F338FCF910> adicionado ao canal.\n",
      "2024-06-30 21:30:27,028: Par EPR <quantumnet.objects.epr.Epr object at 0x000001F338FCF510> adicionado ao canal.\n",
      "2024-06-30 21:30:27,029: Par EPR <quantumnet.objects.epr.Epr object at 0x000001F338FB7E10> adicionado ao canal.\n",
      "2024-06-30 21:30:27,029: Par EPR <quantumnet.objects.epr.Epr object at 0x000001F338FDC150> adicionado ao canal.\n",
      "2024-06-30 21:30:27,029: Par EPR <quantumnet.objects.epr.Epr object at 0x000001F338FCFCD0> adicionado ao canal.\n",
      "2024-06-30 21:30:27,030: Par EPR <quantumnet.objects.epr.Epr object at 0x000001F338FC8210> adicionado ao canal.\n",
      "2024-06-30 21:30:27,030: Par EPR <quantumnet.objects.epr.Epr object at 0x000001F338FDFB10> adicionado ao canal.\n",
      "2024-06-30 21:30:27,030: Par EPR <quantumnet.objects.epr.Epr object at 0x000001F338FD4C90> adicionado ao canal.\n",
      "2024-06-30 21:30:27,031: Par EPR <quantumnet.objects.epr.Epr object at 0x000001F338FD4110> adicionado ao canal.\n",
      "2024-06-30 21:30:27,031: Par EPR <quantumnet.objects.epr.Epr object at 0x000001F338FDFC50> adicionado ao canal.\n",
      "2024-06-30 21:30:27,032: Par EPR <quantumnet.objects.epr.Epr object at 0x000001F338FDF090> adicionado ao canal.\n",
      "2024-06-30 21:30:27,033: Par EPR <quantumnet.objects.epr.Epr object at 0x000001F338FDFE90> adicionado ao canal.\n",
      "2024-06-30 21:30:27,033: Par EPR <quantumnet.objects.epr.Epr object at 0x000001F338FDEE90> adicionado ao canal.\n",
      "2024-06-30 21:30:27,034: Par EPR <quantumnet.objects.epr.Epr object at 0x000001F338FC8A50> adicionado ao canal.\n",
      "2024-06-30 21:30:27,035: Par EPR <quantumnet.objects.epr.Epr object at 0x000001F338FE8390> adicionado ao canal.\n",
      "2024-06-30 21:30:27,035: Par EPR <quantumnet.objects.epr.Epr object at 0x000001F338FE8E10> adicionado ao canal.\n",
      "2024-06-30 21:30:27,036: Par EPR <quantumnet.objects.epr.Epr object at 0x000001F338FE16D0> adicionado ao canal.\n",
      "2024-06-30 21:30:27,036: Par EPR <quantumnet.objects.epr.Epr object at 0x000001F338FC2A90> adicionado ao canal.\n",
      "2024-06-30 21:30:27,037: Par EPR <quantumnet.objects.epr.Epr object at 0x000001F338FC1890> adicionado ao canal.\n",
      "2024-06-30 21:30:27,038: Par EPR <quantumnet.objects.epr.Epr object at 0x000001F338FC1910> adicionado ao canal.\n",
      "2024-06-30 21:30:27,039: Par EPR <quantumnet.objects.epr.Epr object at 0x000001F338FC9590> adicionado ao canal.\n",
      "2024-06-30 21:30:27,040: Par EPR <quantumnet.objects.epr.Epr object at 0x000001F338FE1410> adicionado ao canal.\n",
      "2024-06-30 21:30:27,040: Par EPR <quantumnet.objects.epr.Epr object at 0x000001F338FB1050> adicionado ao canal.\n",
      "2024-06-30 21:30:27,041: Par EPR <quantumnet.objects.epr.Epr object at 0x000001F338FCA3D0> adicionado ao canal.\n",
      "2024-06-30 21:30:27,041: Par EPR <quantumnet.objects.epr.Epr object at 0x000001F338FE2350> adicionado ao canal.\n",
      "2024-06-30 21:30:27,042: Par EPR <quantumnet.objects.epr.Epr object at 0x000001F338FE1810> adicionado ao canal.\n",
      "2024-06-30 21:30:27,042: Par EPR <quantumnet.objects.epr.Epr object at 0x000001F338FB2710> adicionado ao canal.\n",
      "2024-06-30 21:30:27,042: Par EPR <quantumnet.objects.epr.Epr object at 0x000001F338FB2750> adicionado ao canal.\n",
      "2024-06-30 21:30:27,043: Par EPR <quantumnet.objects.epr.Epr object at 0x000001F338FB2910> adicionado ao canal.\n",
      "2024-06-30 21:30:27,049: Par EPR <quantumnet.objects.epr.Epr object at 0x000001F338FE2C90> adicionado ao canal.\n",
      "2024-06-30 21:30:27,053: Par EPR <quantumnet.objects.epr.Epr object at 0x000001F338FE2A50> adicionado ao canal.\n",
      "2024-06-30 21:30:27,054: Par EPR <quantumnet.objects.epr.Epr object at 0x000001F3384A2D50> adicionado ao canal.\n",
      "2024-06-30 21:30:27,055: Par EPR <quantumnet.objects.epr.Epr object at 0x000001F338FCA1D0> adicionado ao canal.\n",
      "2024-06-30 21:30:27,056: Par EPR <quantumnet.objects.epr.Epr object at 0x000001F3384ACB50> adicionado ao canal.\n",
      "2024-06-30 21:30:27,058: Par EPR <quantumnet.objects.epr.Epr object at 0x000001F3384BA850> adicionado ao canal.\n",
      "2024-06-30 21:30:27,064: Par EPR <quantumnet.objects.epr.Epr object at 0x000001F33897CD50> adicionado ao canal.\n",
      "2024-06-30 21:30:27,089: Par EPR <quantumnet.objects.epr.Epr object at 0x000001F338FCADD0> adicionado ao canal.\n",
      "2024-06-30 21:30:27,090: Par EPR <quantumnet.objects.epr.Epr object at 0x000001F33897CD90> adicionado ao canal.\n",
      "2024-06-30 21:30:27,090: Par EPR <quantumnet.objects.epr.Epr object at 0x000001F338FC88D0> adicionado ao canal.\n",
      "2024-06-30 21:30:27,091: Par EPR <quantumnet.objects.epr.Epr object at 0x000001F338FC9550> adicionado ao canal.\n",
      "2024-06-30 21:30:27,091: Par EPR <quantumnet.objects.epr.Epr object at 0x000001F33896EC50> adicionado ao canal.\n",
      "2024-06-30 21:30:27,092: Par EPR <quantumnet.objects.epr.Epr object at 0x000001F338FDFC10> adicionado ao canal.\n"
     ]
    },
    {
     "name": "stdout",
     "output_type": "stream",
     "text": [
      "Hosts inicializados\n",
      "Canais inicializados\n",
      "Pares EPRs adicionados\n"
     ]
    },
    {
     "data": {
      "image/png": "[encoded data removed]",
      "text/plain": [
       "<Figure size 640x480 with 1 Axes>"
      ]
     },
     "metadata": {},
     "output_type": "display_data"
    }
   ],
   "source": [
    "rede = Network()\n",
    "rede.set_ready_topology(\"Grade\", 3,3)\n",
    "rede.draw()"
   ]
  },
  {
   "cell_type": "markdown",
   "metadata": {},
   "source": [
    "##### Selecionando aleatoriamente uma aresta do grafo da rede e deseguinando quem será Alice e Bob."
   ]
  },
  {
   "cell_type": "code",
   "execution_count": 3,
   "metadata": {},
   "outputs": [],
   "source": [
    "arestas = list(rede.edges)\n",
    "aresta_aleatorias = random.sample(arestas, 1)[0]\n",
    "x,y = aresta_aleatorias\n",
    "\n",
    "alice = rede.get_host(x)\n",
    "bob = rede.get_host(y)"
   ]
  },
  {
   "cell_type": "markdown",
   "metadata": {},
   "source": [
    "##### Adicionando qubits aos hosts."
   ]
  },
  {
   "cell_type": "code",
   "execution_count": 4,
   "metadata": {},
   "outputs": [
    {
     "name": "stderr",
     "output_type": "stream",
     "text": [
      "2024-06-30 21:30:27,817: Qubit 1 adicionado à memória do Host 2.\n",
      "2024-06-30 21:30:27,818: Qubit 2 adicionado à memória do Host 5.\n"
     ]
    }
   ],
   "source": [
    "h1 = Qubit(1)\n",
    "h2 = Qubit(2)\n",
    "\n",
    "alice.add_qubit(h1)\n",
    "bob.add_qubit(h2)"
   ]
  },
  {
   "cell_type": "markdown",
   "metadata": {},
   "source": [
    "##### Acessando a memória dos Hosts."
   ]
  },
  {
   "cell_type": "code",
   "execution_count": 5,
   "metadata": {},
   "outputs": [
    {
     "name": "stdout",
     "output_type": "stream",
     "text": [
      "[<quantumnet.objects.qubit.Qubit object at 0x000001F338FB4D90>, <quantumnet.objects.qubit.Qubit object at 0x000001F338FB5050>, <quantumnet.objects.qubit.Qubit object at 0x000001F338FB4310>, <quantumnet.objects.qubit.Qubit object at 0x000001F338FB5190>, <quantumnet.objects.qubit.Qubit object at 0x000001F338FB6B10>, <quantumnet.objects.qubit.Qubit object at 0x000001F338FB0110>, <quantumnet.objects.qubit.Qubit object at 0x000001F338FB7510>, <quantumnet.objects.qubit.Qubit object at 0x000001F338FB7D90>, <quantumnet.objects.qubit.Qubit object at 0x000001F33896DC90>, <quantumnet.objects.qubit.Qubit object at 0x000001F338FB6DD0>, <quantumnet.objects.qubit.Qubit object at 0x000001F3493904D0>]\n",
      "[<quantumnet.objects.qubit.Qubit object at 0x000001F338FB1C90>, <quantumnet.objects.qubit.Qubit object at 0x000001F338FC1B90>, <quantumnet.objects.qubit.Qubit object at 0x000001F338FC2E90>, <quantumnet.objects.qubit.Qubit object at 0x000001F338FC26D0>, <quantumnet.objects.qubit.Qubit object at 0x000001F338FB2DD0>, <quantumnet.objects.qubit.Qubit object at 0x000001F338FC28D0>, <quantumnet.objects.qubit.Qubit object at 0x000001F338FB0650>, <quantumnet.objects.qubit.Qubit object at 0x000001F338FC2010>, <quantumnet.objects.qubit.Qubit object at 0x000001F338FC2D90>, <quantumnet.objects.qubit.Qubit object at 0x000001F338FB2A10>, <quantumnet.objects.qubit.Qubit object at 0x000001F3493D1510>]\n"
     ]
    }
   ],
   "source": [
    "print(alice.memory)\n",
    "print(bob.memory)"
   ]
  },
  {
   "cell_type": "markdown",
   "metadata": {},
   "source": [
    "##### Obtendo o útimo qubit de um dos hosts"
   ]
  },
  {
   "cell_type": "code",
   "execution_count": 6,
   "metadata": {},
   "outputs": [],
   "source": [
    "qub1 = alice.get_last_qubit()\n"
   ]
  },
  {
   "cell_type": "markdown",
   "metadata": {},
   "source": [
    "##### Medindo a fidelidade entre dois qubits\n"
   ]
  },
  {
   "cell_type": "code",
   "execution_count": 7,
   "metadata": {},
   "outputs": [
    {
     "name": "stderr",
     "output_type": "stream",
     "text": [
      "2024-06-30 21:30:27,843: A fidelidade entre o qubit Qubit 1 with state None e o qubit Qubit 2 with state None é 0.1437343776946986\n"
     ]
    },
    {
     "data": {
      "text/plain": [
       "0.1437343776946986"
      ]
     },
     "execution_count": 7,
     "metadata": {},
     "output_type": "execute_result"
    }
   ],
   "source": [
    "#Pode medir a fidelidade por meio dessa função\n",
    "rede.physical.fidelity_measurement(h1,h2)"
   ]
  },
  {
   "cell_type": "markdown",
   "metadata": {},
   "source": [
    "##### Medindo a fidelidade de um qubit\n"
   ]
  },
  {
   "cell_type": "code",
   "execution_count": 8,
   "metadata": {},
   "outputs": [
    {
     "name": "stderr",
     "output_type": "stream",
     "text": [
      "2024-06-30 21:30:27,856: A fidelidade do qubit Qubit 1 with state None é 0.16284071317863757\n"
     ]
    },
    {
     "data": {
      "text/plain": [
       "0.16284071317863757"
      ]
     },
     "execution_count": 8,
     "metadata": {},
     "output_type": "execute_result"
    }
   ],
   "source": [
    "#Pode se medir a fidelidade e acessar de somente um host\n",
    "rede.physical.fidelity_measurement_only_one(h1)"
   ]
  },
  {
   "cell_type": "markdown",
   "metadata": {},
   "source": [
    "##### Criação do protocolo de entrelaçamento entre dois qubits"
   ]
  },
  {
   "cell_type": "code",
   "execution_count": 9,
   "metadata": {},
   "outputs": [
    {
     "name": "stderr",
     "output_type": "stream",
     "text": [
      "2024-06-30 21:30:29,520: A fidelidade entre o qubit Qubit 29 with state None e o qubit Qubit 2 with state None é 0.6080625459904119\n",
      "2024-06-30 21:30:29,521: O protocolo de criação de emaranhamento foi bem sucedido, mas com fidelidade baixa.\n"
     ]
    },
    {
     "data": {
      "text/plain": [
       "False"
      ]
     },
     "execution_count": 9,
     "metadata": {},
     "output_type": "execute_result"
    }
   ],
   "source": [
    "rede.physical.entanglement_creation_heralding_protocol(alice,bob)"
   ]
  },
  {
   "cell_type": "markdown",
   "metadata": {},
   "source": [
    "##### Realiza-se o primeiro protocolo, on demand, que através da fidelidade inicial e da probabilidade de sucesso do on demand determina o sucesso do ECHP"
   ]
  },
  {
   "cell_type": "code",
   "execution_count": 10,
   "metadata": {},
   "outputs": [
    {
     "name": "stderr",
     "output_type": "stream",
     "text": [
      "2024-06-30 21:30:29,530: A fidelidade do qubit Qubit 28 with state None é 0.7818331578485727\n",
      "2024-06-30 21:30:29,530: A fidelidade do qubit Qubit 59 with state None é 0.5859046090719624\n",
      "2024-06-30 21:30:29,531: A probabilidade de sucesso do ECHP falhou.\n"
     ]
    },
    {
     "data": {
      "text/plain": [
       "False"
      ]
     },
     "execution_count": 10,
     "metadata": {},
     "output_type": "execute_result"
    }
   ],
   "source": [
    "rede.physical.echp_on_demand(2,5)"
   ]
  },
  {
   "cell_type": "markdown",
   "metadata": {},
   "source": [
    "##### Realiza-se, então, o segundo protocolo, on replay, que através da fidelidade inicial e da probabilidade de sucesso do on replay determina o sucesso do ECHP"
   ]
  },
  {
   "cell_type": "code",
   "execution_count": 11,
   "metadata": {},
   "outputs": [
    {
     "name": "stderr",
     "output_type": "stream",
     "text": [
      "2024-06-30 21:30:29,543: A fidelidade do qubit Qubit 27 with state None é 0.46047115096293134\n",
      "2024-06-30 21:30:29,544: A fidelidade do qubit Qubit 58 with state None é 0.8205027101805343\n",
      "2024-06-30 21:30:29,545: A probabilidade de sucesso do ECHP falhou.\n"
     ]
    },
    {
     "data": {
      "text/plain": [
       "False"
      ]
     },
     "execution_count": 11,
     "metadata": {},
     "output_type": "execute_result"
    }
   ],
   "source": [
    "rede.physical.echp_on_replay(2,5)"
   ]
  },
  {
   "cell_type": "markdown",
   "metadata": {},
   "source": [
    "##### Acessando o canal que mostra as probablidades e os pares eprs\n"
   ]
  },
  {
   "cell_type": "code",
   "execution_count": 12,
   "metadata": {},
   "outputs": [
    {
     "data": {
      "text/plain": [
       "{'prob_on_demand_epr_create': 0.6566823719392578,\n",
       " 'prob_replay_epr_create': 0.5983244229264157,\n",
       " 'eprs': [<quantumnet.objects.epr.Epr at 0x1f338fcb510>,\n",
       "  <quantumnet.objects.epr.Epr at 0x1f338fc3a50>,\n",
       "  <quantumnet.objects.epr.Epr at 0x1f338fe3c50>,\n",
       "  <quantumnet.objects.epr.Epr at 0x1f338fe30d0>,\n",
       "  <quantumnet.objects.epr.Epr at 0x1f338fe31d0>,\n",
       "  <quantumnet.objects.epr.Epr at 0x1f338fe3a90>,\n",
       "  <quantumnet.objects.epr.Epr at 0x1f338fe2810>,\n",
       "  <quantumnet.objects.epr.Epr at 0x1f338fcc610>,\n",
       "  <quantumnet.objects.epr.Epr at 0x1f338fe3f10>,\n",
       "  <quantumnet.objects.epr.Epr at 0x1f338fe01d0>]}"
      ]
     },
     "execution_count": 12,
     "metadata": {},
     "output_type": "execute_result"
    }
   ],
   "source": [
    "rede.edges[2,5]"
   ]
  },
  {
   "cell_type": "markdown",
   "metadata": {},
   "source": [
    "##### Acessando o dicionario que contém os pares eprs alocados\n"
   ]
  },
  {
   "cell_type": "code",
   "execution_count": 13,
   "metadata": {},
   "outputs": [
    {
     "data": {
      "text/plain": [
       "{(0, 3): [<quantumnet.objects.epr.Epr at 0x1f338fd7650>,\n",
       "  <quantumnet.objects.epr.Epr at 0x1f338fcb950>,\n",
       "  <quantumnet.objects.epr.Epr at 0x1f3384c70d0>,\n",
       "  <quantumnet.objects.epr.Epr at 0x1f338fb3c50>,\n",
       "  <quantumnet.objects.epr.Epr at 0x1f338fb1010>,\n",
       "  <quantumnet.objects.epr.Epr at 0x1f338fccf10>,\n",
       "  <quantumnet.objects.epr.Epr at 0x1f338fc3410>,\n",
       "  <quantumnet.objects.epr.Epr at 0x1f338fb3310>,\n",
       "  <quantumnet.objects.epr.Epr at 0x1f338990350>,\n",
       "  <quantumnet.objects.epr.Epr at 0x1f338fb7fd0>],\n",
       " (0, 1): [<quantumnet.objects.epr.Epr at 0x1f338fc0750>,\n",
       "  <quantumnet.objects.epr.Epr at 0x1f338fd77d0>,\n",
       "  <quantumnet.objects.epr.Epr at 0x1f338fd7d50>,\n",
       "  <quantumnet.objects.epr.Epr at 0x1f338fd7e10>,\n",
       "  <quantumnet.objects.epr.Epr at 0x1f338fb10d0>,\n",
       "  <quantumnet.objects.epr.Epr at 0x1f338fe03d0>,\n",
       "  <quantumnet.objects.epr.Epr at 0x1f338fe0950>,\n",
       "  <quantumnet.objects.epr.Epr at 0x1f3384d1690>,\n",
       "  <quantumnet.objects.epr.Epr at 0x1f338fca7d0>,\n",
       "  <quantumnet.objects.epr.Epr at 0x1f338fc1050>],\n",
       " (1, 4): [<quantumnet.objects.epr.Epr at 0x1f338fe0550>,\n",
       "  <quantumnet.objects.epr.Epr at 0x1f338fc9c50>,\n",
       "  <quantumnet.objects.epr.Epr at 0x1f338fc1c90>,\n",
       "  <quantumnet.objects.epr.Epr at 0x1f338fe0b90>,\n",
       "  <quantumnet.objects.epr.Epr at 0x1f338fe1ed0>,\n",
       "  <quantumnet.objects.epr.Epr at 0x1f338fb2350>,\n",
       "  <quantumnet.objects.epr.Epr at 0x1f338fc2250>,\n",
       "  <quantumnet.objects.epr.Epr at 0x1f338fe2550>,\n",
       "  <quantumnet.objects.epr.Epr at 0x1f338fe1890>,\n",
       "  <quantumnet.objects.epr.Epr at 0x1f338fe1710>],\n",
       " (1, 2): [<quantumnet.objects.epr.Epr at 0x1f338fe2090>,\n",
       "  <quantumnet.objects.epr.Epr at 0x1f338fe1a10>,\n",
       "  <quantumnet.objects.epr.Epr at 0x1f338fb2c90>,\n",
       "  <quantumnet.objects.epr.Epr at 0x1f338fc2a50>,\n",
       "  <quantumnet.objects.epr.Epr at 0x1f338fc2bd0>,\n",
       "  <quantumnet.objects.epr.Epr at 0x1f3384c3190>,\n",
       "  <quantumnet.objects.epr.Epr at 0x1f338fcb350>,\n",
       "  <quantumnet.objects.epr.Epr at 0x1f338fb3550>,\n",
       "  <quantumnet.objects.epr.Epr at 0x1f338fc0b90>,\n",
       "  <quantumnet.objects.epr.Epr at 0x1f338fc2fd0>],\n",
       " (2, 5): [<quantumnet.objects.epr.Epr at 0x1f338fcb510>,\n",
       "  <quantumnet.objects.epr.Epr at 0x1f338fc3a50>,\n",
       "  <quantumnet.objects.epr.Epr at 0x1f338fe3c50>,\n",
       "  <quantumnet.objects.epr.Epr at 0x1f338fe30d0>,\n",
       "  <quantumnet.objects.epr.Epr at 0x1f338fe31d0>,\n",
       "  <quantumnet.objects.epr.Epr at 0x1f338fe3a90>,\n",
       "  <quantumnet.objects.epr.Epr at 0x1f338fe2810>,\n",
       "  <quantumnet.objects.epr.Epr at 0x1f338fcc610>,\n",
       "  <quantumnet.objects.epr.Epr at 0x1f338fe3f10>,\n",
       "  <quantumnet.objects.epr.Epr at 0x1f338fe01d0>],\n",
       " (3, 6): [<quantumnet.objects.epr.Epr at 0x1f338fe3b50>,\n",
       "  <quantumnet.objects.epr.Epr at 0x1f338fb4dd0>,\n",
       "  <quantumnet.objects.epr.Epr at 0x1f338fcf590>,\n",
       "  <quantumnet.objects.epr.Epr at 0x1f338fcf850>,\n",
       "  <quantumnet.objects.epr.Epr at 0x1f338fccf90>,\n",
       "  <quantumnet.objects.epr.Epr at 0x1f338fb5250>,\n",
       "  <quantumnet.objects.epr.Epr at 0x1f338fd5690>,\n",
       "  <quantumnet.objects.epr.Epr at 0x1f338fb6210>,\n",
       "  <quantumnet.objects.epr.Epr at 0x1f338fb5850>,\n",
       "  <quantumnet.objects.epr.Epr at 0x1f338fcce50>],\n",
       " (3, 4): [<quantumnet.objects.epr.Epr at 0x1f338fdcc90>,\n",
       "  <quantumnet.objects.epr.Epr at 0x1f338fd6110>,\n",
       "  <quantumnet.objects.epr.Epr at 0x1f338fd52d0>,\n",
       "  <quantumnet.objects.epr.Epr at 0x1f338fdd490>,\n",
       "  <quantumnet.objects.epr.Epr at 0x1f338fddd10>,\n",
       "  <quantumnet.objects.epr.Epr at 0x1f338fce7d0>,\n",
       "  <quantumnet.objects.epr.Epr at 0x1f338fd68d0>,\n",
       "  <quantumnet.objects.epr.Epr at 0x1f338fd6650>,\n",
       "  <quantumnet.objects.epr.Epr at 0x1f338fb6010>,\n",
       "  <quantumnet.objects.epr.Epr at 0x1f338fd69d0>],\n",
       " (4, 7): [<quantumnet.objects.epr.Epr at 0x1f338fddf10>,\n",
       "  <quantumnet.objects.epr.Epr at 0x1f338fcf010>,\n",
       "  <quantumnet.objects.epr.Epr at 0x1f338fce350>,\n",
       "  <quantumnet.objects.epr.Epr at 0x1f338fb7250>,\n",
       "  <quantumnet.objects.epr.Epr at 0x1f338fd7150>,\n",
       "  <quantumnet.objects.epr.Epr at 0x1f338fb46d0>,\n",
       "  <quantumnet.objects.epr.Epr at 0x1f338fb7850>,\n",
       "  <quantumnet.objects.epr.Epr at 0x1f338fb4590>,\n",
       "  <quantumnet.objects.epr.Epr at 0x1f338fcf910>,\n",
       "  <quantumnet.objects.epr.Epr at 0x1f338fcf510>],\n",
       " (4, 5): [<quantumnet.objects.epr.Epr at 0x1f338fb7e10>,\n",
       "  <quantumnet.objects.epr.Epr at 0x1f338fdc150>,\n",
       "  <quantumnet.objects.epr.Epr at 0x1f338fcfcd0>,\n",
       "  <quantumnet.objects.epr.Epr at 0x1f338fc8210>,\n",
       "  <quantumnet.objects.epr.Epr at 0x1f338fdfb10>,\n",
       "  <quantumnet.objects.epr.Epr at 0x1f338fd4c90>,\n",
       "  <quantumnet.objects.epr.Epr at 0x1f338fd4110>,\n",
       "  <quantumnet.objects.epr.Epr at 0x1f338fdfc50>,\n",
       "  <quantumnet.objects.epr.Epr at 0x1f338fdf090>,\n",
       "  <quantumnet.objects.epr.Epr at 0x1f338fdfe90>],\n",
       " (5, 8): [<quantumnet.objects.epr.Epr at 0x1f338fdee90>,\n",
       "  <quantumnet.objects.epr.Epr at 0x1f338fc8a50>,\n",
       "  <quantumnet.objects.epr.Epr at 0x1f338fe8390>,\n",
       "  <quantumnet.objects.epr.Epr at 0x1f338fe8e10>,\n",
       "  <quantumnet.objects.epr.Epr at 0x1f338fe16d0>,\n",
       "  <quantumnet.objects.epr.Epr at 0x1f338fc2a90>,\n",
       "  <quantumnet.objects.epr.Epr at 0x1f338fc1890>,\n",
       "  <quantumnet.objects.epr.Epr at 0x1f338fc1910>,\n",
       "  <quantumnet.objects.epr.Epr at 0x1f338fc9590>,\n",
       "  <quantumnet.objects.epr.Epr at 0x1f338fe1410>],\n",
       " (6, 7): [<quantumnet.objects.epr.Epr at 0x1f338fb1050>,\n",
       "  <quantumnet.objects.epr.Epr at 0x1f338fca3d0>,\n",
       "  <quantumnet.objects.epr.Epr at 0x1f338fe2350>,\n",
       "  <quantumnet.objects.epr.Epr at 0x1f338fe1810>,\n",
       "  <quantumnet.objects.epr.Epr at 0x1f338fb2710>,\n",
       "  <quantumnet.objects.epr.Epr at 0x1f338fb2750>,\n",
       "  <quantumnet.objects.epr.Epr at 0x1f338fb2910>,\n",
       "  <quantumnet.objects.epr.Epr at 0x1f338fe2c90>,\n",
       "  <quantumnet.objects.epr.Epr at 0x1f338fe2a50>,\n",
       "  <quantumnet.objects.epr.Epr at 0x1f3384a2d50>],\n",
       " (7, 8): [<quantumnet.objects.epr.Epr at 0x1f338fca1d0>,\n",
       "  <quantumnet.objects.epr.Epr at 0x1f3384acb50>,\n",
       "  <quantumnet.objects.epr.Epr at 0x1f3384ba850>,\n",
       "  <quantumnet.objects.epr.Epr at 0x1f33897cd50>,\n",
       "  <quantumnet.objects.epr.Epr at 0x1f338fcadd0>,\n",
       "  <quantumnet.objects.epr.Epr at 0x1f33897cd90>,\n",
       "  <quantumnet.objects.epr.Epr at 0x1f338fc88d0>,\n",
       "  <quantumnet.objects.epr.Epr at 0x1f338fc9550>,\n",
       "  <quantumnet.objects.epr.Epr at 0x1f33896ec50>,\n",
       "  <quantumnet.objects.epr.Epr at 0x1f338fdfc10>]}"
      ]
     },
     "execution_count": 13,
     "metadata": {},
     "output_type": "execute_result"
    }
   ],
   "source": [
    "rede.get_eprs()"
   ]
  }
 ],
 "metadata": {
  "kernelspec": {
   "display_name": "Python 3",
   "language": "python",
   "name": "python3"
  },
  "language_info": {
   "codemirror_mode": {
    "name": "ipython",
    "version": 3
   },
   "file_extension": ".py",
   "mimetype": "text/x-python",
   "name": "python",
   "nbconvert_exporter": "python",
   "pygments_lexer": "ipython3",
   "version": "3.11.4"
  }
 },
 "nbformat": 4,
 "nbformat_minor": 2
}
