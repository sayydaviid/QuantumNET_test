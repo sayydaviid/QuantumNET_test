{
 "cells": [
  {
   "cell_type": "markdown",
   "metadata": {},
   "source": [
    "# Guia da Camada de Rede\n",
    "### A camada de rede serve para o cliente pedir uma requisição de rota entre dois pontos (Alice e Bob) e que seja atendida por uma rota escolhida e adequada."
   ]
  },
  {
   "cell_type": "markdown",
   "metadata": {},
   "source": [
    "#### IMPORTANDO AS DEPENDÊNCIAS\n",
    "##### Este documento tem como objetivo demostrar a execução da camada de rede, além de suas funcionalidades. "
   ]
  },
  {
   "cell_type": "code",
   "execution_count": 1,
   "metadata": {},
   "outputs": [],
   "source": [
    "from quantumnet.components import Network, Host\n",
    "from quantumnet.objects import Qubit, Logger\n",
    "Logger.activate(Logger)"
   ]
  },
  {
   "cell_type": "markdown",
   "metadata": {},
   "source": [
    "#### Ao importar as dependências, vamos instaciar a rede com 20 qubits em cada host e 10 pares EPRS em cada canal da topologia. "
   ]
  },
  {
   "cell_type": "code",
   "execution_count": 2,
   "metadata": {},
   "outputs": [
    {
     "name": "stderr",
     "output_type": "stream",
     "text": [
      "2024-06-30 21:29:25,193: Qubit 0 adicionado à memória do Host 0.\n",
      "2024-06-30 21:29:25,194: Qubit 0 criado com fidelidade inicial 0.21376876866166505 e adicionado à memória do Host 0.\n",
      "2024-06-30 21:29:25,195: Qubit 1 adicionado à memória do Host 0.\n",
      "2024-06-30 21:29:25,195: Qubit 1 criado com fidelidade inicial 0.056176274728075626 e adicionado à memória do Host 0.\n",
      "2024-06-30 21:29:25,196: Qubit 2 adicionado à memória do Host 0.\n",
      "2024-06-30 21:29:25,196: Qubit 2 criado com fidelidade inicial 0.7049245560420958 e adicionado à memória do Host 0.\n",
      "2024-06-30 21:29:25,197: Qubit 3 adicionado à memória do Host 0.\n",
      "2024-06-30 21:29:25,197: Qubit 3 criado com fidelidade inicial 0.09637170123234828 e adicionado à memória do Host 0.\n",
      "2024-06-30 21:29:25,198: Qubit 4 adicionado à memória do Host 0.\n",
      "2024-06-30 21:29:25,198: Qubit 4 criado com fidelidade inicial 0.8317834688382079 e adicionado à memória do Host 0.\n",
      "2024-06-30 21:29:25,199: Qubit 5 adicionado à memória do Host 0.\n",
      "2024-06-30 21:29:25,199: Qubit 5 criado com fidelidade inicial 0.04532189261186981 e adicionado à memória do Host 0.\n",
      "2024-06-30 21:29:25,200: Qubit 6 adicionado à memória do Host 0.\n",
      "2024-06-30 21:29:25,201: Qubit 6 criado com fidelidade inicial 0.6130688112904439 e adicionado à memória do Host 0.\n",
      "2024-06-30 21:29:25,201: Qubit 7 adicionado à memória do Host 0.\n",
      "2024-06-30 21:29:25,201: Qubit 7 criado com fidelidade inicial 0.34098822437200216 e adicionado à memória do Host 0.\n",
      "2024-06-30 21:29:25,202: Qubit 8 adicionado à memória do Host 0.\n",
      "2024-06-30 21:29:25,203: Qubit 8 criado com fidelidade inicial 0.5241626866743972 e adicionado à memória do Host 0.\n",
      "2024-06-30 21:29:25,203: Qubit 9 adicionado à memória do Host 0.\n",
      "2024-06-30 21:29:25,204: Qubit 9 criado com fidelidade inicial 0.8964578206309782 e adicionado à memória do Host 0.\n",
      "2024-06-30 21:29:25,204: Qubit 10 adicionado à memória do Host 1.\n",
      "2024-06-30 21:29:25,205: Qubit 10 criado com fidelidade inicial 0.14557553181478167 e adicionado à memória do Host 1.\n",
      "2024-06-30 21:29:25,206: Qubit 11 adicionado à memória do Host 1.\n",
      "2024-06-30 21:29:25,206: Qubit 11 criado com fidelidade inicial 0.7460078886152394 e adicionado à memória do Host 1.\n",
      "2024-06-30 21:29:25,207: Qubit 12 adicionado à memória do Host 1.\n",
      "2024-06-30 21:29:25,207: Qubit 12 criado com fidelidade inicial 0.6064643204564806 e adicionado à memória do Host 1.\n",
      "2024-06-30 21:29:25,208: Qubit 13 adicionado à memória do Host 1.\n",
      "2024-06-30 21:29:25,208: Qubit 13 criado com fidelidade inicial 0.6153414770738433 e adicionado à memória do Host 1.\n",
      "2024-06-30 21:29:25,209: Qubit 14 adicionado à memória do Host 1.\n",
      "2024-06-30 21:29:25,209: Qubit 14 criado com fidelidade inicial 0.9355385246677135 e adicionado à memória do Host 1.\n",
      "2024-06-30 21:29:25,210: Qubit 15 adicionado à memória do Host 1.\n",
      "2024-06-30 21:29:25,210: Qubit 15 criado com fidelidade inicial 0.20025098225926008 e adicionado à memória do Host 1.\n",
      "2024-06-30 21:29:25,211: Qubit 16 adicionado à memória do Host 1.\n",
      "2024-06-30 21:29:25,211: Qubit 16 criado com fidelidade inicial 0.5570969817087773 e adicionado à memória do Host 1.\n",
      "2024-06-30 21:29:25,213: Qubit 17 adicionado à memória do Host 1.\n",
      "2024-06-30 21:29:25,213: Qubit 17 criado com fidelidade inicial 0.8320991295339195 e adicionado à memória do Host 1.\n",
      "2024-06-30 21:29:25,213: Qubit 18 adicionado à memória do Host 1.\n",
      "2024-06-30 21:29:25,214: Qubit 18 criado com fidelidade inicial 0.8587976465506367 e adicionado à memória do Host 1.\n",
      "2024-06-30 21:29:25,214: Qubit 19 adicionado à memória do Host 1.\n",
      "2024-06-30 21:29:25,215: Qubit 19 criado com fidelidade inicial 0.10652057804083259 e adicionado à memória do Host 1.\n",
      "2024-06-30 21:29:25,215: Qubit 20 adicionado à memória do Host 2.\n",
      "2024-06-30 21:29:25,216: Qubit 20 criado com fidelidade inicial 0.1927957800619141 e adicionado à memória do Host 2.\n",
      "2024-06-30 21:29:25,216: Qubit 21 adicionado à memória do Host 2.\n",
      "2024-06-30 21:29:25,216: Qubit 21 criado com fidelidade inicial 0.5764579040238901 e adicionado à memória do Host 2.\n",
      "2024-06-30 21:29:25,217: Qubit 22 adicionado à memória do Host 2.\n",
      "2024-06-30 21:29:25,217: Qubit 22 criado com fidelidade inicial 0.9744076180434222 e adicionado à memória do Host 2.\n",
      "2024-06-30 21:29:25,218: Qubit 23 adicionado à memória do Host 2.\n",
      "2024-06-30 21:29:25,219: Qubit 23 criado com fidelidade inicial 0.09782383016567275 e adicionado à memória do Host 2.\n",
      "2024-06-30 21:29:25,219: Qubit 24 adicionado à memória do Host 2.\n",
      "2024-06-30 21:29:25,220: Qubit 24 criado com fidelidade inicial 0.5406374161510693 e adicionado à memória do Host 2.\n",
      "2024-06-30 21:29:25,221: Qubit 25 adicionado à memória do Host 2.\n",
      "2024-06-30 21:29:25,221: Qubit 25 criado com fidelidade inicial 0.5606735669763417 e adicionado à memória do Host 2.\n",
      "2024-06-30 21:29:25,222: Qubit 26 adicionado à memória do Host 2.\n",
      "2024-06-30 21:29:25,222: Qubit 26 criado com fidelidade inicial 0.18702472306535334 e adicionado à memória do Host 2.\n",
      "2024-06-30 21:29:25,223: Qubit 27 adicionado à memória do Host 2.\n",
      "2024-06-30 21:29:25,224: Qubit 27 criado com fidelidade inicial 0.993880627721951 e adicionado à memória do Host 2.\n",
      "2024-06-30 21:29:25,225: Qubit 28 adicionado à memória do Host 2.\n",
      "2024-06-30 21:29:25,225: Qubit 28 criado com fidelidade inicial 0.584160529689295 e adicionado à memória do Host 2.\n",
      "2024-06-30 21:29:25,226: Qubit 29 adicionado à memória do Host 2.\n",
      "2024-06-30 21:29:25,227: Qubit 29 criado com fidelidade inicial 0.5516088217114818 e adicionado à memória do Host 2.\n",
      "2024-06-30 21:29:25,227: Qubit 30 adicionado à memória do Host 3.\n",
      "2024-06-30 21:29:25,228: Qubit 30 criado com fidelidade inicial 0.9657680994029191 e adicionado à memória do Host 3.\n",
      "2024-06-30 21:29:25,228: Qubit 31 adicionado à memória do Host 3.\n",
      "2024-06-30 21:29:25,229: Qubit 31 criado com fidelidade inicial 0.5014936150643942 e adicionado à memória do Host 3.\n",
      "2024-06-30 21:29:25,229: Qubit 32 adicionado à memória do Host 3.\n",
      "2024-06-30 21:29:25,230: Qubit 32 criado com fidelidade inicial 0.3663192302636149 e adicionado à memória do Host 3.\n",
      "2024-06-30 21:29:25,230: Qubit 33 adicionado à memória do Host 3.\n",
      "2024-06-30 21:29:25,231: Qubit 33 criado com fidelidade inicial 0.6042061617541644 e adicionado à memória do Host 3.\n",
      "2024-06-30 21:29:25,231: Qubit 34 adicionado à memória do Host 3.\n",
      "2024-06-30 21:29:25,231: Qubit 34 criado com fidelidade inicial 0.5869686820483465 e adicionado à memória do Host 3.\n",
      "2024-06-30 21:29:25,232: Qubit 35 adicionado à memória do Host 3.\n",
      "2024-06-30 21:29:25,232: Qubit 35 criado com fidelidade inicial 0.7376985834811797 e adicionado à memória do Host 3.\n",
      "2024-06-30 21:29:25,233: Qubit 36 adicionado à memória do Host 3.\n",
      "2024-06-30 21:29:25,233: Qubit 36 criado com fidelidade inicial 0.39001196776942304 e adicionado à memória do Host 3.\n",
      "2024-06-30 21:29:25,234: Qubit 37 adicionado à memória do Host 3.\n",
      "2024-06-30 21:29:25,234: Qubit 37 criado com fidelidade inicial 0.8374328539820252 e adicionado à memória do Host 3.\n",
      "2024-06-30 21:29:25,235: Qubit 38 adicionado à memória do Host 3.\n",
      "2024-06-30 21:29:25,235: Qubit 38 criado com fidelidade inicial 0.18038139780406304 e adicionado à memória do Host 3.\n",
      "2024-06-30 21:29:25,236: Qubit 39 adicionado à memória do Host 3.\n",
      "2024-06-30 21:29:25,237: Qubit 39 criado com fidelidade inicial 0.04796054529487748 e adicionado à memória do Host 3.\n",
      "2024-06-30 21:29:25,237: Qubit 40 adicionado à memória do Host 4.\n",
      "2024-06-30 21:29:25,238: Qubit 40 criado com fidelidade inicial 0.18233262258075755 e adicionado à memória do Host 4.\n",
      "2024-06-30 21:29:25,238: Qubit 41 adicionado à memória do Host 4.\n",
      "2024-06-30 21:29:25,238: Qubit 41 criado com fidelidade inicial 0.2909030026745506 e adicionado à memória do Host 4.\n",
      "2024-06-30 21:29:25,239: Qubit 42 adicionado à memória do Host 4.\n",
      "2024-06-30 21:29:25,239: Qubit 42 criado com fidelidade inicial 0.8291586535462957 e adicionado à memória do Host 4.\n",
      "2024-06-30 21:29:25,240: Qubit 43 adicionado à memória do Host 4.\n",
      "2024-06-30 21:29:25,240: Qubit 43 criado com fidelidade inicial 0.8044995138464618 e adicionado à memória do Host 4.\n",
      "2024-06-30 21:29:25,241: Qubit 44 adicionado à memória do Host 4.\n",
      "2024-06-30 21:29:25,241: Qubit 44 criado com fidelidade inicial 0.1655152322177168 e adicionado à memória do Host 4.\n",
      "2024-06-30 21:29:25,242: Qubit 45 adicionado à memória do Host 4.\n",
      "2024-06-30 21:29:25,243: Qubit 45 criado com fidelidade inicial 0.20666340953584972 e adicionado à memória do Host 4.\n",
      "2024-06-30 21:29:25,244: Qubit 46 adicionado à memória do Host 4.\n",
      "2024-06-30 21:29:25,244: Qubit 46 criado com fidelidade inicial 0.8695969346301827 e adicionado à memória do Host 4.\n",
      "2024-06-30 21:29:25,245: Qubit 47 adicionado à memória do Host 4.\n",
      "2024-06-30 21:29:25,245: Qubit 47 criado com fidelidade inicial 0.3791509762686617 e adicionado à memória do Host 4.\n",
      "2024-06-30 21:29:25,246: Qubit 48 adicionado à memória do Host 4.\n",
      "2024-06-30 21:29:25,246: Qubit 48 criado com fidelidade inicial 0.34488615098817677 e adicionado à memória do Host 4.\n",
      "2024-06-30 21:29:25,247: Qubit 49 adicionado à memória do Host 4.\n",
      "2024-06-30 21:29:25,247: Qubit 49 criado com fidelidade inicial 0.941762230372522 e adicionado à memória do Host 4.\n",
      "2024-06-30 21:29:25,248: Qubit 50 adicionado à memória do Host 5.\n",
      "2024-06-30 21:29:25,249: Qubit 50 criado com fidelidade inicial 0.7621501616049419 e adicionado à memória do Host 5.\n",
      "2024-06-30 21:29:25,249: Qubit 51 adicionado à memória do Host 5.\n",
      "2024-06-30 21:29:25,249: Qubit 51 criado com fidelidade inicial 0.17441765332040482 e adicionado à memória do Host 5.\n",
      "2024-06-30 21:29:25,251: Qubit 52 adicionado à memória do Host 5.\n",
      "2024-06-30 21:29:25,263: Qubit 52 criado com fidelidade inicial 0.5014434382943064 e adicionado à memória do Host 5.\n",
      "2024-06-30 21:29:25,278: Qubit 53 adicionado à memória do Host 5.\n",
      "2024-06-30 21:29:25,293: Qubit 53 criado com fidelidade inicial 0.7086010734576815 e adicionado à memória do Host 5.\n",
      "2024-06-30 21:29:25,294: Qubit 54 adicionado à memória do Host 5.\n",
      "2024-06-30 21:29:25,295: Qubit 54 criado com fidelidade inicial 0.7743062909290158 e adicionado à memória do Host 5.\n",
      "2024-06-30 21:29:25,296: Qubit 55 adicionado à memória do Host 5.\n",
      "2024-06-30 21:29:25,296: Qubit 55 criado com fidelidade inicial 0.5431336122736717 e adicionado à memória do Host 5.\n",
      "2024-06-30 21:29:25,297: Qubit 56 adicionado à memória do Host 5.\n",
      "2024-06-30 21:29:25,298: Qubit 56 criado com fidelidade inicial 0.6770431356801271 e adicionado à memória do Host 5.\n",
      "2024-06-30 21:29:25,298: Qubit 57 adicionado à memória do Host 5.\n",
      "2024-06-30 21:29:25,298: Qubit 57 criado com fidelidade inicial 0.7562831635702882 e adicionado à memória do Host 5.\n",
      "2024-06-30 21:29:25,299: Qubit 58 adicionado à memória do Host 5.\n",
      "2024-06-30 21:29:25,300: Qubit 58 criado com fidelidade inicial 0.10674710469057247 e adicionado à memória do Host 5.\n",
      "2024-06-30 21:29:25,300: Qubit 59 adicionado à memória do Host 5.\n",
      "2024-06-30 21:29:25,300: Qubit 59 criado com fidelidade inicial 0.4780868856275129 e adicionado à memória do Host 5.\n",
      "2024-06-30 21:29:25,301: Qubit 60 adicionado à memória do Host 6.\n",
      "2024-06-30 21:29:25,301: Qubit 60 criado com fidelidade inicial 0.6996994745551912 e adicionado à memória do Host 6.\n",
      "2024-06-30 21:29:25,302: Qubit 61 adicionado à memória do Host 6.\n",
      "2024-06-30 21:29:25,302: Qubit 61 criado com fidelidade inicial 0.2844598761260746 e adicionado à memória do Host 6.\n",
      "2024-06-30 21:29:25,303: Qubit 62 adicionado à memória do Host 6.\n",
      "2024-06-30 21:29:25,303: Qubit 62 criado com fidelidade inicial 0.5681363129842346 e adicionado à memória do Host 6.\n",
      "2024-06-30 21:29:25,304: Qubit 63 adicionado à memória do Host 6.\n",
      "2024-06-30 21:29:25,305: Qubit 63 criado com fidelidade inicial 0.71827629470467 e adicionado à memória do Host 6.\n",
      "2024-06-30 21:29:25,305: Qubit 64 adicionado à memória do Host 6.\n",
      "2024-06-30 21:29:25,305: Qubit 64 criado com fidelidade inicial 0.626308803673949 e adicionado à memória do Host 6.\n",
      "2024-06-30 21:29:25,306: Qubit 65 adicionado à memória do Host 6.\n",
      "2024-06-30 21:29:25,307: Qubit 65 criado com fidelidade inicial 0.9764722623241641 e adicionado à memória do Host 6.\n",
      "2024-06-30 21:29:25,308: Qubit 66 adicionado à memória do Host 6.\n",
      "2024-06-30 21:29:25,308: Qubit 66 criado com fidelidade inicial 0.42542125448935086 e adicionado à memória do Host 6.\n",
      "2024-06-30 21:29:25,309: Qubit 67 adicionado à memória do Host 6.\n",
      "2024-06-30 21:29:25,309: Qubit 67 criado com fidelidade inicial 0.3943999377830596 e adicionado à memória do Host 6.\n",
      "2024-06-30 21:29:25,310: Qubit 68 adicionado à memória do Host 6.\n",
      "2024-06-30 21:29:25,311: Qubit 68 criado com fidelidade inicial 0.23969438908430696 e adicionado à memória do Host 6.\n",
      "2024-06-30 21:29:25,311: Qubit 69 adicionado à memória do Host 6.\n",
      "2024-06-30 21:29:25,312: Qubit 69 criado com fidelidade inicial 0.7176970305552082 e adicionado à memória do Host 6.\n",
      "2024-06-30 21:29:25,312: Qubit 70 adicionado à memória do Host 7.\n",
      "2024-06-30 21:29:25,312: Qubit 70 criado com fidelidade inicial 0.39536678735383923 e adicionado à memória do Host 7.\n",
      "2024-06-30 21:29:25,314: Qubit 71 adicionado à memória do Host 7.\n",
      "2024-06-30 21:29:25,315: Qubit 71 criado com fidelidade inicial 0.17425554218481432 e adicionado à memória do Host 7.\n",
      "2024-06-30 21:29:25,315: Qubit 72 adicionado à memória do Host 7.\n",
      "2024-06-30 21:29:25,316: Qubit 72 criado com fidelidade inicial 0.5687271979567284 e adicionado à memória do Host 7.\n",
      "2024-06-30 21:29:25,317: Qubit 73 adicionado à memória do Host 7.\n",
      "2024-06-30 21:29:25,317: Qubit 73 criado com fidelidade inicial 0.613331048570256 e adicionado à memória do Host 7.\n",
      "2024-06-30 21:29:25,318: Qubit 74 adicionado à memória do Host 7.\n",
      "2024-06-30 21:29:25,319: Qubit 74 criado com fidelidade inicial 0.4368145759410015 e adicionado à memória do Host 7.\n",
      "2024-06-30 21:29:25,319: Qubit 75 adicionado à memória do Host 7.\n",
      "2024-06-30 21:29:25,320: Qubit 75 criado com fidelidade inicial 0.5168238767242979 e adicionado à memória do Host 7.\n",
      "2024-06-30 21:29:25,320: Qubit 76 adicionado à memória do Host 7.\n",
      "2024-06-30 21:29:25,321: Qubit 76 criado com fidelidade inicial 0.9674648660548908 e adicionado à memória do Host 7.\n",
      "2024-06-30 21:29:25,322: Qubit 77 adicionado à memória do Host 7.\n",
      "2024-06-30 21:29:25,322: Qubit 77 criado com fidelidade inicial 0.11950490203001363 e adicionado à memória do Host 7.\n",
      "2024-06-30 21:29:25,322: Qubit 78 adicionado à memória do Host 7.\n",
      "2024-06-30 21:29:25,323: Qubit 78 criado com fidelidade inicial 0.6265652682763511 e adicionado à memória do Host 7.\n",
      "2024-06-30 21:29:25,325: Qubit 79 adicionado à memória do Host 7.\n",
      "2024-06-30 21:29:25,325: Qubit 79 criado com fidelidade inicial 0.7025982813975179 e adicionado à memória do Host 7.\n",
      "2024-06-30 21:29:25,326: Qubit 80 adicionado à memória do Host 8.\n",
      "2024-06-30 21:29:25,328: Qubit 80 criado com fidelidade inicial 0.5547433722869083 e adicionado à memória do Host 8.\n",
      "2024-06-30 21:29:25,329: Qubit 81 adicionado à memória do Host 8.\n",
      "2024-06-30 21:29:25,330: Qubit 81 criado com fidelidade inicial 0.6922175019656639 e adicionado à memória do Host 8.\n",
      "2024-06-30 21:29:25,332: Qubit 82 adicionado à memória do Host 8.\n",
      "2024-06-30 21:29:25,338: Qubit 82 criado com fidelidade inicial 0.4777573241543025 e adicionado à memória do Host 8.\n",
      "2024-06-30 21:29:25,339: Qubit 83 adicionado à memória do Host 8.\n",
      "2024-06-30 21:29:25,342: Qubit 83 criado com fidelidade inicial 0.25321568713763054 e adicionado à memória do Host 8.\n",
      "2024-06-30 21:29:25,344: Qubit 84 adicionado à memória do Host 8.\n",
      "2024-06-30 21:29:25,345: Qubit 84 criado com fidelidade inicial 0.9965257639162908 e adicionado à memória do Host 8.\n",
      "2024-06-30 21:29:25,345: Qubit 85 adicionado à memória do Host 8.\n",
      "2024-06-30 21:29:25,346: Qubit 85 criado com fidelidade inicial 0.43136610407250897 e adicionado à memória do Host 8.\n",
      "2024-06-30 21:29:25,347: Qubit 86 adicionado à memória do Host 8.\n",
      "2024-06-30 21:29:25,348: Qubit 86 criado com fidelidade inicial 0.4201731742456595 e adicionado à memória do Host 8.\n",
      "2024-06-30 21:29:25,348: Qubit 87 adicionado à memória do Host 8.\n",
      "2024-06-30 21:29:25,349: Qubit 87 criado com fidelidade inicial 0.49587145892532347 e adicionado à memória do Host 8.\n",
      "2024-06-30 21:29:25,349: Qubit 88 adicionado à memória do Host 8.\n",
      "2024-06-30 21:29:25,350: Qubit 88 criado com fidelidade inicial 0.002549175816092042 e adicionado à memória do Host 8.\n",
      "2024-06-30 21:29:25,351: Qubit 89 adicionado à memória do Host 8.\n",
      "2024-06-30 21:29:25,351: Qubit 89 criado com fidelidade inicial 0.8159237110870144 e adicionado à memória do Host 8.\n",
      "2024-06-30 21:29:25,352: Par EPR <quantumnet.objects.epr.Epr object at 0x0000026B4D531E90> adicionado ao canal.\n",
      "2024-06-30 21:29:25,352: Par EPR <quantumnet.objects.epr.Epr object at 0x0000026B4D528F90> adicionado ao canal.\n",
      "2024-06-30 21:29:25,352: Par EPR <quantumnet.objects.epr.Epr object at 0x0000026B4D528A90> adicionado ao canal.\n",
      "2024-06-30 21:29:25,353: Par EPR <quantumnet.objects.epr.Epr object at 0x0000026B4D529E90> adicionado ao canal.\n",
      "2024-06-30 21:29:25,353: Par EPR <quantumnet.objects.epr.Epr object at 0x0000026B4D52A3D0> adicionado ao canal.\n",
      "2024-06-30 21:29:25,353: Par EPR <quantumnet.objects.epr.Epr object at 0x0000026B4D511450> adicionado ao canal.\n",
      "2024-06-30 21:29:25,354: Par EPR <quantumnet.objects.epr.Epr object at 0x0000026B4D5296D0> adicionado ao canal.\n",
      "2024-06-30 21:29:25,354: Par EPR <quantumnet.objects.epr.Epr object at 0x0000026B4D528F10> adicionado ao canal.\n",
      "2024-06-30 21:29:25,355: Par EPR <quantumnet.objects.epr.Epr object at 0x0000026B4D512010> adicionado ao canal.\n",
      "2024-06-30 21:29:25,355: Par EPR <quantumnet.objects.epr.Epr object at 0x0000026B4D5128D0> adicionado ao canal.\n",
      "2024-06-30 21:29:25,355: Par EPR <quantumnet.objects.epr.Epr object at 0x0000026B4D522D10> adicionado ao canal.\n",
      "2024-06-30 21:29:25,356: Par EPR <quantumnet.objects.epr.Epr object at 0x0000026B4D52A510> adicionado ao canal.\n",
      "2024-06-30 21:29:25,356: Par EPR <quantumnet.objects.epr.Epr object at 0x0000026B4D529F50> adicionado ao canal.\n",
      "2024-06-30 21:29:25,357: Par EPR <quantumnet.objects.epr.Epr object at 0x0000026B4D52A390> adicionado ao canal.\n",
      "2024-06-30 21:29:25,357: Par EPR <quantumnet.objects.epr.Epr object at 0x0000026B4D52A350> adicionado ao canal.\n",
      "2024-06-30 21:29:25,358: Par EPR <quantumnet.objects.epr.Epr object at 0x0000026B4D52B990> adicionado ao canal.\n",
      "2024-06-30 21:29:25,358: Par EPR <quantumnet.objects.epr.Epr object at 0x0000026B4CA03A10> adicionado ao canal.\n",
      "2024-06-30 21:29:25,359: Par EPR <quantumnet.objects.epr.Epr object at 0x0000026B4D52B590> adicionado ao canal.\n",
      "2024-06-30 21:29:25,359: Par EPR <quantumnet.objects.epr.Epr object at 0x0000026B4D532FD0> adicionado ao canal.\n",
      "2024-06-30 21:29:25,360: Par EPR <quantumnet.objects.epr.Epr object at 0x0000026B4D532910> adicionado ao canal.\n",
      "2024-06-30 21:29:25,360: Par EPR <quantumnet.objects.epr.Epr object at 0x0000026B4D533150> adicionado ao canal.\n",
      "2024-06-30 21:29:25,361: Par EPR <quantumnet.objects.epr.Epr object at 0x0000026B4D52B890> adicionado ao canal.\n",
      "2024-06-30 21:29:25,361: Par EPR <quantumnet.objects.epr.Epr object at 0x0000026B4D52B350> adicionado ao canal.\n",
      "2024-06-30 21:29:25,362: Par EPR <quantumnet.objects.epr.Epr object at 0x0000026B4D5336D0> adicionado ao canal.\n",
      "2024-06-30 21:29:25,363: Par EPR <quantumnet.objects.epr.Epr object at 0x0000026B4D533F50> adicionado ao canal.\n",
      "2024-06-30 21:29:25,363: Par EPR <quantumnet.objects.epr.Epr object at 0x0000026B4D540310> adicionado ao canal.\n",
      "2024-06-30 21:29:25,364: Par EPR <quantumnet.objects.epr.Epr object at 0x0000026B4D540290> adicionado ao canal.\n",
      "2024-06-30 21:29:25,364: Par EPR <quantumnet.objects.epr.Epr object at 0x0000026B4D540690> adicionado ao canal.\n",
      "2024-06-30 21:29:25,365: Par EPR <quantumnet.objects.epr.Epr object at 0x0000026B4D540810> adicionado ao canal.\n",
      "2024-06-30 21:29:25,365: Par EPR <quantumnet.objects.epr.Epr object at 0x0000026B4D533F10> adicionado ao canal.\n",
      "2024-06-30 21:29:25,367: Par EPR <quantumnet.objects.epr.Epr object at 0x0000026B4D5315D0> adicionado ao canal.\n",
      "2024-06-30 21:29:25,367: Par EPR <quantumnet.objects.epr.Epr object at 0x0000026B4D532450> adicionado ao canal.\n",
      "2024-06-30 21:29:25,368: Par EPR <quantumnet.objects.epr.Epr object at 0x0000026B4D507ED0> adicionado ao canal.\n",
      "2024-06-30 21:29:25,368: Par EPR <quantumnet.objects.epr.Epr object at 0x0000026B4D521950> adicionado ao canal.\n",
      "2024-06-30 21:29:25,369: Par EPR <quantumnet.objects.epr.Epr object at 0x0000026B4D527750> adicionado ao canal.\n",
      "2024-06-30 21:29:25,369: Par EPR <quantumnet.objects.epr.Epr object at 0x0000026B4D507A50> adicionado ao canal.\n",
      "2024-06-30 21:29:25,370: Par EPR <quantumnet.objects.epr.Epr object at 0x0000026B4D507950> adicionado ao canal.\n",
      "2024-06-30 21:29:25,370: Par EPR <quantumnet.objects.epr.Epr object at 0x0000026B4CE4FDD0> adicionado ao canal.\n",
      "2024-06-30 21:29:25,371: Par EPR <quantumnet.objects.epr.Epr object at 0x0000026B4D52BCD0> adicionado ao canal.\n",
      "2024-06-30 21:29:25,372: Par EPR <quantumnet.objects.epr.Epr object at 0x0000026B4D507D50> adicionado ao canal.\n",
      "2024-06-30 21:29:25,372: Par EPR <quantumnet.objects.epr.Epr object at 0x0000026B4D530B50> adicionado ao canal.\n",
      "2024-06-30 21:29:25,372: Par EPR <quantumnet.objects.epr.Epr object at 0x0000026B4D529FD0> adicionado ao canal.\n",
      "2024-06-30 21:29:25,373: Par EPR <quantumnet.objects.epr.Epr object at 0x0000026B4D52A250> adicionado ao canal.\n",
      "2024-06-30 21:29:25,373: Par EPR <quantumnet.objects.epr.Epr object at 0x0000026B4D5317D0> adicionado ao canal.\n",
      "2024-06-30 21:29:25,374: Par EPR <quantumnet.objects.epr.Epr object at 0x0000026B4D5124D0> adicionado ao canal.\n",
      "2024-06-30 21:29:25,375: Par EPR <quantumnet.objects.epr.Epr object at 0x0000026B4D52A150> adicionado ao canal.\n",
      "2024-06-30 21:29:25,375: Par EPR <quantumnet.objects.epr.Epr object at 0x0000026B4D52A490> adicionado ao canal.\n",
      "2024-06-30 21:29:25,376: Par EPR <quantumnet.objects.epr.Epr object at 0x0000026B4D532C10> adicionado ao canal.\n",
      "2024-06-30 21:29:25,376: Par EPR <quantumnet.objects.epr.Epr object at 0x0000026B4D52ACD0> adicionado ao canal.\n",
      "2024-06-30 21:29:25,376: Par EPR <quantumnet.objects.epr.Epr object at 0x0000026B4CA11B50> adicionado ao canal.\n",
      "2024-06-30 21:29:25,377: Par EPR <quantumnet.objects.epr.Epr object at 0x0000026B4D530110> adicionado ao canal.\n",
      "2024-06-30 21:29:25,377: Par EPR <quantumnet.objects.epr.Epr object at 0x0000026B4D513610> adicionado ao canal.\n",
      "2024-06-30 21:29:25,378: Par EPR <quantumnet.objects.epr.Epr object at 0x0000026B4D52A4D0> adicionado ao canal.\n",
      "2024-06-30 21:29:25,378: Par EPR <quantumnet.objects.epr.Epr object at 0x0000026B4D52B4D0> adicionado ao canal.\n",
      "2024-06-30 21:29:25,378: Par EPR <quantumnet.objects.epr.Epr object at 0x0000026B4D52B910> adicionado ao canal.\n",
      "2024-06-30 21:29:25,379: Par EPR <quantumnet.objects.epr.Epr object at 0x0000026B4D542B90> adicionado ao canal.\n",
      "2024-06-30 21:29:25,379: Par EPR <quantumnet.objects.epr.Epr object at 0x0000026B4D5423D0> adicionado ao canal.\n",
      "2024-06-30 21:29:25,380: Par EPR <quantumnet.objects.epr.Epr object at 0x0000026B4D542F10> adicionado ao canal.\n",
      "2024-06-30 21:29:25,380: Par EPR <quantumnet.objects.epr.Epr object at 0x0000026B4D513ED0> adicionado ao canal.\n",
      "2024-06-30 21:29:25,380: Par EPR <quantumnet.objects.epr.Epr object at 0x0000026B4D523E50> adicionado ao canal.\n",
      "2024-06-30 21:29:25,381: Par EPR <quantumnet.objects.epr.Epr object at 0x0000026B4D541990> adicionado ao canal.\n",
      "2024-06-30 21:29:25,381: Par EPR <quantumnet.objects.epr.Epr object at 0x0000026B4D507790> adicionado ao canal.\n",
      "2024-06-30 21:29:25,381: Par EPR <quantumnet.objects.epr.Epr object at 0x0000026B4D5309D0> adicionado ao canal.\n",
      "2024-06-30 21:29:25,382: Par EPR <quantumnet.objects.epr.Epr object at 0x0000026B4D5438D0> adicionado ao canal.\n",
      "2024-06-30 21:29:25,382: Par EPR <quantumnet.objects.epr.Epr object at 0x0000026B4D52BDD0> adicionado ao canal.\n",
      "2024-06-30 21:29:25,382: Par EPR <quantumnet.objects.epr.Epr object at 0x0000026B4D543C10> adicionado ao canal.\n",
      "2024-06-30 21:29:25,383: Par EPR <quantumnet.objects.epr.Epr object at 0x0000026B4D543B50> adicionado ao canal.\n",
      "2024-06-30 21:29:25,383: Par EPR <quantumnet.objects.epr.Epr object at 0x0000026B4D52F190> adicionado ao canal.\n",
      "2024-06-30 21:29:25,384: Par EPR <quantumnet.objects.epr.Epr object at 0x0000026B4CEDD810> adicionado ao canal.\n",
      "2024-06-30 21:29:25,384: Par EPR <quantumnet.objects.epr.Epr object at 0x0000026B4CECD310> adicionado ao canal.\n",
      "2024-06-30 21:29:25,385: Par EPR <quantumnet.objects.epr.Epr object at 0x0000026B4CA16CD0> adicionado ao canal.\n",
      "2024-06-30 21:29:25,385: Par EPR <quantumnet.objects.epr.Epr object at 0x0000026B4CA106D0> adicionado ao canal.\n",
      "2024-06-30 21:29:25,385: Par EPR <quantumnet.objects.epr.Epr object at 0x0000026B4D5246D0> adicionado ao canal.\n",
      "2024-06-30 21:29:25,386: Par EPR <quantumnet.objects.epr.Epr object at 0x0000026B4B5922D0> adicionado ao canal.\n",
      "2024-06-30 21:29:25,386: Par EPR <quantumnet.objects.epr.Epr object at 0x0000026B4D520510> adicionado ao canal.\n",
      "2024-06-30 21:29:25,386: Par EPR <quantumnet.objects.epr.Epr object at 0x0000026B4D520610> adicionado ao canal.\n",
      "2024-06-30 21:29:25,387: Par EPR <quantumnet.objects.epr.Epr object at 0x0000026B4D5206D0> adicionado ao canal.\n",
      "2024-06-30 21:29:25,387: Par EPR <quantumnet.objects.epr.Epr object at 0x0000026B4D52AA50> adicionado ao canal.\n",
      "2024-06-30 21:29:25,387: Par EPR <quantumnet.objects.epr.Epr object at 0x0000026B4D532D10> adicionado ao canal.\n",
      "2024-06-30 21:29:25,388: Par EPR <quantumnet.objects.epr.Epr object at 0x0000026B4D520AD0> adicionado ao canal.\n",
      "2024-06-30 21:29:25,388: Par EPR <quantumnet.objects.epr.Epr object at 0x0000026B4D528310> adicionado ao canal.\n",
      "2024-06-30 21:29:25,388: Par EPR <quantumnet.objects.epr.Epr object at 0x0000026B4D52A890> adicionado ao canal.\n",
      "2024-06-30 21:29:25,389: Par EPR <quantumnet.objects.epr.Epr object at 0x0000026B4D540E90> adicionado ao canal.\n",
      "2024-06-30 21:29:25,389: Par EPR <quantumnet.objects.epr.Epr object at 0x0000026B4D532F50> adicionado ao canal.\n",
      "2024-06-30 21:29:25,390: Par EPR <quantumnet.objects.epr.Epr object at 0x0000026B4D530850> adicionado ao canal.\n",
      "2024-06-30 21:29:25,391: Par EPR <quantumnet.objects.epr.Epr object at 0x0000026B4D521350> adicionado ao canal.\n",
      "2024-06-30 21:29:25,392: Par EPR <quantumnet.objects.epr.Epr object at 0x0000026B4D5200D0> adicionado ao canal.\n",
      "2024-06-30 21:29:25,392: Par EPR <quantumnet.objects.epr.Epr object at 0x0000026B4D513C50> adicionado ao canal.\n",
      "2024-06-30 21:29:25,393: Par EPR <quantumnet.objects.epr.Epr object at 0x0000026B4D512ED0> adicionado ao canal.\n",
      "2024-06-30 21:29:25,393: Par EPR <quantumnet.objects.epr.Epr object at 0x0000026B4D533090> adicionado ao canal.\n",
      "2024-06-30 21:29:25,394: Par EPR <quantumnet.objects.epr.Epr object at 0x0000026B4D540D10> adicionado ao canal.\n",
      "2024-06-30 21:29:25,394: Par EPR <quantumnet.objects.epr.Epr object at 0x0000026B4D513190> adicionado ao canal.\n",
      "2024-06-30 21:29:25,395: Par EPR <quantumnet.objects.epr.Epr object at 0x0000026B4D541B90> adicionado ao canal.\n",
      "2024-06-30 21:29:25,395: Par EPR <quantumnet.objects.epr.Epr object at 0x0000026B4D52E2D0> adicionado ao canal.\n",
      "2024-06-30 21:29:25,396: Par EPR <quantumnet.objects.epr.Epr object at 0x0000026B4D52D950> adicionado ao canal.\n",
      "2024-06-30 21:29:25,396: Par EPR <quantumnet.objects.epr.Epr object at 0x0000026B4D52D410> adicionado ao canal.\n",
      "2024-06-30 21:29:25,397: Par EPR <quantumnet.objects.epr.Epr object at 0x0000026B4D545850> adicionado ao canal.\n",
      "2024-06-30 21:29:25,397: Par EPR <quantumnet.objects.epr.Epr object at 0x0000026B4D526710> adicionado ao canal.\n",
      "2024-06-30 21:29:25,397: Par EPR <quantumnet.objects.epr.Epr object at 0x0000026B4D52E650> adicionado ao canal.\n",
      "2024-06-30 21:29:25,398: Par EPR <quantumnet.objects.epr.Epr object at 0x0000026B4D52EB10> adicionado ao canal.\n",
      "2024-06-30 21:29:25,398: Par EPR <quantumnet.objects.epr.Epr object at 0x0000026B4D525890> adicionado ao canal.\n",
      "2024-06-30 21:29:25,398: Par EPR <quantumnet.objects.epr.Epr object at 0x0000026B4D5456D0> adicionado ao canal.\n",
      "2024-06-30 21:29:25,399: Par EPR <quantumnet.objects.epr.Epr object at 0x0000026B4D513550> adicionado ao canal.\n",
      "2024-06-30 21:29:25,399: Par EPR <quantumnet.objects.epr.Epr object at 0x0000026B4D511010> adicionado ao canal.\n",
      "2024-06-30 21:29:25,400: Par EPR <quantumnet.objects.epr.Epr object at 0x0000026B4D5434D0> adicionado ao canal.\n",
      "2024-06-30 21:29:25,401: Par EPR <quantumnet.objects.epr.Epr object at 0x0000026B4D5307D0> adicionado ao canal.\n",
      "2024-06-30 21:29:25,401: Par EPR <quantumnet.objects.epr.Epr object at 0x0000026B4D52A1D0> adicionado ao canal.\n",
      "2024-06-30 21:29:25,402: Par EPR <quantumnet.objects.epr.Epr object at 0x0000026B4D531F50> adicionado ao canal.\n",
      "2024-06-30 21:29:25,403: Par EPR <quantumnet.objects.epr.Epr object at 0x0000026B4D529D50> adicionado ao canal.\n",
      "2024-06-30 21:29:25,403: Par EPR <quantumnet.objects.epr.Epr object at 0x0000026B4D529B50> adicionado ao canal.\n",
      "2024-06-30 21:29:25,404: Par EPR <quantumnet.objects.epr.Epr object at 0x0000026B4D513D90> adicionado ao canal.\n",
      "2024-06-30 21:29:25,404: Par EPR <quantumnet.objects.epr.Epr object at 0x0000026B4D512590> adicionado ao canal.\n",
      "2024-06-30 21:29:25,404: Par EPR <quantumnet.objects.epr.Epr object at 0x0000026B4D522CD0> adicionado ao canal.\n",
      "2024-06-30 21:29:25,405: Par EPR <quantumnet.objects.epr.Epr object at 0x0000026B4D512210> adicionado ao canal.\n",
      "2024-06-30 21:29:25,405: Par EPR <quantumnet.objects.epr.Epr object at 0x0000026B4D52F050> adicionado ao canal.\n",
      "2024-06-30 21:29:25,406: Par EPR <quantumnet.objects.epr.Epr object at 0x0000026B4D540A90> adicionado ao canal.\n",
      "2024-06-30 21:29:25,406: Par EPR <quantumnet.objects.epr.Epr object at 0x0000026B4D512510> adicionado ao canal.\n",
      "2024-06-30 21:29:25,407: Par EPR <quantumnet.objects.epr.Epr object at 0x0000026B4D5137D0> adicionado ao canal.\n",
      "2024-06-30 21:29:25,408: Par EPR <quantumnet.objects.epr.Epr object at 0x0000026B4D511990> adicionado ao canal.\n",
      "2024-06-30 21:29:25,408: Par EPR <quantumnet.objects.epr.Epr object at 0x0000026B4D542110> adicionado ao canal.\n"
     ]
    },
    {
     "name": "stdout",
     "output_type": "stream",
     "text": [
      "Hosts inicializados\n",
      "Canais inicializados\n",
      "Pares EPRs adicionados\n"
     ]
    },
    {
     "data": {
      "image/png": "[encoded data removed]",
      "text/plain": [
       "<Figure size 640x480 with 1 Axes>"
      ]
     },
     "metadata": {},
     "output_type": "display_data"
    }
   ],
   "source": [
    "rede = Network()\n",
    "rede.set_ready_topology(\"Grade\", 3,3)\n",
    "rede.draw()"
   ]
  },
  {
   "cell_type": "code",
   "execution_count": 3,
   "metadata": {},
   "outputs": [],
   "source": [
    "alice = rede.get_host(6)\n",
    "bob = rede.get_host(1)"
   ]
  },
  {
   "cell_type": "markdown",
   "metadata": {},
   "source": [
    "##### Nesse sentido, primeiramente precisa-se escolher a melhor rota e seus critérios são dados pela rota com menor caminho. Para verificar isso usaremos a função short_route_valid, que irá entregar uma rota válida entre Alice e Bob. "
   ]
  },
  {
   "cell_type": "code",
   "execution_count": 4,
   "metadata": {},
   "outputs": [
    {
     "name": "stderr",
     "output_type": "stream",
     "text": [
      "2024-06-30 21:29:26,097: Rota válida encontrada: [6, 3, 0, 1]\n"
     ]
    },
    {
     "data": {
      "text/plain": [
       "[6, 3, 0, 1]"
      ]
     },
     "execution_count": 4,
     "metadata": {},
     "output_type": "execute_result"
    }
   ],
   "source": [
    "rede.networklayer.short_route_valid(6,1)"
   ]
  },
  {
   "cell_type": "markdown",
   "metadata": {},
   "source": [
    "##### Para a rota ser válida, precisa-se verificar se cada canal da rede tem peloo menos 1 par EPR e se nó tem 2 qubits. Através dessas funções podemos verificar."
   ]
  },
  {
   "cell_type": "code",
   "execution_count": 5,
   "metadata": {},
   "outputs": [
    {
     "name": "stderr",
     "output_type": "stream",
     "text": [
      "2024-06-30 21:29:26,110: Há pelo menos 1 par EPR nesses canais\n",
      "2024-06-30 21:29:26,111: Todos os nós possuem pelo menos 2 qubits\n"
     ]
    },
    {
     "data": {
      "text/plain": [
       "True"
      ]
     },
     "execution_count": 5,
     "metadata": {},
     "output_type": "execute_result"
    }
   ],
   "source": [
    "rede.networklayer.verify_channels()\n",
    "rede.networklayer.verify_nodes()"
   ]
  },
  {
   "cell_type": "markdown",
   "metadata": {},
   "source": [
    "##### Dessa forma, vamos realizar o entanglement swapping entre Alice e Bob, o que permite criar um par de qubits emaranhados entre dois nós que não têm uma conexão direta de emaranhamento, utilizando pares intermediários."
   ]
  },
  {
   "cell_type": "code",
   "execution_count": 6,
   "metadata": {},
   "outputs": [
    {
     "name": "stderr",
     "output_type": "stream",
     "text": [
      "2024-06-30 21:29:26,122: Par EPR <quantumnet.objects.epr.Epr object at 0x0000026B4CECD050> adicionado ao canal (6, 0).\n",
      "2024-06-30 21:29:26,123: Par EPR <quantumnet.objects.epr.Epr object at 0x0000026B4D530110> removido do canal (6, 3).\n",
      "2024-06-30 21:29:26,125: Par EPR <quantumnet.objects.epr.Epr object at 0x0000026B4D531E90> removido do canal (3, 0).\n",
      "2024-06-30 21:29:26,125: Par EPR <quantumnet.objects.epr.Epr object at 0x0000026B5C520DD0> adicionado ao canal (6, 1).\n",
      "2024-06-30 21:29:26,126: Par EPR <quantumnet.objects.epr.Epr object at 0x0000026B4CECD050> removido do canal (6, 0).\n",
      "2024-06-30 21:29:26,127: Par EPR <quantumnet.objects.epr.Epr object at 0x0000026B4D522D10> removido do canal (0, 1).\n",
      "2024-06-30 21:29:26,128: Sucesso do Entanglement Swapping no 6 para 1 através do 3 e 0\n"
     ]
    },
    {
     "data": {
      "text/plain": [
       "True"
      ]
     },
     "execution_count": 6,
     "metadata": {},
     "output_type": "execute_result"
    }
   ],
   "source": [
    "rede.networklayer.entanglement_swapping(6, 3, 0, 1)"
   ]
  }
 ],
 "metadata": {
  "kernelspec": {
   "display_name": "Python 3",
   "language": "python",
   "name": "python3"
  },
  "language_info": {
   "codemirror_mode": {
    "name": "ipython",
    "version": 3
   },
   "file_extension": ".py",
   "mimetype": "text/x-python",
   "name": "python",
   "nbconvert_exporter": "python",
   "pygments_lexer": "ipython3",
   "version": "3.11.4"
  }
 },
 "nbformat": 4,
 "nbformat_minor": 2
}
