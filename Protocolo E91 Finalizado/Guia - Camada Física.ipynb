{
 "cells": [
  {
   "cell_type": "markdown",
   "metadata": {},
   "source": [
    "## Guia da Camada Física\n",
    "##### O documento tem o objetivo de demostrar o funcionamento da camada física,além de suas funções e ferramentas."
   ]
  },
  {
   "cell_type": "code",
   "execution_count": 1,
   "metadata": {},
   "outputs": [],
   "source": [
    "from quantumnet.components import Network, Host\n",
    "from quantumnet.objects import Qubit, Logger\n",
    "import random\n",
    "Logger.activate(Logger)"
   ]
  },
  {
   "cell_type": "markdown",
   "metadata": {},
   "source": [
    "##### Será instaciada a rede e definida a topologia de Grade"
   ]
  },
  {
   "cell_type": "code",
   "execution_count": 2,
   "metadata": {},
   "outputs": [
    {
     "name": "stderr",
     "output_type": "stream",
     "text": [
      "2024-06-16 22:31:28,830: Qubit 0 adicionado à memória do Host 0.\n",
      "2024-06-16 22:31:28,830: Qubit 0 criado com fidelidade inicial 0.6195041276485685 e adicionado à memória do Host 0.\n",
      "2024-06-16 22:31:28,831: Qubit 1 adicionado à memória do Host 0.\n",
      "2024-06-16 22:31:28,831: Qubit 1 criado com fidelidade inicial 0.3304740712700147 e adicionado à memória do Host 0.\n",
      "2024-06-16 22:31:28,832: Qubit 2 adicionado à memória do Host 0.\n",
      "2024-06-16 22:31:28,832: Qubit 2 criado com fidelidade inicial 0.8479171494208614 e adicionado à memória do Host 0.\n",
      "2024-06-16 22:31:28,832: Qubit 3 adicionado à memória do Host 0.\n",
      "2024-06-16 22:31:28,833: Qubit 3 criado com fidelidade inicial 0.1181369421753391 e adicionado à memória do Host 0.\n",
      "2024-06-16 22:31:28,833: Qubit 4 adicionado à memória do Host 0.\n",
      "2024-06-16 22:31:28,833: Qubit 4 criado com fidelidade inicial 0.16638591879855313 e adicionado à memória do Host 0.\n",
      "2024-06-16 22:31:28,834: Qubit 5 adicionado à memória do Host 0.\n",
      "2024-06-16 22:31:28,834: Qubit 5 criado com fidelidade inicial 0.2594822984977321 e adicionado à memória do Host 0.\n",
      "2024-06-16 22:31:28,834: Qubit 6 adicionado à memória do Host 0.\n",
      "2024-06-16 22:31:28,835: Qubit 6 criado com fidelidade inicial 0.527679492902626 e adicionado à memória do Host 0.\n",
      "2024-06-16 22:31:28,835: Qubit 7 adicionado à memória do Host 0.\n",
      "2024-06-16 22:31:28,835: Qubit 7 criado com fidelidade inicial 0.6547651486894599 e adicionado à memória do Host 0.\n",
      "2024-06-16 22:31:28,835: Qubit 8 adicionado à memória do Host 0.\n",
      "2024-06-16 22:31:28,836: Qubit 8 criado com fidelidade inicial 0.8473586944121453 e adicionado à memória do Host 0.\n",
      "2024-06-16 22:31:28,836: Qubit 9 adicionado à memória do Host 0.\n",
      "2024-06-16 22:31:28,836: Qubit 9 criado com fidelidade inicial 0.2408933595921251 e adicionado à memória do Host 0.\n",
      "2024-06-16 22:31:28,836: Qubit 10 adicionado à memória do Host 0.\n",
      "2024-06-16 22:31:28,837: Qubit 10 criado com fidelidade inicial 0.916711745023158 e adicionado à memória do Host 0.\n",
      "2024-06-16 22:31:28,837: Qubit 11 adicionado à memória do Host 0.\n",
      "2024-06-16 22:31:28,837: Qubit 11 criado com fidelidade inicial 0.9298195111197894 e adicionado à memória do Host 0.\n",
      "2024-06-16 22:31:28,838: Qubit 12 adicionado à memória do Host 0.\n",
      "2024-06-16 22:31:28,838: Qubit 12 criado com fidelidade inicial 0.21929687364051964 e adicionado à memória do Host 0.\n",
      "2024-06-16 22:31:28,838: Qubit 13 adicionado à memória do Host 0.\n",
      "2024-06-16 22:31:28,839: Qubit 13 criado com fidelidade inicial 0.5881379641705101 e adicionado à memória do Host 0.\n",
      "2024-06-16 22:31:28,839: Qubit 14 adicionado à memória do Host 0.\n",
      "2024-06-16 22:31:28,839: Qubit 14 criado com fidelidade inicial 0.33601540621949566 e adicionado à memória do Host 0.\n",
      "2024-06-16 22:31:28,840: Qubit 15 adicionado à memória do Host 0.\n",
      "2024-06-16 22:31:28,840: Qubit 15 criado com fidelidade inicial 0.7253680138723879 e adicionado à memória do Host 0.\n",
      "2024-06-16 22:31:28,841: Qubit 16 adicionado à memória do Host 0.\n",
      "2024-06-16 22:31:28,841: Qubit 16 criado com fidelidade inicial 0.25955083665789536 e adicionado à memória do Host 0.\n",
      "2024-06-16 22:31:28,841: Qubit 17 adicionado à memória do Host 0.\n",
      "2024-06-16 22:31:28,841: Qubit 17 criado com fidelidade inicial 0.5496723761370653 e adicionado à memória do Host 0.\n",
      "2024-06-16 22:31:28,842: Qubit 18 adicionado à memória do Host 0.\n",
      "2024-06-16 22:31:28,842: Qubit 18 criado com fidelidade inicial 0.6464776405084811 e adicionado à memória do Host 0.\n",
      "2024-06-16 22:31:28,842: Qubit 19 adicionado à memória do Host 0.\n",
      "2024-06-16 22:31:28,842: Qubit 19 criado com fidelidade inicial 0.08987571416416784 e adicionado à memória do Host 0.\n",
      "2024-06-16 22:31:28,843: Qubit 20 adicionado à memória do Host 1.\n",
      "2024-06-16 22:31:28,843: Qubit 20 criado com fidelidade inicial 0.010528862237542569 e adicionado à memória do Host 1.\n",
      "2024-06-16 22:31:28,843: Qubit 21 adicionado à memória do Host 1.\n",
      "2024-06-16 22:31:28,843: Qubit 21 criado com fidelidade inicial 0.5041706743704744 e adicionado à memória do Host 1.\n",
      "2024-06-16 22:31:28,844: Qubit 22 adicionado à memória do Host 1.\n",
      "2024-06-16 22:31:28,844: Qubit 22 criado com fidelidade inicial 0.6407072345723966 e adicionado à memória do Host 1.\n",
      "2024-06-16 22:31:28,844: Qubit 23 adicionado à memória do Host 1.\n",
      "2024-06-16 22:31:28,844: Qubit 23 criado com fidelidade inicial 0.5715583977274884 e adicionado à memória do Host 1.\n",
      "2024-06-16 22:31:28,845: Qubit 24 adicionado à memória do Host 1.\n",
      "2024-06-16 22:31:28,845: Qubit 24 criado com fidelidade inicial 0.7219094774465399 e adicionado à memória do Host 1.\n",
      "2024-06-16 22:31:28,846: Qubit 25 adicionado à memória do Host 1.\n",
      "2024-06-16 22:31:28,846: Qubit 25 criado com fidelidade inicial 0.7554667120536764 e adicionado à memória do Host 1.\n",
      "2024-06-16 22:31:28,846: Qubit 26 adicionado à memória do Host 1.\n",
      "2024-06-16 22:31:28,846: Qubit 26 criado com fidelidade inicial 0.40406345915531405 e adicionado à memória do Host 1.\n",
      "2024-06-16 22:31:28,847: Qubit 27 adicionado à memória do Host 1.\n",
      "2024-06-16 22:31:28,847: Qubit 27 criado com fidelidade inicial 0.3967222892390738 e adicionado à memória do Host 1.\n",
      "2024-06-16 22:31:28,847: Qubit 28 adicionado à memória do Host 1.\n",
      "2024-06-16 22:31:28,848: Qubit 28 criado com fidelidade inicial 0.6673287936352473 e adicionado à memória do Host 1.\n",
      "2024-06-16 22:31:28,848: Qubit 29 adicionado à memória do Host 1.\n",
      "2024-06-16 22:31:28,848: Qubit 29 criado com fidelidade inicial 0.7708883859322572 e adicionado à memória do Host 1.\n",
      "2024-06-16 22:31:28,849: Qubit 30 adicionado à memória do Host 1.\n",
      "2024-06-16 22:31:28,849: Qubit 30 criado com fidelidade inicial 0.3807052891361057 e adicionado à memória do Host 1.\n",
      "2024-06-16 22:31:28,849: Qubit 31 adicionado à memória do Host 1.\n",
      "2024-06-16 22:31:28,850: Qubit 31 criado com fidelidade inicial 0.3288064880632263 e adicionado à memória do Host 1.\n",
      "2024-06-16 22:31:28,850: Qubit 32 adicionado à memória do Host 1.\n",
      "2024-06-16 22:31:28,850: Qubit 32 criado com fidelidade inicial 0.10209164052428632 e adicionado à memória do Host 1.\n",
      "2024-06-16 22:31:28,850: Qubit 33 adicionado à memória do Host 1.\n",
      "2024-06-16 22:31:28,851: Qubit 33 criado com fidelidade inicial 0.5107993648696155 e adicionado à memória do Host 1.\n",
      "2024-06-16 22:31:28,851: Qubit 34 adicionado à memória do Host 1.\n",
      "2024-06-16 22:31:28,851: Qubit 34 criado com fidelidade inicial 0.42044975689267405 e adicionado à memória do Host 1.\n",
      "2024-06-16 22:31:28,852: Qubit 35 adicionado à memória do Host 1.\n",
      "2024-06-16 22:31:28,852: Qubit 35 criado com fidelidade inicial 0.7357528572063436 e adicionado à memória do Host 1.\n",
      "2024-06-16 22:31:28,852: Qubit 36 adicionado à memória do Host 1.\n",
      "2024-06-16 22:31:28,853: Qubit 36 criado com fidelidade inicial 0.44284971344695767 e adicionado à memória do Host 1.\n",
      "2024-06-16 22:31:28,853: Qubit 37 adicionado à memória do Host 1.\n",
      "2024-06-16 22:31:28,853: Qubit 37 criado com fidelidade inicial 0.8834496437956093 e adicionado à memória do Host 1.\n",
      "2024-06-16 22:31:28,854: Qubit 38 adicionado à memória do Host 1.\n",
      "2024-06-16 22:31:28,854: Qubit 38 criado com fidelidade inicial 0.7672204117942799 e adicionado à memória do Host 1.\n",
      "2024-06-16 22:31:28,854: Qubit 39 adicionado à memória do Host 1.\n",
      "2024-06-16 22:31:28,854: Qubit 39 criado com fidelidade inicial 0.025265217986980892 e adicionado à memória do Host 1.\n",
      "2024-06-16 22:31:28,855: Qubit 40 adicionado à memória do Host 2.\n",
      "2024-06-16 22:31:28,855: Qubit 40 criado com fidelidade inicial 0.0009981386821668048 e adicionado à memória do Host 2.\n",
      "2024-06-16 22:31:28,855: Qubit 41 adicionado à memória do Host 2.\n",
      "2024-06-16 22:31:28,856: Qubit 41 criado com fidelidade inicial 0.1949908612934551 e adicionado à memória do Host 2.\n",
      "2024-06-16 22:31:28,856: Qubit 42 adicionado à memória do Host 2.\n",
      "2024-06-16 22:31:28,856: Qubit 42 criado com fidelidade inicial 0.5575194154537071 e adicionado à memória do Host 2.\n",
      "2024-06-16 22:31:28,856: Qubit 43 adicionado à memória do Host 2.\n",
      "2024-06-16 22:31:28,857: Qubit 43 criado com fidelidade inicial 0.4996542886178408 e adicionado à memória do Host 2.\n",
      "2024-06-16 22:31:28,857: Qubit 44 adicionado à memória do Host 2.\n",
      "2024-06-16 22:31:28,857: Qubit 44 criado com fidelidade inicial 0.37449438719274697 e adicionado à memória do Host 2.\n",
      "2024-06-16 22:31:28,858: Qubit 45 adicionado à memória do Host 2.\n",
      "2024-06-16 22:31:28,858: Qubit 45 criado com fidelidade inicial 0.6268391078341491 e adicionado à memória do Host 2.\n",
      "2024-06-16 22:31:28,858: Qubit 46 adicionado à memória do Host 2.\n",
      "2024-06-16 22:31:28,859: Qubit 46 criado com fidelidade inicial 0.9831154595457021 e adicionado à memória do Host 2.\n",
      "2024-06-16 22:31:28,859: Qubit 47 adicionado à memória do Host 2.\n",
      "2024-06-16 22:31:28,859: Qubit 47 criado com fidelidade inicial 0.7814329368953953 e adicionado à memória do Host 2.\n",
      "2024-06-16 22:31:28,860: Qubit 48 adicionado à memória do Host 2.\n",
      "2024-06-16 22:31:28,860: Qubit 48 criado com fidelidade inicial 0.40796204077938725 e adicionado à memória do Host 2.\n",
      "2024-06-16 22:31:28,860: Qubit 49 adicionado à memória do Host 2.\n",
      "2024-06-16 22:31:28,861: Qubit 49 criado com fidelidade inicial 0.16760527164014405 e adicionado à memória do Host 2.\n",
      "2024-06-16 22:31:28,861: Qubit 50 adicionado à memória do Host 2.\n",
      "2024-06-16 22:31:28,861: Qubit 50 criado com fidelidade inicial 0.4912943425314311 e adicionado à memória do Host 2.\n",
      "2024-06-16 22:31:28,861: Qubit 51 adicionado à memória do Host 2.\n",
      "2024-06-16 22:31:28,862: Qubit 51 criado com fidelidade inicial 0.8608761216850283 e adicionado à memória do Host 2.\n",
      "2024-06-16 22:31:28,862: Qubit 52 adicionado à memória do Host 2.\n",
      "2024-06-16 22:31:28,862: Qubit 52 criado com fidelidade inicial 0.9838380865368572 e adicionado à memória do Host 2.\n",
      "2024-06-16 22:31:28,863: Qubit 53 adicionado à memória do Host 2.\n",
      "2024-06-16 22:31:28,863: Qubit 53 criado com fidelidade inicial 0.14958638953408432 e adicionado à memória do Host 2.\n",
      "2024-06-16 22:31:28,863: Qubit 54 adicionado à memória do Host 2.\n",
      "2024-06-16 22:31:28,863: Qubit 54 criado com fidelidade inicial 0.3616278209335405 e adicionado à memória do Host 2.\n",
      "2024-06-16 22:31:28,864: Qubit 55 adicionado à memória do Host 2.\n",
      "2024-06-16 22:31:28,864: Qubit 55 criado com fidelidade inicial 0.4245519532444315 e adicionado à memória do Host 2.\n",
      "2024-06-16 22:31:28,864: Qubit 56 adicionado à memória do Host 2.\n",
      "2024-06-16 22:31:28,865: Qubit 56 criado com fidelidade inicial 0.8408356701410777 e adicionado à memória do Host 2.\n",
      "2024-06-16 22:31:28,865: Qubit 57 adicionado à memória do Host 2.\n",
      "2024-06-16 22:31:28,865: Qubit 57 criado com fidelidade inicial 0.5006617237422331 e adicionado à memória do Host 2.\n",
      "2024-06-16 22:31:28,866: Qubit 58 adicionado à memória do Host 2.\n",
      "2024-06-16 22:31:28,866: Qubit 58 criado com fidelidade inicial 0.3182829068150824 e adicionado à memória do Host 2.\n",
      "2024-06-16 22:31:28,866: Qubit 59 adicionado à memória do Host 2.\n",
      "2024-06-16 22:31:28,866: Qubit 59 criado com fidelidade inicial 0.991904063513994 e adicionado à memória do Host 2.\n",
      "2024-06-16 22:31:28,867: Qubit 60 adicionado à memória do Host 3.\n",
      "2024-06-16 22:31:28,867: Qubit 60 criado com fidelidade inicial 0.6850466456914512 e adicionado à memória do Host 3.\n",
      "2024-06-16 22:31:28,868: Qubit 61 adicionado à memória do Host 3.\n",
      "2024-06-16 22:31:28,868: Qubit 61 criado com fidelidade inicial 0.9305256308237906 e adicionado à memória do Host 3.\n",
      "2024-06-16 22:31:28,868: Qubit 62 adicionado à memória do Host 3.\n",
      "2024-06-16 22:31:28,869: Qubit 62 criado com fidelidade inicial 0.7754719431133459 e adicionado à memória do Host 3.\n",
      "2024-06-16 22:31:28,869: Qubit 63 adicionado à memória do Host 3.\n",
      "2024-06-16 22:31:28,869: Qubit 63 criado com fidelidade inicial 0.718983400717859 e adicionado à memória do Host 3.\n",
      "2024-06-16 22:31:28,870: Qubit 64 adicionado à memória do Host 3.\n",
      "2024-06-16 22:31:28,870: Qubit 64 criado com fidelidade inicial 0.3729272141525358 e adicionado à memória do Host 3.\n",
      "2024-06-16 22:31:28,870: Qubit 65 adicionado à memória do Host 3.\n",
      "2024-06-16 22:31:28,870: Qubit 65 criado com fidelidade inicial 0.6473574655255188 e adicionado à memória do Host 3.\n",
      "2024-06-16 22:31:28,871: Qubit 66 adicionado à memória do Host 3.\n",
      "2024-06-16 22:31:28,871: Qubit 66 criado com fidelidade inicial 0.940623249743714 e adicionado à memória do Host 3.\n",
      "2024-06-16 22:31:28,871: Qubit 67 adicionado à memória do Host 3.\n",
      "2024-06-16 22:31:28,872: Qubit 67 criado com fidelidade inicial 0.3311484233332054 e adicionado à memória do Host 3.\n",
      "2024-06-16 22:31:28,872: Qubit 68 adicionado à memória do Host 3.\n",
      "2024-06-16 22:31:28,872: Qubit 68 criado com fidelidade inicial 0.4488160831553478 e adicionado à memória do Host 3.\n",
      "2024-06-16 22:31:28,872: Qubit 69 adicionado à memória do Host 3.\n",
      "2024-06-16 22:31:28,873: Qubit 69 criado com fidelidade inicial 0.13547256850637945 e adicionado à memória do Host 3.\n",
      "2024-06-16 22:31:28,873: Qubit 70 adicionado à memória do Host 3.\n",
      "2024-06-16 22:31:28,873: Qubit 70 criado com fidelidade inicial 0.961176585840143 e adicionado à memória do Host 3.\n",
      "2024-06-16 22:31:28,874: Qubit 71 adicionado à memória do Host 3.\n",
      "2024-06-16 22:31:28,874: Qubit 71 criado com fidelidade inicial 0.06046653181692874 e adicionado à memória do Host 3.\n",
      "2024-06-16 22:31:28,874: Qubit 72 adicionado à memória do Host 3.\n",
      "2024-06-16 22:31:28,875: Qubit 72 criado com fidelidade inicial 0.017179956408184482 e adicionado à memória do Host 3.\n",
      "2024-06-16 22:31:28,875: Qubit 73 adicionado à memória do Host 3.\n",
      "2024-06-16 22:31:28,875: Qubit 73 criado com fidelidade inicial 0.14773545262719934 e adicionado à memória do Host 3.\n",
      "2024-06-16 22:31:28,876: Qubit 74 adicionado à memória do Host 3.\n",
      "2024-06-16 22:31:28,876: Qubit 74 criado com fidelidade inicial 0.8970626225327953 e adicionado à memória do Host 3.\n",
      "2024-06-16 22:31:28,876: Qubit 75 adicionado à memória do Host 3.\n",
      "2024-06-16 22:31:28,877: Qubit 75 criado com fidelidade inicial 0.8755541989486848 e adicionado à memória do Host 3.\n",
      "2024-06-16 22:31:28,877: Qubit 76 adicionado à memória do Host 3.\n",
      "2024-06-16 22:31:28,877: Qubit 76 criado com fidelidade inicial 0.5239233657807411 e adicionado à memória do Host 3.\n",
      "2024-06-16 22:31:28,878: Qubit 77 adicionado à memória do Host 3.\n",
      "2024-06-16 22:31:28,878: Qubit 77 criado com fidelidade inicial 0.6501792142357925 e adicionado à memória do Host 3.\n",
      "2024-06-16 22:31:28,878: Qubit 78 adicionado à memória do Host 3.\n",
      "2024-06-16 22:31:28,878: Qubit 78 criado com fidelidade inicial 0.9951601373375846 e adicionado à memória do Host 3.\n",
      "2024-06-16 22:31:28,879: Qubit 79 adicionado à memória do Host 3.\n",
      "2024-06-16 22:31:28,879: Qubit 79 criado com fidelidade inicial 0.1254462713130372 e adicionado à memória do Host 3.\n",
      "2024-06-16 22:31:28,879: Qubit 80 adicionado à memória do Host 4.\n",
      "2024-06-16 22:31:28,879: Qubit 80 criado com fidelidade inicial 0.6812408442154594 e adicionado à memória do Host 4.\n",
      "2024-06-16 22:31:28,880: Qubit 81 adicionado à memória do Host 4.\n",
      "2024-06-16 22:31:28,880: Qubit 81 criado com fidelidade inicial 0.711984632327528 e adicionado à memória do Host 4.\n",
      "2024-06-16 22:31:28,880: Qubit 82 adicionado à memória do Host 4.\n",
      "2024-06-16 22:31:28,881: Qubit 82 criado com fidelidade inicial 0.5889956577749731 e adicionado à memória do Host 4.\n",
      "2024-06-16 22:31:28,881: Qubit 83 adicionado à memória do Host 4.\n",
      "2024-06-16 22:31:28,881: Qubit 83 criado com fidelidade inicial 0.11301946359263715 e adicionado à memória do Host 4.\n",
      "2024-06-16 22:31:28,882: Qubit 84 adicionado à memória do Host 4.\n",
      "2024-06-16 22:31:28,882: Qubit 84 criado com fidelidade inicial 0.8908673760760628 e adicionado à memória do Host 4.\n",
      "2024-06-16 22:31:28,883: Qubit 85 adicionado à memória do Host 4.\n",
      "2024-06-16 22:31:28,883: Qubit 85 criado com fidelidade inicial 0.8729039416990324 e adicionado à memória do Host 4.\n",
      "2024-06-16 22:31:28,883: Qubit 86 adicionado à memória do Host 4.\n",
      "2024-06-16 22:31:28,883: Qubit 86 criado com fidelidade inicial 0.9712272488543868 e adicionado à memória do Host 4.\n",
      "2024-06-16 22:31:28,884: Qubit 87 adicionado à memória do Host 4.\n",
      "2024-06-16 22:31:28,884: Qubit 87 criado com fidelidade inicial 0.5956237844707346 e adicionado à memória do Host 4.\n",
      "2024-06-16 22:31:28,884: Qubit 88 adicionado à memória do Host 4.\n",
      "2024-06-16 22:31:28,885: Qubit 88 criado com fidelidade inicial 0.8331475049961186 e adicionado à memória do Host 4.\n",
      "2024-06-16 22:31:28,885: Qubit 89 adicionado à memória do Host 4.\n",
      "2024-06-16 22:31:28,885: Qubit 89 criado com fidelidade inicial 0.8578815000166797 e adicionado à memória do Host 4.\n",
      "2024-06-16 22:31:28,885: Qubit 90 adicionado à memória do Host 4.\n",
      "2024-06-16 22:31:28,886: Qubit 90 criado com fidelidade inicial 0.13914110377721434 e adicionado à memória do Host 4.\n",
      "2024-06-16 22:31:28,886: Qubit 91 adicionado à memória do Host 4.\n",
      "2024-06-16 22:31:28,886: Qubit 91 criado com fidelidade inicial 0.10126440893794963 e adicionado à memória do Host 4.\n",
      "2024-06-16 22:31:28,886: Qubit 92 adicionado à memória do Host 4.\n",
      "2024-06-16 22:31:28,887: Qubit 92 criado com fidelidade inicial 0.5648931426397583 e adicionado à memória do Host 4.\n",
      "2024-06-16 22:31:28,887: Qubit 93 adicionado à memória do Host 4.\n",
      "2024-06-16 22:31:28,887: Qubit 93 criado com fidelidade inicial 0.24729954032669266 e adicionado à memória do Host 4.\n",
      "2024-06-16 22:31:28,888: Qubit 94 adicionado à memória do Host 4.\n",
      "2024-06-16 22:31:28,888: Qubit 94 criado com fidelidade inicial 0.15530007311028182 e adicionado à memória do Host 4.\n",
      "2024-06-16 22:31:28,888: Qubit 95 adicionado à memória do Host 4.\n",
      "2024-06-16 22:31:28,889: Qubit 95 criado com fidelidade inicial 0.627475282574176 e adicionado à memória do Host 4.\n",
      "2024-06-16 22:31:28,889: Qubit 96 adicionado à memória do Host 4.\n",
      "2024-06-16 22:31:28,889: Qubit 96 criado com fidelidade inicial 0.8313212724364574 e adicionado à memória do Host 4.\n",
      "2024-06-16 22:31:28,890: Qubit 97 adicionado à memória do Host 4.\n",
      "2024-06-16 22:31:28,890: Qubit 97 criado com fidelidade inicial 0.637061855338608 e adicionado à memória do Host 4.\n",
      "2024-06-16 22:31:28,890: Qubit 98 adicionado à memória do Host 4.\n",
      "2024-06-16 22:31:28,890: Qubit 98 criado com fidelidade inicial 0.44660797166322974 e adicionado à memória do Host 4.\n",
      "2024-06-16 22:31:28,891: Qubit 99 adicionado à memória do Host 4.\n",
      "2024-06-16 22:31:28,891: Qubit 99 criado com fidelidade inicial 0.015640597709179693 e adicionado à memória do Host 4.\n",
      "2024-06-16 22:31:28,891: Qubit 100 adicionado à memória do Host 5.\n",
      "2024-06-16 22:31:28,892: Qubit 100 criado com fidelidade inicial 0.8065057967385539 e adicionado à memória do Host 5.\n",
      "2024-06-16 22:31:28,892: Qubit 101 adicionado à memória do Host 5.\n",
      "2024-06-16 22:31:28,892: Qubit 101 criado com fidelidade inicial 0.6441262462126255 e adicionado à memória do Host 5.\n",
      "2024-06-16 22:31:28,893: Qubit 102 adicionado à memória do Host 5.\n",
      "2024-06-16 22:31:28,893: Qubit 102 criado com fidelidade inicial 0.6795933921401548 e adicionado à memória do Host 5.\n",
      "2024-06-16 22:31:28,893: Qubit 103 adicionado à memória do Host 5.\n",
      "2024-06-16 22:31:28,894: Qubit 103 criado com fidelidade inicial 0.07296086537404978 e adicionado à memória do Host 5.\n",
      "2024-06-16 22:31:28,894: Qubit 104 adicionado à memória do Host 5.\n",
      "2024-06-16 22:31:28,894: Qubit 104 criado com fidelidade inicial 0.055918067826143836 e adicionado à memória do Host 5.\n",
      "2024-06-16 22:31:28,895: Qubit 105 adicionado à memória do Host 5.\n",
      "2024-06-16 22:31:28,896: Qubit 105 criado com fidelidade inicial 0.9871582543492167 e adicionado à memória do Host 5.\n",
      "2024-06-16 22:31:28,897: Qubit 106 adicionado à memória do Host 5.\n",
      "2024-06-16 22:31:28,897: Qubit 106 criado com fidelidade inicial 0.4579669479834866 e adicionado à memória do Host 5.\n",
      "2024-06-16 22:31:28,898: Qubit 107 adicionado à memória do Host 5.\n",
      "2024-06-16 22:31:28,898: Qubit 107 criado com fidelidade inicial 0.030732579490688527 e adicionado à memória do Host 5.\n",
      "2024-06-16 22:31:28,898: Qubit 108 adicionado à memória do Host 5.\n",
      "2024-06-16 22:31:28,899: Qubit 108 criado com fidelidade inicial 0.19268458119949072 e adicionado à memória do Host 5.\n",
      "2024-06-16 22:31:28,899: Qubit 109 adicionado à memória do Host 5.\n",
      "2024-06-16 22:31:28,900: Qubit 109 criado com fidelidade inicial 0.09230678028880046 e adicionado à memória do Host 5.\n",
      "2024-06-16 22:31:28,900: Qubit 110 adicionado à memória do Host 5.\n",
      "2024-06-16 22:31:28,900: Qubit 110 criado com fidelidade inicial 0.21262066165674487 e adicionado à memória do Host 5.\n",
      "2024-06-16 22:31:28,901: Qubit 111 adicionado à memória do Host 5.\n",
      "2024-06-16 22:31:28,901: Qubit 111 criado com fidelidade inicial 0.809199034809254 e adicionado à memória do Host 5.\n",
      "2024-06-16 22:31:28,901: Qubit 112 adicionado à memória do Host 5.\n",
      "2024-06-16 22:31:28,901: Qubit 112 criado com fidelidade inicial 0.6564693352111833 e adicionado à memória do Host 5.\n",
      "2024-06-16 22:31:28,902: Qubit 113 adicionado à memória do Host 5.\n",
      "2024-06-16 22:31:28,902: Qubit 113 criado com fidelidade inicial 0.910600643063774 e adicionado à memória do Host 5.\n",
      "2024-06-16 22:31:28,902: Qubit 114 adicionado à memória do Host 5.\n",
      "2024-06-16 22:31:28,903: Qubit 114 criado com fidelidade inicial 0.11097465482459234 e adicionado à memória do Host 5.\n",
      "2024-06-16 22:31:28,903: Qubit 115 adicionado à memória do Host 5.\n",
      "2024-06-16 22:31:28,903: Qubit 115 criado com fidelidade inicial 0.07458663635286789 e adicionado à memória do Host 5.\n",
      "2024-06-16 22:31:28,904: Qubit 116 adicionado à memória do Host 5.\n",
      "2024-06-16 22:31:28,904: Qubit 116 criado com fidelidade inicial 0.06251880313275238 e adicionado à memória do Host 5.\n",
      "2024-06-16 22:31:28,904: Qubit 117 adicionado à memória do Host 5.\n",
      "2024-06-16 22:31:28,904: Qubit 117 criado com fidelidade inicial 0.9989240671966771 e adicionado à memória do Host 5.\n",
      "2024-06-16 22:31:28,905: Qubit 118 adicionado à memória do Host 5.\n",
      "2024-06-16 22:31:28,905: Qubit 118 criado com fidelidade inicial 0.8624977381547191 e adicionado à memória do Host 5.\n",
      "2024-06-16 22:31:28,905: Qubit 119 adicionado à memória do Host 5.\n",
      "2024-06-16 22:31:28,905: Qubit 119 criado com fidelidade inicial 0.888981710136067 e adicionado à memória do Host 5.\n",
      "2024-06-16 22:31:28,906: Qubit 120 adicionado à memória do Host 6.\n",
      "2024-06-16 22:31:28,906: Qubit 120 criado com fidelidade inicial 0.00736200564750622 e adicionado à memória do Host 6.\n",
      "2024-06-16 22:31:28,906: Qubit 121 adicionado à memória do Host 6.\n",
      "2024-06-16 22:31:28,907: Qubit 121 criado com fidelidade inicial 0.10497930407176059 e adicionado à memória do Host 6.\n",
      "2024-06-16 22:31:28,907: Qubit 122 adicionado à memória do Host 6.\n",
      "2024-06-16 22:31:28,907: Qubit 122 criado com fidelidade inicial 0.7244170377255043 e adicionado à memória do Host 6.\n",
      "2024-06-16 22:31:28,908: Qubit 123 adicionado à memória do Host 6.\n",
      "2024-06-16 22:31:28,908: Qubit 123 criado com fidelidade inicial 0.03813540373912783 e adicionado à memória do Host 6.\n",
      "2024-06-16 22:31:28,908: Qubit 124 adicionado à memória do Host 6.\n",
      "2024-06-16 22:31:28,909: Qubit 124 criado com fidelidade inicial 0.3915145324099121 e adicionado à memória do Host 6.\n",
      "2024-06-16 22:31:28,909: Qubit 125 adicionado à memória do Host 6.\n",
      "2024-06-16 22:31:28,909: Qubit 125 criado com fidelidade inicial 0.6647048487822628 e adicionado à memória do Host 6.\n",
      "2024-06-16 22:31:28,909: Qubit 126 adicionado à memória do Host 6.\n",
      "2024-06-16 22:31:28,910: Qubit 126 criado com fidelidade inicial 0.8463326060541694 e adicionado à memória do Host 6.\n",
      "2024-06-16 22:31:28,910: Qubit 127 adicionado à memória do Host 6.\n",
      "2024-06-16 22:31:28,910: Qubit 127 criado com fidelidade inicial 0.731347527433105 e adicionado à memória do Host 6.\n",
      "2024-06-16 22:31:28,910: Qubit 128 adicionado à memória do Host 6.\n",
      "2024-06-16 22:31:28,911: Qubit 128 criado com fidelidade inicial 0.043570420105218055 e adicionado à memória do Host 6.\n",
      "2024-06-16 22:31:28,911: Qubit 129 adicionado à memória do Host 6.\n",
      "2024-06-16 22:31:28,911: Qubit 129 criado com fidelidade inicial 0.7419028689903768 e adicionado à memória do Host 6.\n",
      "2024-06-16 22:31:28,912: Qubit 130 adicionado à memória do Host 6.\n",
      "2024-06-16 22:31:28,912: Qubit 130 criado com fidelidade inicial 0.24527928303566116 e adicionado à memória do Host 6.\n",
      "2024-06-16 22:31:28,912: Qubit 131 adicionado à memória do Host 6.\n",
      "2024-06-16 22:31:28,913: Qubit 131 criado com fidelidade inicial 0.037107895875073016 e adicionado à memória do Host 6.\n",
      "2024-06-16 22:31:28,913: Qubit 132 adicionado à memória do Host 6.\n",
      "2024-06-16 22:31:28,913: Qubit 132 criado com fidelidade inicial 0.5429851440626653 e adicionado à memória do Host 6.\n",
      "2024-06-16 22:31:28,914: Qubit 133 adicionado à memória do Host 6.\n",
      "2024-06-16 22:31:28,914: Qubit 133 criado com fidelidade inicial 0.24327625458788527 e adicionado à memória do Host 6.\n",
      "2024-06-16 22:31:28,915: Qubit 134 adicionado à memória do Host 6.\n",
      "2024-06-16 22:31:28,915: Qubit 134 criado com fidelidade inicial 0.8528469322836245 e adicionado à memória do Host 6.\n",
      "2024-06-16 22:31:28,915: Qubit 135 adicionado à memória do Host 6.\n",
      "2024-06-16 22:31:28,916: Qubit 135 criado com fidelidade inicial 0.005505942637161754 e adicionado à memória do Host 6.\n",
      "2024-06-16 22:31:28,916: Qubit 136 adicionado à memória do Host 6.\n",
      "2024-06-16 22:31:28,916: Qubit 136 criado com fidelidade inicial 0.24780806116320775 e adicionado à memória do Host 6.\n",
      "2024-06-16 22:31:28,917: Qubit 137 adicionado à memória do Host 6.\n",
      "2024-06-16 22:31:28,917: Qubit 137 criado com fidelidade inicial 0.9872560749134486 e adicionado à memória do Host 6.\n",
      "2024-06-16 22:31:28,918: Qubit 138 adicionado à memória do Host 6.\n",
      "2024-06-16 22:31:28,918: Qubit 138 criado com fidelidade inicial 0.9866730663683436 e adicionado à memória do Host 6.\n",
      "2024-06-16 22:31:28,918: Qubit 139 adicionado à memória do Host 6.\n",
      "2024-06-16 22:31:28,919: Qubit 139 criado com fidelidade inicial 0.8773665958599539 e adicionado à memória do Host 6.\n",
      "2024-06-16 22:31:28,919: Qubit 140 adicionado à memória do Host 7.\n",
      "2024-06-16 22:31:28,919: Qubit 140 criado com fidelidade inicial 0.7837949808084432 e adicionado à memória do Host 7.\n",
      "2024-06-16 22:31:28,920: Qubit 141 adicionado à memória do Host 7.\n",
      "2024-06-16 22:31:28,920: Qubit 141 criado com fidelidade inicial 0.09610960465124352 e adicionado à memória do Host 7.\n",
      "2024-06-16 22:31:28,921: Qubit 142 adicionado à memória do Host 7.\n",
      "2024-06-16 22:31:28,923: Qubit 142 criado com fidelidade inicial 0.5729594624440831 e adicionado à memória do Host 7.\n",
      "2024-06-16 22:31:28,937: Qubit 143 adicionado à memória do Host 7.\n",
      "2024-06-16 22:31:28,938: Qubit 143 criado com fidelidade inicial 0.8751405145580933 e adicionado à memória do Host 7.\n",
      "2024-06-16 22:31:28,938: Qubit 144 adicionado à memória do Host 7.\n",
      "2024-06-16 22:31:28,939: Qubit 144 criado com fidelidade inicial 0.8016013536662001 e adicionado à memória do Host 7.\n",
      "2024-06-16 22:31:28,939: Qubit 145 adicionado à memória do Host 7.\n",
      "2024-06-16 22:31:28,940: Qubit 145 criado com fidelidade inicial 0.4906215097823966 e adicionado à memória do Host 7.\n",
      "2024-06-16 22:31:28,940: Qubit 146 adicionado à memória do Host 7.\n",
      "2024-06-16 22:31:28,941: Qubit 146 criado com fidelidade inicial 0.8476467277972316 e adicionado à memória do Host 7.\n",
      "2024-06-16 22:31:28,941: Qubit 147 adicionado à memória do Host 7.\n",
      "2024-06-16 22:31:28,944: Qubit 147 criado com fidelidade inicial 0.4117995173242438 e adicionado à memória do Host 7.\n",
      "2024-06-16 22:31:28,944: Qubit 148 adicionado à memória do Host 7.\n",
      "2024-06-16 22:31:28,946: Qubit 148 criado com fidelidade inicial 0.9106411128436813 e adicionado à memória do Host 7.\n",
      "2024-06-16 22:31:28,947: Qubit 149 adicionado à memória do Host 7.\n",
      "2024-06-16 22:31:28,948: Qubit 149 criado com fidelidade inicial 0.4454631854105169 e adicionado à memória do Host 7.\n",
      "2024-06-16 22:31:28,948: Qubit 150 adicionado à memória do Host 7.\n",
      "2024-06-16 22:31:28,949: Qubit 150 criado com fidelidade inicial 0.7758192558210905 e adicionado à memória do Host 7.\n",
      "2024-06-16 22:31:28,949: Qubit 151 adicionado à memória do Host 7.\n",
      "2024-06-16 22:31:28,950: Qubit 151 criado com fidelidade inicial 0.2735053681606162 e adicionado à memória do Host 7.\n",
      "2024-06-16 22:31:28,950: Qubit 152 adicionado à memória do Host 7.\n",
      "2024-06-16 22:31:28,951: Qubit 152 criado com fidelidade inicial 0.700116782810681 e adicionado à memória do Host 7.\n",
      "2024-06-16 22:31:28,951: Qubit 153 adicionado à memória do Host 7.\n",
      "2024-06-16 22:31:28,951: Qubit 153 criado com fidelidade inicial 0.9977168765532456 e adicionado à memória do Host 7.\n",
      "2024-06-16 22:31:28,952: Qubit 154 adicionado à memória do Host 7.\n",
      "2024-06-16 22:31:28,952: Qubit 154 criado com fidelidade inicial 0.4592650644700643 e adicionado à memória do Host 7.\n",
      "2024-06-16 22:31:28,952: Qubit 155 adicionado à memória do Host 7.\n",
      "2024-06-16 22:31:28,953: Qubit 155 criado com fidelidade inicial 0.45342996777280986 e adicionado à memória do Host 7.\n",
      "2024-06-16 22:31:28,953: Qubit 156 adicionado à memória do Host 7.\n",
      "2024-06-16 22:31:28,953: Qubit 156 criado com fidelidade inicial 0.37634011065244877 e adicionado à memória do Host 7.\n",
      "2024-06-16 22:31:28,955: Qubit 157 adicionado à memória do Host 7.\n",
      "2024-06-16 22:31:28,955: Qubit 157 criado com fidelidade inicial 0.3428897879975672 e adicionado à memória do Host 7.\n",
      "2024-06-16 22:31:28,956: Qubit 158 adicionado à memória do Host 7.\n",
      "2024-06-16 22:31:28,956: Qubit 158 criado com fidelidade inicial 0.5247324296023548 e adicionado à memória do Host 7.\n",
      "2024-06-16 22:31:28,957: Qubit 159 adicionado à memória do Host 7.\n",
      "2024-06-16 22:31:28,958: Qubit 159 criado com fidelidade inicial 0.6448756165016983 e adicionado à memória do Host 7.\n",
      "2024-06-16 22:31:28,958: Qubit 160 adicionado à memória do Host 8.\n",
      "2024-06-16 22:31:28,959: Qubit 160 criado com fidelidade inicial 0.6280448929685005 e adicionado à memória do Host 8.\n",
      "2024-06-16 22:31:28,959: Qubit 161 adicionado à memória do Host 8.\n",
      "2024-06-16 22:31:28,959: Qubit 161 criado com fidelidade inicial 0.4690440129055874 e adicionado à memória do Host 8.\n",
      "2024-06-16 22:31:28,960: Qubit 162 adicionado à memória do Host 8.\n",
      "2024-06-16 22:31:28,965: Qubit 162 criado com fidelidade inicial 0.5790142914156987 e adicionado à memória do Host 8.\n",
      "2024-06-16 22:31:28,966: Qubit 163 adicionado à memória do Host 8.\n",
      "2024-06-16 22:31:28,968: Qubit 163 criado com fidelidade inicial 0.5709216202464256 e adicionado à memória do Host 8.\n",
      "2024-06-16 22:31:28,969: Qubit 164 adicionado à memória do Host 8.\n",
      "2024-06-16 22:31:28,970: Qubit 164 criado com fidelidade inicial 0.6243295820036512 e adicionado à memória do Host 8.\n",
      "2024-06-16 22:31:28,971: Qubit 165 adicionado à memória do Host 8.\n",
      "2024-06-16 22:31:28,971: Qubit 165 criado com fidelidade inicial 0.8045394176844897 e adicionado à memória do Host 8.\n",
      "2024-06-16 22:31:28,972: Qubit 166 adicionado à memória do Host 8.\n",
      "2024-06-16 22:31:28,972: Qubit 166 criado com fidelidade inicial 0.20199769845961923 e adicionado à memória do Host 8.\n",
      "2024-06-16 22:31:28,972: Qubit 167 adicionado à memória do Host 8.\n",
      "2024-06-16 22:31:28,973: Qubit 167 criado com fidelidade inicial 0.07107501896349022 e adicionado à memória do Host 8.\n",
      "2024-06-16 22:31:28,973: Qubit 168 adicionado à memória do Host 8.\n",
      "2024-06-16 22:31:28,973: Qubit 168 criado com fidelidade inicial 0.49610051263007193 e adicionado à memória do Host 8.\n",
      "2024-06-16 22:31:28,974: Qubit 169 adicionado à memória do Host 8.\n",
      "2024-06-16 22:31:28,974: Qubit 169 criado com fidelidade inicial 0.7759988293171205 e adicionado à memória do Host 8.\n",
      "2024-06-16 22:31:28,974: Qubit 170 adicionado à memória do Host 8.\n",
      "2024-06-16 22:31:28,975: Qubit 170 criado com fidelidade inicial 0.5384146235278198 e adicionado à memória do Host 8.\n",
      "2024-06-16 22:31:28,975: Qubit 171 adicionado à memória do Host 8.\n",
      "2024-06-16 22:31:28,975: Qubit 171 criado com fidelidade inicial 0.8383250095874907 e adicionado à memória do Host 8.\n",
      "2024-06-16 22:31:28,976: Qubit 172 adicionado à memória do Host 8.\n",
      "2024-06-16 22:31:28,976: Qubit 172 criado com fidelidade inicial 0.2893387705127426 e adicionado à memória do Host 8.\n",
      "2024-06-16 22:31:28,976: Qubit 173 adicionado à memória do Host 8.\n",
      "2024-06-16 22:31:28,977: Qubit 173 criado com fidelidade inicial 0.3847586220352822 e adicionado à memória do Host 8.\n",
      "2024-06-16 22:31:28,977: Qubit 174 adicionado à memória do Host 8.\n",
      "2024-06-16 22:31:28,977: Qubit 174 criado com fidelidade inicial 0.7159169446796458 e adicionado à memória do Host 8.\n",
      "2024-06-16 22:31:28,978: Qubit 175 adicionado à memória do Host 8.\n",
      "2024-06-16 22:31:28,978: Qubit 175 criado com fidelidade inicial 0.15204364468670906 e adicionado à memória do Host 8.\n",
      "2024-06-16 22:31:28,978: Qubit 176 adicionado à memória do Host 8.\n",
      "2024-06-16 22:31:28,978: Qubit 176 criado com fidelidade inicial 0.08944982922596734 e adicionado à memória do Host 8.\n",
      "2024-06-16 22:31:28,979: Qubit 177 adicionado à memória do Host 8.\n",
      "2024-06-16 22:31:28,979: Qubit 177 criado com fidelidade inicial 0.6815705059441671 e adicionado à memória do Host 8.\n",
      "2024-06-16 22:31:28,979: Qubit 178 adicionado à memória do Host 8.\n",
      "2024-06-16 22:31:28,980: Qubit 178 criado com fidelidade inicial 0.5287404848451789 e adicionado à memória do Host 8.\n",
      "2024-06-16 22:31:28,980: Qubit 179 adicionado à memória do Host 8.\n",
      "2024-06-16 22:31:28,980: Qubit 179 criado com fidelidade inicial 0.9217118486301276 e adicionado à memória do Host 8.\n"
     ]
    },
    {
     "name": "stdout",
     "output_type": "stream",
     "text": [
      "Hosts inicializados\n",
      "Canais inicializados\n"
     ]
    },
    {
     "data": {
      "image/png": "[encoded data removed]",
      "text/plain": [
       "<Figure size 640x480 with 1 Axes>"
      ]
     },
     "metadata": {},
     "output_type": "display_data"
    }
   ],
   "source": [
    "rede = Network()\n",
    "rede.set_ready_topology(\"Grade\", 3,3)\n",
    "rede.draw()"
   ]
  },
  {
   "cell_type": "markdown",
   "metadata": {},
   "source": [
    "##### Selecionando aleatoriamente uma aresta do grafo da rede e deseguinando quem será Alice e Bob"
   ]
  },
  {
   "cell_type": "code",
   "execution_count": 3,
   "metadata": {},
   "outputs": [],
   "source": [
    "arestas = list(rede.edges)\n",
    "aresta_aleatorias = random.sample(arestas, 1)[0]\n",
    "x,y = aresta_aleatorias\n",
    "\n",
    "alice = rede.get_host(x)\n",
    "bob = rede.get_host(y)"
   ]
  },
  {
   "cell_type": "markdown",
   "metadata": {},
   "source": [
    "##### Adicionando qubits aos hosts "
   ]
  },
  {
   "cell_type": "code",
   "execution_count": null,
   "metadata": {},
   "outputs": [],
   "source": [
    "h1 = Qubit(1)\n",
    "h2 = Qubit(2)\n",
    "\n",
    "alice.add_qubit(h1)\n",
    "bob.add_qubit(h2)"
   ]
  },
  {
   "cell_type": "markdown",
   "metadata": {},
   "source": [
    "##### Acessando a memória dos Hosts"
   ]
  },
  {
   "cell_type": "code",
   "execution_count": 5,
   "metadata": {},
   "outputs": [
    {
     "name": "stdout",
     "output_type": "stream",
     "text": [
      "[<quantumnet.objects.qubit.Qubit object at 0x0000020CB278E510>, <quantumnet.objects.qubit.Qubit object at 0x0000020CB1C496A0>, <quantumnet.objects.qubit.Qubit object at 0x0000020CB26BE5D0>, <quantumnet.objects.qubit.Qubit object at 0x0000020CB278E9C0>, <quantumnet.objects.qubit.Qubit object at 0x0000020CB278E3C0>, <quantumnet.objects.qubit.Qubit object at 0x0000020CB278EC90>, <quantumnet.objects.qubit.Qubit object at 0x0000020CB278EBD0>, <quantumnet.objects.qubit.Qubit object at 0x0000020CB278ED50>, <quantumnet.objects.qubit.Qubit object at 0x0000020CB278E8D0>, <quantumnet.objects.qubit.Qubit object at 0x0000020CB278EF60>, <quantumnet.objects.qubit.Qubit object at 0x0000020CB278EED0>, <quantumnet.objects.qubit.Qubit object at 0x0000020CB278EBA0>, <quantumnet.objects.qubit.Qubit object at 0x0000020CB278F290>, <quantumnet.objects.qubit.Qubit object at 0x0000020CB278F0B0>, <quantumnet.objects.qubit.Qubit object at 0x0000020CB24F0620>, <quantumnet.objects.qubit.Qubit object at 0x0000020CB278F4D0>, <quantumnet.objects.qubit.Qubit object at 0x0000020CB276B2F0>, <quantumnet.objects.qubit.Qubit object at 0x0000020CB278F050>, <quantumnet.objects.qubit.Qubit object at 0x0000020CB259F800>, <quantumnet.objects.qubit.Qubit object at 0x0000020CB278F680>, <quantumnet.objects.qubit.Qubit object at 0x0000020CB2424470>]\n",
      "[<quantumnet.objects.qubit.Qubit object at 0x0000020CB26F44A0>, <quantumnet.objects.qubit.Qubit object at 0x0000020CB27BDE50>, <quantumnet.objects.qubit.Qubit object at 0x0000020CB266E150>, <quantumnet.objects.qubit.Qubit object at 0x0000020CB27BDEB0>, <quantumnet.objects.qubit.Qubit object at 0x0000020CB229E060>, <quantumnet.objects.qubit.Qubit object at 0x0000020CB27BE270>, <quantumnet.objects.qubit.Qubit object at 0x0000020CB27BE090>, <quantumnet.objects.qubit.Qubit object at 0x0000020CB27BE330>, <quantumnet.objects.qubit.Qubit object at 0x0000020CB2482F30>, <quantumnet.objects.qubit.Qubit object at 0x0000020CB24A6600>, <quantumnet.objects.qubit.Qubit object at 0x0000020CB26415B0>, <quantumnet.objects.qubit.Qubit object at 0x0000020CB27BE3F0>, <quantumnet.objects.qubit.Qubit object at 0x0000020CB27BE7E0>, <quantumnet.objects.qubit.Qubit object at 0x0000020CB278EA20>, <quantumnet.objects.qubit.Qubit object at 0x0000020CB225EA80>, <quantumnet.objects.qubit.Qubit object at 0x0000020CB27BE5D0>, <quantumnet.objects.qubit.Qubit object at 0x0000020CB278EC00>, <quantumnet.objects.qubit.Qubit object at 0x0000020CB27BE540>, <quantumnet.objects.qubit.Qubit object at 0x0000020CB278ED80>, <quantumnet.objects.qubit.Qubit object at 0x0000020CB278EE10>, <quantumnet.objects.qubit.Qubit object at 0x0000020CB225F350>]\n"
     ]
    }
   ],
   "source": [
    "print(alice.memory)\n",
    "print(bob.memory)"
   ]
  },
  {
   "cell_type": "markdown",
   "metadata": {},
   "source": [
    "##### Obtendo o útimo qubit de um dos hosts"
   ]
  },
  {
   "cell_type": "code",
   "execution_count": 17,
   "metadata": {},
   "outputs": [],
   "source": [
    "qub1 = alice.get_last_qubit()\n"
   ]
  },
  {
   "cell_type": "markdown",
   "metadata": {},
   "source": [
    "##### Medindo a fidelidade entre dois qubits\n"
   ]
  },
  {
   "cell_type": "code",
   "execution_count": 7,
   "metadata": {},
   "outputs": [
    {
     "name": "stderr",
     "output_type": "stream",
     "text": [
      "2024-06-16 22:31:29,528: A fidelidade entre o qubit Qubit 1 with state None e o qubit Qubit 2 with state None é 0.14034352914743772\n"
     ]
    },
    {
     "data": {
      "text/plain": [
       "0.14034352914743772"
      ]
     },
     "execution_count": 7,
     "metadata": {},
     "output_type": "execute_result"
    }
   ],
   "source": [
    "#Pode medir a fidelidade por meio dessa função\n",
    "rede.physical.fidelity_measurement(h1,h2)"
   ]
  },
  {
   "cell_type": "markdown",
   "metadata": {},
   "source": [
    "##### Medindo a fidelidade de um qubit\n"
   ]
  },
  {
   "cell_type": "code",
   "execution_count": 8,
   "metadata": {},
   "outputs": [
    {
     "name": "stderr",
     "output_type": "stream",
     "text": [
      "2024-06-16 22:31:29,536: A fidelidade do qubit Qubit 1 with state None é 0.461354314386053\n"
     ]
    },
    {
     "data": {
      "text/plain": [
       "0.461354314386053"
      ]
     },
     "execution_count": 8,
     "metadata": {},
     "output_type": "execute_result"
    }
   ],
   "source": [
    "#Pode se medir a fidelidade e acessar de somente um host\n",
    "rede.physical.fidelity_measurement_only_one(h1)"
   ]
  },
  {
   "cell_type": "markdown",
   "metadata": {},
   "source": [
    "##### Criação do protocolo de entrelaçamento entre dois qubits"
   ]
  },
  {
   "cell_type": "code",
   "execution_count": 10,
   "metadata": {},
   "outputs": [
    {
     "name": "stderr",
     "output_type": "stream",
     "text": [
      "2024-06-16 22:31:29,554: A fidelidade entre o qubit Qubit 79 with state None e o qubit Qubit 2 with state None é 0.038160632480238585\n",
      "2024-06-16 22:31:29,555: O protocolo de criação de emaranhamento foi bem sucedido, mas com fidelidade baixa.\n"
     ]
    },
    {
     "data": {
      "text/plain": [
       "False"
      ]
     },
     "execution_count": 10,
     "metadata": {},
     "output_type": "execute_result"
    }
   ],
   "source": [
    "rede.physical.entanglement_creation_heralding_protocol(alice,bob)"
   ]
  },
  {
   "cell_type": "markdown",
   "metadata": {},
   "source": [
    "##### Realiza-se o primeiro protocolo, on demand, que através da fidelidade inicial e da probabilidade de sucesso do on demand determina o sucesso do ECHP"
   ]
  },
  {
   "cell_type": "code",
   "execution_count": 13,
   "metadata": {},
   "outputs": [
    {
     "name": "stderr",
     "output_type": "stream",
     "text": [
      "2024-06-16 22:31:29,574: A fidelidade do qubit Qubit 59 with state None é 0.991904063513994\n",
      "2024-06-16 22:31:29,575: A fidelidade do qubit Qubit 119 with state None é 0.888981710136067\n",
      "2024-06-16 22:31:29,575: A probabilidade de sucesso do ECHP falhou.\n"
     ]
    },
    {
     "data": {
      "text/plain": [
       "False"
      ]
     },
     "execution_count": 13,
     "metadata": {},
     "output_type": "execute_result"
    }
   ],
   "source": [
    "rede.physical.echp_on_demand(2,5)"
   ]
  },
  {
   "cell_type": "markdown",
   "metadata": {},
   "source": [
    "##### Realiza-se, então, o segundo protocolo, on replay, que através da fidelidade inicial e da probabilidade de sucesso do on replay determina o sucesso do ECHP"
   ]
  },
  {
   "cell_type": "code",
   "execution_count": 14,
   "metadata": {},
   "outputs": [
    {
     "name": "stderr",
     "output_type": "stream",
     "text": [
      "2024-06-16 22:31:29,583: A fidelidade do qubit Qubit 58 with state None é 0.3182829068150824\n",
      "2024-06-16 22:31:29,584: A fidelidade do qubit Qubit 118 with state None é 0.8624977381547191\n",
      "2024-06-16 22:31:29,584: A probabilidade de sucesso do ECHP falhou.\n"
     ]
    },
    {
     "data": {
      "text/plain": [
       "False"
      ]
     },
     "execution_count": 14,
     "metadata": {},
     "output_type": "execute_result"
    }
   ],
   "source": [
    "rede.physical.echp_on_replay(2,5)"
   ]
  },
  {
   "cell_type": "markdown",
   "metadata": {},
   "source": [
    "##### Acessando o canal que mostra as probablidades e os pares eprs\n"
   ]
  },
  {
   "cell_type": "code",
   "execution_count": 15,
   "metadata": {},
   "outputs": [
    {
     "data": {
      "text/plain": [
       "{'prob_on_demand_epr_create': 0.7074405529659265,\n",
       " 'prob_replay_epr_create': 0.8406786627631171,\n",
       " 'eprs': []}"
      ]
     },
     "execution_count": 15,
     "metadata": {},
     "output_type": "execute_result"
    }
   ],
   "source": [
    "rede.edges[2,5]"
   ]
  },
  {
   "cell_type": "markdown",
   "metadata": {},
   "source": [
    "##### Acessando o dicionario que contém os pares eprs alocados\n"
   ]
  },
  {
   "cell_type": "code",
   "execution_count": 16,
   "metadata": {},
   "outputs": [
    {
     "data": {
      "text/plain": [
       "{(0, 3): [],\n",
       " (0, 1): [],\n",
       " (1, 4): [],\n",
       " (1, 2): [],\n",
       " (2, 5): [],\n",
       " (3, 6): [],\n",
       " (3, 4): [],\n",
       " (4, 7): [],\n",
       " (4, 5): [],\n",
       " (5, 8): [],\n",
       " (6, 7): [],\n",
       " (7, 8): []}"
      ]
     },
     "execution_count": 16,
     "metadata": {},
     "output_type": "execute_result"
    }
   ],
   "source": [
    "rede.get_eprs()"
   ]
  }
 ],
 "metadata": {
  "kernelspec": {
   "display_name": "Python 3",
   "language": "python",
   "name": "python3"
  },
  "language_info": {
   "codemirror_mode": {
    "name": "ipython",
    "version": 3
   },
   "file_extension": ".py",
   "mimetype": "text/x-python",
   "name": "python",
   "nbconvert_exporter": "python",
   "pygments_lexer": "ipython3",
   "version": "3.12.1"
  }
 },
 "nbformat": 4,
 "nbformat_minor": 2
}
