{
 "cells": [
  {
   "cell_type": "code",
   "execution_count": 1,
   "metadata": {},
   "outputs": [],
   "source": [
    "from quantumnet.components import Network, Host\n",
    "from quantumnet.objects import Qubit, Logger\n",
    "Logger.activate(Logger)"
   ]
  },
  {
   "cell_type": "code",
   "execution_count": 2,
   "metadata": {},
   "outputs": [
    {
     "name": "stderr",
     "output_type": "stream",
     "text": [
      "2024-07-14 15:40:06,519: Qubit 0 adicionado à memória do Host 0.\n",
      "2024-07-14 15:40:06,520: Qubit 0 criado com fidelidade inicial 0.35692970275163394 e adicionado à memória do Host 0.\n",
      "2024-07-14 15:40:06,520: Qubit 1 adicionado à memória do Host 0.\n",
      "2024-07-14 15:40:06,520: Qubit 1 criado com fidelidade inicial 0.11645077619448485 e adicionado à memória do Host 0.\n",
      "2024-07-14 15:40:06,521: Qubit 2 adicionado à memória do Host 0.\n",
      "2024-07-14 15:40:06,521: Qubit 2 criado com fidelidade inicial 0.8830430913360274 e adicionado à memória do Host 0.\n",
      "2024-07-14 15:40:06,521: Qubit 3 adicionado à memória do Host 0.\n",
      "2024-07-14 15:40:06,522: Qubit 3 criado com fidelidade inicial 0.8362685477300401 e adicionado à memória do Host 0.\n",
      "2024-07-14 15:40:06,522: Qubit 4 adicionado à memória do Host 0.\n",
      "2024-07-14 15:40:06,522: Qubit 4 criado com fidelidade inicial 0.09976098832253255 e adicionado à memória do Host 0.\n",
      "2024-07-14 15:40:06,523: Qubit 5 adicionado à memória do Host 0.\n",
      "2024-07-14 15:40:06,523: Qubit 5 criado com fidelidade inicial 0.015210595661156345 e adicionado à memória do Host 0.\n",
      "2024-07-14 15:40:06,523: Qubit 6 adicionado à memória do Host 0.\n",
      "2024-07-14 15:40:06,523: Qubit 6 criado com fidelidade inicial 0.5503118731288469 e adicionado à memória do Host 0.\n",
      "2024-07-14 15:40:06,524: Qubit 7 adicionado à memória do Host 0.\n",
      "2024-07-14 15:40:06,524: Qubit 7 criado com fidelidade inicial 0.9590776431498649 e adicionado à memória do Host 0.\n",
      "2024-07-14 15:40:06,524: Qubit 8 adicionado à memória do Host 0.\n",
      "2024-07-14 15:40:06,525: Qubit 8 criado com fidelidade inicial 0.5496112194473274 e adicionado à memória do Host 0.\n",
      "2024-07-14 15:40:06,525: Qubit 9 adicionado à memória do Host 0.\n",
      "2024-07-14 15:40:06,525: Qubit 9 criado com fidelidade inicial 0.056529089374649955 e adicionado à memória do Host 0.\n",
      "2024-07-14 15:40:06,526: Qubit 10 adicionado à memória do Host 1.\n",
      "2024-07-14 15:40:06,526: Qubit 10 criado com fidelidade inicial 0.03495959428069806 e adicionado à memória do Host 1.\n",
      "2024-07-14 15:40:06,526: Qubit 11 adicionado à memória do Host 1.\n",
      "2024-07-14 15:40:06,527: Qubit 11 criado com fidelidade inicial 0.31602130364415115 e adicionado à memória do Host 1.\n",
      "2024-07-14 15:40:06,527: Qubit 12 adicionado à memória do Host 1.\n",
      "2024-07-14 15:40:06,527: Qubit 12 criado com fidelidade inicial 0.36910797980751753 e adicionado à memória do Host 1.\n",
      "2024-07-14 15:40:06,528: Qubit 13 adicionado à memória do Host 1.\n",
      "2024-07-14 15:40:06,528: Qubit 13 criado com fidelidade inicial 0.13585888138908386 e adicionado à memória do Host 1.\n",
      "2024-07-14 15:40:06,528: Qubit 14 adicionado à memória do Host 1.\n",
      "2024-07-14 15:40:06,528: Qubit 14 criado com fidelidade inicial 0.005709480374475162 e adicionado à memória do Host 1.\n",
      "2024-07-14 15:40:06,529: Qubit 15 adicionado à memória do Host 1.\n",
      "2024-07-14 15:40:06,529: Qubit 15 criado com fidelidade inicial 0.883879591893068 e adicionado à memória do Host 1.\n",
      "2024-07-14 15:40:06,529: Qubit 16 adicionado à memória do Host 1.\n",
      "2024-07-14 15:40:06,529: Qubit 16 criado com fidelidade inicial 0.9758597675789042 e adicionado à memória do Host 1.\n",
      "2024-07-14 15:40:06,530: Qubit 17 adicionado à memória do Host 1.\n",
      "2024-07-14 15:40:06,530: Qubit 17 criado com fidelidade inicial 0.7130132511630037 e adicionado à memória do Host 1.\n",
      "2024-07-14 15:40:06,530: Qubit 18 adicionado à memória do Host 1.\n",
      "2024-07-14 15:40:06,531: Qubit 18 criado com fidelidade inicial 0.4582444860088404 e adicionado à memória do Host 1.\n",
      "2024-07-14 15:40:06,531: Qubit 19 adicionado à memória do Host 1.\n",
      "2024-07-14 15:40:06,531: Qubit 19 criado com fidelidade inicial 0.2168724305672174 e adicionado à memória do Host 1.\n",
      "2024-07-14 15:40:06,532: Qubit 20 adicionado à memória do Host 2.\n",
      "2024-07-14 15:40:06,532: Qubit 20 criado com fidelidade inicial 0.16650547804487148 e adicionado à memória do Host 2.\n",
      "2024-07-14 15:40:06,532: Qubit 21 adicionado à memória do Host 2.\n",
      "2024-07-14 15:40:06,532: Qubit 21 criado com fidelidade inicial 0.8923006396746078 e adicionado à memória do Host 2.\n",
      "2024-07-14 15:40:06,533: Qubit 22 adicionado à memória do Host 2.\n",
      "2024-07-14 15:40:06,533: Qubit 22 criado com fidelidade inicial 0.0379517240963837 e adicionado à memória do Host 2.\n",
      "2024-07-14 15:40:06,533: Qubit 23 adicionado à memória do Host 2.\n",
      "2024-07-14 15:40:06,534: Qubit 23 criado com fidelidade inicial 0.21946529472669418 e adicionado à memória do Host 2.\n",
      "2024-07-14 15:40:06,534: Qubit 24 adicionado à memória do Host 2.\n",
      "2024-07-14 15:40:06,534: Qubit 24 criado com fidelidade inicial 0.6399007832911113 e adicionado à memória do Host 2.\n",
      "2024-07-14 15:40:06,534: Qubit 25 adicionado à memória do Host 2.\n",
      "2024-07-14 15:40:06,535: Qubit 25 criado com fidelidade inicial 0.6469244541680734 e adicionado à memória do Host 2.\n",
      "2024-07-14 15:40:06,535: Qubit 26 adicionado à memória do Host 2.\n",
      "2024-07-14 15:40:06,535: Qubit 26 criado com fidelidade inicial 0.08728883559393419 e adicionado à memória do Host 2.\n",
      "2024-07-14 15:40:06,535: Qubit 27 adicionado à memória do Host 2.\n",
      "2024-07-14 15:40:06,536: Qubit 27 criado com fidelidade inicial 0.11626121898201935 e adicionado à memória do Host 2.\n",
      "2024-07-14 15:40:06,536: Qubit 28 adicionado à memória do Host 2.\n",
      "2024-07-14 15:40:06,536: Qubit 28 criado com fidelidade inicial 0.8753096622466662 e adicionado à memória do Host 2.\n",
      "2024-07-14 15:40:06,537: Qubit 29 adicionado à memória do Host 2.\n",
      "2024-07-14 15:40:06,541: Qubit 29 criado com fidelidade inicial 0.9611392455375714 e adicionado à memória do Host 2.\n",
      "2024-07-14 15:40:06,542: Qubit 30 adicionado à memória do Host 3.\n",
      "2024-07-14 15:40:06,544: Qubit 30 criado com fidelidade inicial 0.5802415774760759 e adicionado à memória do Host 3.\n",
      "2024-07-14 15:40:06,544: Qubit 31 adicionado à memória do Host 3.\n",
      "2024-07-14 15:40:06,545: Qubit 31 criado com fidelidade inicial 0.0957097352483346 e adicionado à memória do Host 3.\n",
      "2024-07-14 15:40:06,546: Qubit 32 adicionado à memória do Host 3.\n",
      "2024-07-14 15:40:06,546: Qubit 32 criado com fidelidade inicial 0.8761004106164764 e adicionado à memória do Host 3.\n",
      "2024-07-14 15:40:06,547: Qubit 33 adicionado à memória do Host 3.\n",
      "2024-07-14 15:40:06,547: Qubit 33 criado com fidelidade inicial 0.41921687726672185 e adicionado à memória do Host 3.\n",
      "2024-07-14 15:40:06,547: Qubit 34 adicionado à memória do Host 3.\n",
      "2024-07-14 15:40:06,548: Qubit 34 criado com fidelidade inicial 0.1666710735776672 e adicionado à memória do Host 3.\n",
      "2024-07-14 15:40:06,548: Qubit 35 adicionado à memória do Host 3.\n",
      "2024-07-14 15:40:06,549: Qubit 35 criado com fidelidade inicial 0.9012858020588005 e adicionado à memória do Host 3.\n",
      "2024-07-14 15:40:06,550: Qubit 36 adicionado à memória do Host 3.\n",
      "2024-07-14 15:40:06,550: Qubit 36 criado com fidelidade inicial 0.7320773125836927 e adicionado à memória do Host 3.\n",
      "2024-07-14 15:40:06,551: Qubit 37 adicionado à memória do Host 3.\n",
      "2024-07-14 15:40:06,551: Qubit 37 criado com fidelidade inicial 0.4952239446334722 e adicionado à memória do Host 3.\n",
      "2024-07-14 15:40:06,552: Qubit 38 adicionado à memória do Host 3.\n",
      "2024-07-14 15:40:06,552: Qubit 38 criado com fidelidade inicial 0.28040503584954934 e adicionado à memória do Host 3.\n",
      "2024-07-14 15:40:06,552: Qubit 39 adicionado à memória do Host 3.\n",
      "2024-07-14 15:40:06,553: Qubit 39 criado com fidelidade inicial 0.424324484787985 e adicionado à memória do Host 3.\n",
      "2024-07-14 15:40:06,553: Qubit 40 adicionado à memória do Host 4.\n",
      "2024-07-14 15:40:06,553: Qubit 40 criado com fidelidade inicial 0.8773546496308313 e adicionado à memória do Host 4.\n",
      "2024-07-14 15:40:06,554: Qubit 41 adicionado à memória do Host 4.\n",
      "2024-07-14 15:40:06,554: Qubit 41 criado com fidelidade inicial 0.5956304806570983 e adicionado à memória do Host 4.\n",
      "2024-07-14 15:40:06,554: Qubit 42 adicionado à memória do Host 4.\n",
      "2024-07-14 15:40:06,555: Qubit 42 criado com fidelidade inicial 0.3078951047660369 e adicionado à memória do Host 4.\n",
      "2024-07-14 15:40:06,555: Qubit 43 adicionado à memória do Host 4.\n",
      "2024-07-14 15:40:06,556: Qubit 43 criado com fidelidade inicial 0.4338667392376063 e adicionado à memória do Host 4.\n",
      "2024-07-14 15:40:06,556: Qubit 44 adicionado à memória do Host 4.\n",
      "2024-07-14 15:40:06,557: Qubit 44 criado com fidelidade inicial 0.0711802885732915 e adicionado à memória do Host 4.\n",
      "2024-07-14 15:40:06,557: Qubit 45 adicionado à memória do Host 4.\n",
      "2024-07-14 15:40:06,557: Qubit 45 criado com fidelidade inicial 0.21782961247776256 e adicionado à memória do Host 4.\n",
      "2024-07-14 15:40:06,558: Qubit 46 adicionado à memória do Host 4.\n",
      "2024-07-14 15:40:06,558: Qubit 46 criado com fidelidade inicial 0.4982735545004334 e adicionado à memória do Host 4.\n",
      "2024-07-14 15:40:06,559: Qubit 47 adicionado à memória do Host 4.\n",
      "2024-07-14 15:40:06,559: Qubit 47 criado com fidelidade inicial 0.6086222639404034 e adicionado à memória do Host 4.\n",
      "2024-07-14 15:40:06,560: Qubit 48 adicionado à memória do Host 4.\n",
      "2024-07-14 15:40:06,560: Qubit 48 criado com fidelidade inicial 0.979311030688652 e adicionado à memória do Host 4.\n",
      "2024-07-14 15:40:06,560: Qubit 49 adicionado à memória do Host 4.\n",
      "2024-07-14 15:40:06,561: Qubit 49 criado com fidelidade inicial 0.1403764458171497 e adicionado à memória do Host 4.\n",
      "2024-07-14 15:40:06,564: Qubit 50 adicionado à memória do Host 5.\n",
      "2024-07-14 15:40:06,565: Qubit 50 criado com fidelidade inicial 0.8207557219344782 e adicionado à memória do Host 5.\n",
      "2024-07-14 15:40:06,566: Qubit 51 adicionado à memória do Host 5.\n",
      "2024-07-14 15:40:06,566: Qubit 51 criado com fidelidade inicial 0.9791463718842967 e adicionado à memória do Host 5.\n",
      "2024-07-14 15:40:06,566: Qubit 52 adicionado à memória do Host 5.\n",
      "2024-07-14 15:40:06,566: Qubit 52 criado com fidelidade inicial 0.6560550631261668 e adicionado à memória do Host 5.\n",
      "2024-07-14 15:40:06,567: Qubit 53 adicionado à memória do Host 5.\n",
      "2024-07-14 15:40:06,567: Qubit 53 criado com fidelidade inicial 0.5920311328080575 e adicionado à memória do Host 5.\n",
      "2024-07-14 15:40:06,568: Qubit 54 adicionado à memória do Host 5.\n",
      "2024-07-14 15:40:06,568: Qubit 54 criado com fidelidade inicial 0.04553152794756121 e adicionado à memória do Host 5.\n",
      "2024-07-14 15:40:06,568: Qubit 55 adicionado à memória do Host 5.\n",
      "2024-07-14 15:40:06,569: Qubit 55 criado com fidelidade inicial 0.39802143538032186 e adicionado à memória do Host 5.\n",
      "2024-07-14 15:40:06,569: Qubit 56 adicionado à memória do Host 5.\n",
      "2024-07-14 15:40:06,569: Qubit 56 criado com fidelidade inicial 0.40462017219778257 e adicionado à memória do Host 5.\n",
      "2024-07-14 15:40:06,570: Qubit 57 adicionado à memória do Host 5.\n",
      "2024-07-14 15:40:06,570: Qubit 57 criado com fidelidade inicial 0.7301165585898979 e adicionado à memória do Host 5.\n",
      "2024-07-14 15:40:06,570: Qubit 58 adicionado à memória do Host 5.\n",
      "2024-07-14 15:40:06,571: Qubit 58 criado com fidelidade inicial 0.3526236822275768 e adicionado à memória do Host 5.\n",
      "2024-07-14 15:40:06,571: Qubit 59 adicionado à memória do Host 5.\n",
      "2024-07-14 15:40:06,571: Qubit 59 criado com fidelidade inicial 0.1980107121039001 e adicionado à memória do Host 5.\n",
      "2024-07-14 15:40:06,571: Qubit 60 adicionado à memória do Host 6.\n",
      "2024-07-14 15:40:06,572: Qubit 60 criado com fidelidade inicial 0.723162175192214 e adicionado à memória do Host 6.\n",
      "2024-07-14 15:40:06,572: Qubit 61 adicionado à memória do Host 6.\n",
      "2024-07-14 15:40:06,572: Qubit 61 criado com fidelidade inicial 0.9676621775661615 e adicionado à memória do Host 6.\n",
      "2024-07-14 15:40:06,572: Qubit 62 adicionado à memória do Host 6.\n",
      "2024-07-14 15:40:06,573: Qubit 62 criado com fidelidade inicial 0.951565760459146 e adicionado à memória do Host 6.\n",
      "2024-07-14 15:40:06,573: Qubit 63 adicionado à memória do Host 6.\n",
      "2024-07-14 15:40:06,573: Qubit 63 criado com fidelidade inicial 0.05481133243784275 e adicionado à memória do Host 6.\n",
      "2024-07-14 15:40:06,574: Qubit 64 adicionado à memória do Host 6.\n",
      "2024-07-14 15:40:06,574: Qubit 64 criado com fidelidade inicial 0.4382202105833968 e adicionado à memória do Host 6.\n",
      "2024-07-14 15:40:06,574: Qubit 65 adicionado à memória do Host 6.\n",
      "2024-07-14 15:40:06,575: Qubit 65 criado com fidelidade inicial 0.06744069810752562 e adicionado à memória do Host 6.\n",
      "2024-07-14 15:40:06,575: Qubit 66 adicionado à memória do Host 6.\n",
      "2024-07-14 15:40:06,575: Qubit 66 criado com fidelidade inicial 0.14218343889020846 e adicionado à memória do Host 6.\n",
      "2024-07-14 15:40:06,575: Qubit 67 adicionado à memória do Host 6.\n",
      "2024-07-14 15:40:06,576: Qubit 67 criado com fidelidade inicial 0.8835876145454151 e adicionado à memória do Host 6.\n",
      "2024-07-14 15:40:06,576: Qubit 68 adicionado à memória do Host 6.\n",
      "2024-07-14 15:40:06,576: Qubit 68 criado com fidelidade inicial 0.5497587971537554 e adicionado à memória do Host 6.\n",
      "2024-07-14 15:40:06,577: Qubit 69 adicionado à memória do Host 6.\n",
      "2024-07-14 15:40:06,577: Qubit 69 criado com fidelidade inicial 0.510795487632374 e adicionado à memória do Host 6.\n",
      "2024-07-14 15:40:06,577: Qubit 70 adicionado à memória do Host 7.\n",
      "2024-07-14 15:40:06,578: Qubit 70 criado com fidelidade inicial 0.053595063430802226 e adicionado à memória do Host 7.\n",
      "2024-07-14 15:40:06,578: Qubit 71 adicionado à memória do Host 7.\n",
      "2024-07-14 15:40:06,578: Qubit 71 criado com fidelidade inicial 0.26386083853007747 e adicionado à memória do Host 7.\n",
      "2024-07-14 15:40:06,579: Qubit 72 adicionado à memória do Host 7.\n",
      "2024-07-14 15:40:06,579: Qubit 72 criado com fidelidade inicial 0.8629020720960021 e adicionado à memória do Host 7.\n",
      "2024-07-14 15:40:06,579: Qubit 73 adicionado à memória do Host 7.\n",
      "2024-07-14 15:40:06,580: Qubit 73 criado com fidelidade inicial 0.31625181127492685 e adicionado à memória do Host 7.\n",
      "2024-07-14 15:40:06,580: Qubit 74 adicionado à memória do Host 7.\n",
      "2024-07-14 15:40:06,581: Qubit 74 criado com fidelidade inicial 0.8454872110169682 e adicionado à memória do Host 7.\n",
      "2024-07-14 15:40:06,581: Qubit 75 adicionado à memória do Host 7.\n",
      "2024-07-14 15:40:06,582: Qubit 75 criado com fidelidade inicial 0.44383011120754257 e adicionado à memória do Host 7.\n",
      "2024-07-14 15:40:06,582: Qubit 76 adicionado à memória do Host 7.\n",
      "2024-07-14 15:40:06,582: Qubit 76 criado com fidelidade inicial 0.8337348449071558 e adicionado à memória do Host 7.\n",
      "2024-07-14 15:40:06,582: Qubit 77 adicionado à memória do Host 7.\n",
      "2024-07-14 15:40:06,583: Qubit 77 criado com fidelidade inicial 0.7767470430342805 e adicionado à memória do Host 7.\n",
      "2024-07-14 15:40:06,583: Qubit 78 adicionado à memória do Host 7.\n",
      "2024-07-14 15:40:06,583: Qubit 78 criado com fidelidade inicial 0.22502569753010482 e adicionado à memória do Host 7.\n",
      "2024-07-14 15:40:06,584: Qubit 79 adicionado à memória do Host 7.\n",
      "2024-07-14 15:40:06,584: Qubit 79 criado com fidelidade inicial 0.6714406726397498 e adicionado à memória do Host 7.\n",
      "2024-07-14 15:40:06,584: Qubit 80 adicionado à memória do Host 8.\n",
      "2024-07-14 15:40:06,585: Qubit 80 criado com fidelidade inicial 0.31165002797678665 e adicionado à memória do Host 8.\n",
      "2024-07-14 15:40:06,585: Qubit 81 adicionado à memória do Host 8.\n",
      "2024-07-14 15:40:06,585: Qubit 81 criado com fidelidade inicial 0.5528827667896876 e adicionado à memória do Host 8.\n",
      "2024-07-14 15:40:06,585: Qubit 82 adicionado à memória do Host 8.\n",
      "2024-07-14 15:40:06,586: Qubit 82 criado com fidelidade inicial 0.9361465055935799 e adicionado à memória do Host 8.\n",
      "2024-07-14 15:40:06,586: Qubit 83 adicionado à memória do Host 8.\n",
      "2024-07-14 15:40:06,586: Qubit 83 criado com fidelidade inicial 0.4616704989538474 e adicionado à memória do Host 8.\n",
      "2024-07-14 15:40:06,587: Qubit 84 adicionado à memória do Host 8.\n",
      "2024-07-14 15:40:06,587: Qubit 84 criado com fidelidade inicial 0.45651382483006064 e adicionado à memória do Host 8.\n",
      "2024-07-14 15:40:06,587: Qubit 85 adicionado à memória do Host 8.\n",
      "2024-07-14 15:40:06,587: Qubit 85 criado com fidelidade inicial 0.6918806844357472 e adicionado à memória do Host 8.\n",
      "2024-07-14 15:40:06,588: Qubit 86 adicionado à memória do Host 8.\n",
      "2024-07-14 15:40:06,588: Qubit 86 criado com fidelidade inicial 0.47527195727304006 e adicionado à memória do Host 8.\n",
      "2024-07-14 15:40:06,588: Qubit 87 adicionado à memória do Host 8.\n",
      "2024-07-14 15:40:06,588: Qubit 87 criado com fidelidade inicial 0.3404320515628736 e adicionado à memória do Host 8.\n",
      "2024-07-14 15:40:06,589: Qubit 88 adicionado à memória do Host 8.\n",
      "2024-07-14 15:40:06,589: Qubit 88 criado com fidelidade inicial 0.519424041995052 e adicionado à memória do Host 8.\n",
      "2024-07-14 15:40:06,589: Qubit 89 adicionado à memória do Host 8.\n",
      "2024-07-14 15:40:06,589: Qubit 89 criado com fidelidade inicial 0.581388212292231 e adicionado à memória do Host 8.\n",
      "2024-07-14 15:40:06,590: Par EPR <quantumnet.objects.epr.Epr object at 0x000002F1BFEA39B0> adicionado ao canal.\n",
      "2024-07-14 15:40:06,590: Par EPR <quantumnet.objects.epr.Epr object at 0x000002F1BFAAC620> adicionado ao canal.\n",
      "2024-07-14 15:40:06,590: Par EPR <quantumnet.objects.epr.Epr object at 0x000002F1BFECBE60> adicionado ao canal.\n",
      "2024-07-14 15:40:06,591: Par EPR <quantumnet.objects.epr.Epr object at 0x000002F1BFEC8830> adicionado ao canal.\n",
      "2024-07-14 15:40:06,591: Par EPR <quantumnet.objects.epr.Epr object at 0x000002F1BFEC99D0> adicionado ao canal.\n",
      "2024-07-14 15:40:06,591: Par EPR <quantumnet.objects.epr.Epr object at 0x000002F1BFD09700> adicionado ao canal.\n",
      "2024-07-14 15:40:06,591: Par EPR <quantumnet.objects.epr.Epr object at 0x000002F1BF4E4920> adicionado ao canal.\n",
      "2024-07-14 15:40:06,592: Par EPR <quantumnet.objects.epr.Epr object at 0x000002F1BFAC9820> adicionado ao canal.\n",
      "2024-07-14 15:40:06,592: Par EPR <quantumnet.objects.epr.Epr object at 0x000002F1BFB5D460> adicionado ao canal.\n",
      "2024-07-14 15:40:06,592: Par EPR <quantumnet.objects.epr.Epr object at 0x000002F1BFEC9A60> adicionado ao canal.\n",
      "2024-07-14 15:40:06,593: Par EPR <quantumnet.objects.epr.Epr object at 0x000002F1BFDA5160> adicionado ao canal.\n",
      "2024-07-14 15:40:06,593: Par EPR <quantumnet.objects.epr.Epr object at 0x000002F1BFEC9B20> adicionado ao canal.\n",
      "2024-07-14 15:40:06,593: Par EPR <quantumnet.objects.epr.Epr object at 0x000002F1BFEC9C40> adicionado ao canal.\n",
      "2024-07-14 15:40:06,594: Par EPR <quantumnet.objects.epr.Epr object at 0x000002F1BFEC98B0> adicionado ao canal.\n",
      "2024-07-14 15:40:06,594: Par EPR <quantumnet.objects.epr.Epr object at 0x000002F1BFEC9D00> adicionado ao canal.\n",
      "2024-07-14 15:40:06,594: Par EPR <quantumnet.objects.epr.Epr object at 0x000002F1BFEC93A0> adicionado ao canal.\n",
      "2024-07-14 15:40:06,594: Par EPR <quantumnet.objects.epr.Epr object at 0x000002F1BFEC9CA0> adicionado ao canal.\n",
      "2024-07-14 15:40:06,596: Par EPR <quantumnet.objects.epr.Epr object at 0x000002F1BFEC9C10> adicionado ao canal.\n",
      "2024-07-14 15:40:06,596: Par EPR <quantumnet.objects.epr.Epr object at 0x000002F1BDECE720> adicionado ao canal.\n",
      "2024-07-14 15:40:06,596: Par EPR <quantumnet.objects.epr.Epr object at 0x000002F1BFEC9AF0> adicionado ao canal.\n",
      "2024-07-14 15:40:06,597: Par EPR <quantumnet.objects.epr.Epr object at 0x000002F1BFEC9EB0> adicionado ao canal.\n",
      "2024-07-14 15:40:06,597: Par EPR <quantumnet.objects.epr.Epr object at 0x000002F1BFEC9DC0> adicionado ao canal.\n",
      "2024-07-14 15:40:06,597: Par EPR <quantumnet.objects.epr.Epr object at 0x000002F1BFEC9F40> adicionado ao canal.\n",
      "2024-07-14 15:40:06,598: Par EPR <quantumnet.objects.epr.Epr object at 0x000002F1BFEC9EE0> adicionado ao canal.\n",
      "2024-07-14 15:40:06,598: Par EPR <quantumnet.objects.epr.Epr object at 0x000002F1BF60EAE0> adicionado ao canal.\n",
      "2024-07-14 15:40:06,598: Par EPR <quantumnet.objects.epr.Epr object at 0x000002F1BFEC9D30> adicionado ao canal.\n",
      "2024-07-14 15:40:06,599: Par EPR <quantumnet.objects.epr.Epr object at 0x000002F1BFECA000> adicionado ao canal.\n",
      "2024-07-14 15:40:06,599: Par EPR <quantumnet.objects.epr.Epr object at 0x000002F1BFC6A0C0> adicionado ao canal.\n",
      "2024-07-14 15:40:06,599: Par EPR <quantumnet.objects.epr.Epr object at 0x000002F1BFECA1B0> adicionado ao canal.\n",
      "2024-07-14 15:40:06,600: Par EPR <quantumnet.objects.epr.Epr object at 0x000002F1BFEE1E80> adicionado ao canal.\n",
      "2024-07-14 15:40:06,600: Par EPR <quantumnet.objects.epr.Epr object at 0x000002F1BFECA480> adicionado ao canal.\n",
      "2024-07-14 15:40:06,600: Par EPR <quantumnet.objects.epr.Epr object at 0x000002F1BFCB2630> adicionado ao canal.\n",
      "2024-07-14 15:40:06,601: Par EPR <quantumnet.objects.epr.Epr object at 0x000002F1BFD7FC20> adicionado ao canal.\n",
      "2024-07-14 15:40:06,601: Par EPR <quantumnet.objects.epr.Epr object at 0x000002F1BFECA540> adicionado ao canal.\n",
      "2024-07-14 15:40:06,601: Par EPR <quantumnet.objects.epr.Epr object at 0x000002F1BFEE2120> adicionado ao canal.\n",
      "2024-07-14 15:40:06,601: Par EPR <quantumnet.objects.epr.Epr object at 0x000002F1BFECA7E0> adicionado ao canal.\n",
      "2024-07-14 15:40:06,602: Par EPR <quantumnet.objects.epr.Epr object at 0x000002F1BFEE1FD0> adicionado ao canal.\n",
      "2024-07-14 15:40:06,602: Par EPR <quantumnet.objects.epr.Epr object at 0x000002F1BFECA7B0> adicionado ao canal.\n",
      "2024-07-14 15:40:06,602: Par EPR <quantumnet.objects.epr.Epr object at 0x000002F1BFEE2780> adicionado ao canal.\n",
      "2024-07-14 15:40:06,603: Par EPR <quantumnet.objects.epr.Epr object at 0x000002F1BFECA810> adicionado ao canal.\n",
      "2024-07-14 15:40:06,603: Par EPR <quantumnet.objects.epr.Epr object at 0x000002F1BFEC9130> adicionado ao canal.\n",
      "2024-07-14 15:40:06,603: Par EPR <quantumnet.objects.epr.Epr object at 0x000002F1BFEE29C0> adicionado ao canal.\n",
      "2024-07-14 15:40:06,603: Par EPR <quantumnet.objects.epr.Epr object at 0x000002F1BFECAC00> adicionado ao canal.\n",
      "2024-07-14 15:40:06,604: Par EPR <quantumnet.objects.epr.Epr object at 0x000002F1BFEE2B70> adicionado ao canal.\n",
      "2024-07-14 15:40:06,604: Par EPR <quantumnet.objects.epr.Epr object at 0x000002F1BFECABD0> adicionado ao canal.\n",
      "2024-07-14 15:40:06,604: Par EPR <quantumnet.objects.epr.Epr object at 0x000002F1BFECAC30> adicionado ao canal.\n",
      "2024-07-14 15:40:06,605: Par EPR <quantumnet.objects.epr.Epr object at 0x000002F1BFECAA20> adicionado ao canal.\n",
      "2024-07-14 15:40:06,605: Par EPR <quantumnet.objects.epr.Epr object at 0x000002F1BFECAEA0> adicionado ao canal.\n",
      "2024-07-14 15:40:06,605: Par EPR <quantumnet.objects.epr.Epr object at 0x000002F1BFEE2D20> adicionado ao canal.\n",
      "2024-07-14 15:40:06,606: Par EPR <quantumnet.objects.epr.Epr object at 0x000002F1BFC6A330> adicionado ao canal.\n",
      "2024-07-14 15:40:06,606: Par EPR <quantumnet.objects.epr.Epr object at 0x000002F1BFECB050> adicionado ao canal.\n",
      "2024-07-14 15:40:06,606: Par EPR <quantumnet.objects.epr.Epr object at 0x000002F1BFD0AA80> adicionado ao canal.\n",
      "2024-07-14 15:40:06,607: Par EPR <quantumnet.objects.epr.Epr object at 0x000002F1BFEE2FC0> adicionado ao canal.\n",
      "2024-07-14 15:40:06,607: Par EPR <quantumnet.objects.epr.Epr object at 0x000002F1BFEE31A0> adicionado ao canal.\n",
      "2024-07-14 15:40:06,608: Par EPR <quantumnet.objects.epr.Epr object at 0x000002F1BFEE2E40> adicionado ao canal.\n",
      "2024-07-14 15:40:06,608: Par EPR <quantumnet.objects.epr.Epr object at 0x000002F1BFEA3200> adicionado ao canal.\n",
      "2024-07-14 15:40:06,608: Par EPR <quantumnet.objects.epr.Epr object at 0x000002F1BFECA720> adicionado ao canal.\n",
      "2024-07-14 15:40:06,608: Par EPR <quantumnet.objects.epr.Epr object at 0x000002F1BFEE3320> adicionado ao canal.\n",
      "2024-07-14 15:40:06,609: Par EPR <quantumnet.objects.epr.Epr object at 0x000002F1BFECB080> adicionado ao canal.\n",
      "2024-07-14 15:40:06,609: Par EPR <quantumnet.objects.epr.Epr object at 0x000002F1BFECB230> adicionado ao canal.\n",
      "2024-07-14 15:40:06,609: Par EPR <quantumnet.objects.epr.Epr object at 0x000002F1BFEE3470> adicionado ao canal.\n",
      "2024-07-14 15:40:06,610: Par EPR <quantumnet.objects.epr.Epr object at 0x000002F1BFECA4E0> adicionado ao canal.\n",
      "2024-07-14 15:40:06,610: Par EPR <quantumnet.objects.epr.Epr object at 0x000002F1BFEC9C70> adicionado ao canal.\n",
      "2024-07-14 15:40:06,610: Par EPR <quantumnet.objects.epr.Epr object at 0x000002F1BFEE3650> adicionado ao canal.\n",
      "2024-07-14 15:40:06,611: Par EPR <quantumnet.objects.epr.Epr object at 0x000002F1BFECA8A0> adicionado ao canal.\n",
      "2024-07-14 15:40:06,611: Par EPR <quantumnet.objects.epr.Epr object at 0x000002F1BFCB0470> adicionado ao canal.\n",
      "2024-07-14 15:40:06,611: Par EPR <quantumnet.objects.epr.Epr object at 0x000002F1BFEE35C0> adicionado ao canal.\n",
      "2024-07-14 15:40:06,612: Par EPR <quantumnet.objects.epr.Epr object at 0x000002F1BFECB920> adicionado ao canal.\n",
      "2024-07-14 15:40:06,612: Par EPR <quantumnet.objects.epr.Epr object at 0x000002F1BFECB830> adicionado ao canal.\n",
      "2024-07-14 15:40:06,612: Par EPR <quantumnet.objects.epr.Epr object at 0x000002F1BFEE3800> adicionado ao canal.\n",
      "2024-07-14 15:40:06,612: Par EPR <quantumnet.objects.epr.Epr object at 0x000002F1BFECBBC0> adicionado ao canal.\n",
      "2024-07-14 15:40:06,613: Par EPR <quantumnet.objects.epr.Epr object at 0x000002F1BFEE3AD0> adicionado ao canal.\n",
      "2024-07-14 15:40:06,613: Par EPR <quantumnet.objects.epr.Epr object at 0x000002F1BFECBC20> adicionado ao canal.\n",
      "2024-07-14 15:40:06,613: Par EPR <quantumnet.objects.epr.Epr object at 0x000002F1BFECB3E0> adicionado ao canal.\n",
      "2024-07-14 15:40:06,613: Par EPR <quantumnet.objects.epr.Epr object at 0x000002F1BFEA3CE0> adicionado ao canal.\n",
      "2024-07-14 15:40:06,614: Par EPR <quantumnet.objects.epr.Epr object at 0x000002F1BFEA3E00> adicionado ao canal.\n",
      "2024-07-14 15:40:06,614: Par EPR <quantumnet.objects.epr.Epr object at 0x000002F1BFECBAA0> adicionado ao canal.\n",
      "2024-07-14 15:40:06,614: Par EPR <quantumnet.objects.epr.Epr object at 0x000002F1BFEC83B0> adicionado ao canal.\n",
      "2024-07-14 15:40:06,614: Par EPR <quantumnet.objects.epr.Epr object at 0x000002F1BFEE1640> adicionado ao canal.\n",
      "2024-07-14 15:40:06,615: Par EPR <quantumnet.objects.epr.Epr object at 0x000002F1BFEE3E90> adicionado ao canal.\n",
      "2024-07-14 15:40:06,615: Par EPR <quantumnet.objects.epr.Epr object at 0x000002F1BFEE1D60> adicionado ao canal.\n",
      "2024-07-14 15:40:06,615: Par EPR <quantumnet.objects.epr.Epr object at 0x000002F1BFEE3EF0> adicionado ao canal.\n",
      "2024-07-14 15:40:06,616: Par EPR <quantumnet.objects.epr.Epr object at 0x000002F1BFEE3B90> adicionado ao canal.\n",
      "2024-07-14 15:40:06,616: Par EPR <quantumnet.objects.epr.Epr object at 0x000002F1BFEA3F80> adicionado ao canal.\n",
      "2024-07-14 15:40:06,616: Par EPR <quantumnet.objects.epr.Epr object at 0x000002F1BFECBFE0> adicionado ao canal.\n",
      "2024-07-14 15:40:06,617: Par EPR <quantumnet.objects.epr.Epr object at 0x000002F1BFF04350> adicionado ao canal.\n",
      "2024-07-14 15:40:06,617: Par EPR <quantumnet.objects.epr.Epr object at 0x000002F1BFBFC860> adicionado ao canal.\n",
      "2024-07-14 15:40:06,617: Par EPR <quantumnet.objects.epr.Epr object at 0x000002F1BFF04680> adicionado ao canal.\n",
      "2024-07-14 15:40:06,617: Par EPR <quantumnet.objects.epr.Epr object at 0x000002F1BFF047A0> adicionado ao canal.\n",
      "2024-07-14 15:40:06,618: Par EPR <quantumnet.objects.epr.Epr object at 0x000002F1BFF046E0> adicionado ao canal.\n",
      "2024-07-14 15:40:06,618: Par EPR <quantumnet.objects.epr.Epr object at 0x000002F1BFECA6F0> adicionado ao canal.\n",
      "2024-07-14 15:40:06,618: Par EPR <quantumnet.objects.epr.Epr object at 0x000002F1BFF04230> adicionado ao canal.\n",
      "2024-07-14 15:40:06,618: Par EPR <quantumnet.objects.epr.Epr object at 0x000002F1BFF04B60> adicionado ao canal.\n",
      "2024-07-14 15:40:06,619: Par EPR <quantumnet.objects.epr.Epr object at 0x000002F1BFF04AD0> adicionado ao canal.\n",
      "2024-07-14 15:40:06,619: Par EPR <quantumnet.objects.epr.Epr object at 0x000002F1BF60C9E0> adicionado ao canal.\n",
      "2024-07-14 15:40:06,619: Par EPR <quantumnet.objects.epr.Epr object at 0x000002F1BFF04C80> adicionado ao canal.\n",
      "2024-07-14 15:40:06,620: Par EPR <quantumnet.objects.epr.Epr object at 0x000002F1BFF04E90> adicionado ao canal.\n",
      "2024-07-14 15:40:06,620: Par EPR <quantumnet.objects.epr.Epr object at 0x000002F1BFECAE70> adicionado ao canal.\n",
      "2024-07-14 15:40:06,620: Par EPR <quantumnet.objects.epr.Epr object at 0x000002F1BFF04DD0> adicionado ao canal.\n",
      "2024-07-14 15:40:06,620: Par EPR <quantumnet.objects.epr.Epr object at 0x000002F1BFF05130> adicionado ao canal.\n",
      "2024-07-14 15:40:06,621: Par EPR <quantumnet.objects.epr.Epr object at 0x000002F1BFD7D1C0> adicionado ao canal.\n",
      "2024-07-14 15:40:06,621: Par EPR <quantumnet.objects.epr.Epr object at 0x000002F1BFF05040> adicionado ao canal.\n",
      "2024-07-14 15:40:06,621: Par EPR <quantumnet.objects.epr.Epr object at 0x000002F1BFF05340> adicionado ao canal.\n",
      "2024-07-14 15:40:06,622: Par EPR <quantumnet.objects.epr.Epr object at 0x000002F1BFF053A0> adicionado ao canal.\n",
      "2024-07-14 15:40:06,622: Par EPR <quantumnet.objects.epr.Epr object at 0x000002F1BFEE1130> adicionado ao canal.\n",
      "2024-07-14 15:40:06,622: Par EPR <quantumnet.objects.epr.Epr object at 0x000002F1BFF05550> adicionado ao canal.\n",
      "2024-07-14 15:40:06,623: Par EPR <quantumnet.objects.epr.Epr object at 0x000002F1BFF05610> adicionado ao canal.\n",
      "2024-07-14 15:40:06,623: Par EPR <quantumnet.objects.epr.Epr object at 0x000002F1BFA795B0> adicionado ao canal.\n",
      "2024-07-14 15:40:06,623: Par EPR <quantumnet.objects.epr.Epr object at 0x000002F1BFF05820> adicionado ao canal.\n",
      "2024-07-14 15:40:06,624: Par EPR <quantumnet.objects.epr.Epr object at 0x000002F1BFEC9F70> adicionado ao canal.\n",
      "2024-07-14 15:40:06,624: Par EPR <quantumnet.objects.epr.Epr object at 0x000002F1BFF058E0> adicionado ao canal.\n",
      "2024-07-14 15:40:06,624: Par EPR <quantumnet.objects.epr.Epr object at 0x000002F1BFB1DA30> adicionado ao canal.\n",
      "2024-07-14 15:40:06,625: Par EPR <quantumnet.objects.epr.Epr object at 0x000002F1BFEE1BB0> adicionado ao canal.\n",
      "2024-07-14 15:40:06,625: Par EPR <quantumnet.objects.epr.Epr object at 0x000002F1BFF05A60> adicionado ao canal.\n",
      "2024-07-14 15:40:06,625: Par EPR <quantumnet.objects.epr.Epr object at 0x000002F1BFDA5E50> adicionado ao canal.\n",
      "2024-07-14 15:40:06,625: Par EPR <quantumnet.objects.epr.Epr object at 0x000002F1BFEC8530> adicionado ao canal.\n",
      "2024-07-14 15:40:06,626: Par EPR <quantumnet.objects.epr.Epr object at 0x000002F1BFF05BB0> adicionado ao canal.\n",
      "2024-07-14 15:40:06,626: Par EPR <quantumnet.objects.epr.Epr object at 0x000002F1BFF05B50> adicionado ao canal.\n",
      "2024-07-14 15:40:06,626: Par EPR <quantumnet.objects.epr.Epr object at 0x000002F1BFDCDFD0> adicionado ao canal.\n",
      "2024-07-14 15:40:06,627: Par EPR <quantumnet.objects.epr.Epr object at 0x000002F1BFF05F40> adicionado ao canal.\n"
     ]
    },
    {
     "name": "stdout",
     "output_type": "stream",
     "text": [
      "Hosts inicializados\n",
      "Canais inicializados\n",
      "Pares EPRs adicionados\n"
     ]
    },
    {
     "data": {
      "image/png": "[encoded data removed]",
      "text/plain": [
       "<Figure size 640x480 with 1 Axes>"
      ]
     },
     "metadata": {},
     "output_type": "display_data"
    }
   ],
   "source": [
    "rede = Network()\n",
    "rede.set_ready_topology(\"Grade\", 3,3)\n",
    "rede.draw()"
   ]
  },
  {
   "cell_type": "code",
   "execution_count": 3,
   "metadata": {},
   "outputs": [],
   "source": [
    "alice = rede.get_host(0)\n",
    "bob = rede.get_host(8)\n"
   ]
  },
  {
   "cell_type": "code",
   "execution_count": 4,
   "metadata": {},
   "outputs": [
    {
     "name": "stderr",
     "output_type": "stream",
     "text": [
      "2024-07-14 15:40:07,140: Rota válida encontrada: [0, 3, 6, 7, 8]\n",
      "2024-07-14 15:40:07,141: Transmissão de 1 qubits entre 0 e 8 concluída com sucesso.\n"
     ]
    },
    {
     "data": {
      "text/plain": [
       "True"
      ]
     },
     "execution_count": 4,
     "metadata": {},
     "output_type": "execute_result"
    }
   ],
   "source": [
    "rede.transportlayer.request_transmission(0,8, 1)"
   ]
  },
  {
   "cell_type": "code",
   "execution_count": 5,
   "metadata": {},
   "outputs": [
    {
     "name": "stdout",
     "output_type": "stream",
     "text": [
      "memoria de alice: [<quantumnet.objects.qubit.Qubit object at 0x000002F1BFEA38C0>, <quantumnet.objects.qubit.Qubit object at 0x000002F1BFE06030>, <quantumnet.objects.qubit.Qubit object at 0x000002F1BF4E7350>, <quantumnet.objects.qubit.Qubit object at 0x000002F1BFD539E0>, <quantumnet.objects.qubit.Qubit object at 0x000002F1BFDA4140>, <quantumnet.objects.qubit.Qubit object at 0x000002F1BFBFC170>, <quantumnet.objects.qubit.Qubit object at 0x000002F1BF6536E0>, <quantumnet.objects.qubit.Qubit object at 0x000002F1BFD09C70>, <quantumnet.objects.qubit.Qubit object at 0x000002F1BFD382F0>, <quantumnet.objects.qubit.Qubit object at 0x000002F1BFD501D0>]\n",
      "memoria de bob: [<quantumnet.objects.qubit.Qubit object at 0x000002F1BFEC9100>, <quantumnet.objects.qubit.Qubit object at 0x000002F1BFD7EEA0>, <quantumnet.objects.qubit.Qubit object at 0x000002F1BF60E870>, <quantumnet.objects.qubit.Qubit object at 0x000002F1BFEC9250>, <quantumnet.objects.qubit.Qubit object at 0x000002F1BF60E060>, <quantumnet.objects.qubit.Qubit object at 0x000002F1BFBE0B00>, <quantumnet.objects.qubit.Qubit object at 0x000002F1BFEC8CE0>, <quantumnet.objects.qubit.Qubit object at 0x000002F1BFEC9670>, <quantumnet.objects.qubit.Qubit object at 0x000002F1BFEC8F80>, <quantumnet.objects.qubit.Qubit object at 0x000002F1BFEC9610>]\n"
     ]
    }
   ],
   "source": [
    "print('memoria de alice:',(alice.memory))\n",
    "print('memoria de bob:',(bob.memory))"
   ]
  },
  {
   "cell_type": "code",
   "execution_count": 6,
   "metadata": {},
   "outputs": [
    {
     "name": "stderr",
     "output_type": "stream",
     "text": [
      "2024-07-14 15:40:07,153: Rota válida encontrada: [0, 3, 6, 7, 8]\n",
      "2024-07-14 15:40:07,153: Teletransporte de qubit de 0 para 8 foi bem-sucedido.\n"
     ]
    },
    {
     "data": {
      "text/plain": [
       "True"
      ]
     },
     "execution_count": 6,
     "metadata": {},
     "output_type": "execute_result"
    }
   ],
   "source": [
    "# rota = rede.networklayer.short_route_valid(0,8)\n",
    "rede.transportlayer.teleportation_protocol(0,8)"
   ]
  },
  {
   "cell_type": "code",
   "execution_count": 7,
   "metadata": {},
   "outputs": [
    {
     "data": {
      "text/plain": [
       "[{'route': [0, 3, 6, 7, 8], 'alice_id': 0, 'bob_id': 8},\n",
       " {'alice_id': 0,\n",
       "  'bob_id': 8,\n",
       "  'route': [0, 3, 6, 7, 8],\n",
       "  'fidelity_alice': 0.35692970275163394,\n",
       "  'fidelity_bob': 0.581388212292231,\n",
       "  'fidelity_route': 1.0,\n",
       "  'success_prob': 0.20751472179676986,\n",
       "  'qubit_alice': <quantumnet.objects.qubit.Qubit at 0x2f1bfea38c0>,\n",
       "  'qubit_bob': <quantumnet.objects.qubit.Qubit at 0x2f1bfec9610>,\n",
       "  'success': True}]"
      ]
     },
     "execution_count": 7,
     "metadata": {},
     "output_type": "execute_result"
    }
   ],
   "source": [
    "rede.transportlayer.get_transmitted_qubits()"
   ]
  },
  {
   "cell_type": "code",
   "execution_count": 8,
   "metadata": {},
   "outputs": [
    {
     "name": "stdout",
     "output_type": "stream",
     "text": [
      "memoria de alice: [<quantumnet.objects.qubit.Qubit object at 0x000002F1BFE06030>, <quantumnet.objects.qubit.Qubit object at 0x000002F1BF4E7350>, <quantumnet.objects.qubit.Qubit object at 0x000002F1BFD539E0>, <quantumnet.objects.qubit.Qubit object at 0x000002F1BFDA4140>, <quantumnet.objects.qubit.Qubit object at 0x000002F1BFBFC170>, <quantumnet.objects.qubit.Qubit object at 0x000002F1BF6536E0>, <quantumnet.objects.qubit.Qubit object at 0x000002F1BFD09C70>, <quantumnet.objects.qubit.Qubit object at 0x000002F1BFD382F0>, <quantumnet.objects.qubit.Qubit object at 0x000002F1BFD501D0>]\n",
      "memoria de bob: [<quantumnet.objects.qubit.Qubit object at 0x000002F1BFEC9100>, <quantumnet.objects.qubit.Qubit object at 0x000002F1BFD7EEA0>, <quantumnet.objects.qubit.Qubit object at 0x000002F1BF60E870>, <quantumnet.objects.qubit.Qubit object at 0x000002F1BFEC9250>, <quantumnet.objects.qubit.Qubit object at 0x000002F1BF60E060>, <quantumnet.objects.qubit.Qubit object at 0x000002F1BFBE0B00>, <quantumnet.objects.qubit.Qubit object at 0x000002F1BFEC8CE0>, <quantumnet.objects.qubit.Qubit object at 0x000002F1BFEC9670>, <quantumnet.objects.qubit.Qubit object at 0x000002F1BFEC8F80>, <quantumnet.objects.qubit.Qubit object at 0x000002F1BFEA38C0>]\n"
     ]
    }
   ],
   "source": [
    "print('memoria de alice:',(alice.memory))\n",
    "print('memoria de bob:',(bob.memory))"
   ]
  }
 ],
 "metadata": {
  "kernelspec": {
   "display_name": "Python 3",
   "language": "python",
   "name": "python3"
  },
  "language_info": {
   "codemirror_mode": {
    "name": "ipython",
    "version": 3
   },
   "file_extension": ".py",
   "mimetype": "text/x-python",
   "name": "python",
   "nbconvert_exporter": "python",
   "pygments_lexer": "ipython3",
   "version": "3.12.1"
  }
 },
 "nbformat": 4,
 "nbformat_minor": 2
}
