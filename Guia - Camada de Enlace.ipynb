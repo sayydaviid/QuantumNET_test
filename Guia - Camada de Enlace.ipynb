{
 "cells": [
  {
   "cell_type": "code",
   "execution_count": 1,
   "metadata": {},
   "outputs": [],
   "source": [
    "from quantumnet.components import Network, Host\n",
    "from quantumnet.objects import Qubit, Logger\n",
    "Logger.activate(Logger)"
   ]
  },
  {
   "cell_type": "code",
   "execution_count": 2,
   "metadata": {},
   "outputs": [
    {
     "name": "stderr",
     "output_type": "stream",
     "text": [
      "2024-06-11 15:01:54,326: Qubit 0 adicionado à memória do Host 0.\n",
      "2024-06-11 15:01:54,327: Qubit 0 criado com fidelidade inicial 0.5280690985144558 e adicionado à memória do Host 0.\n",
      "2024-06-11 15:01:54,327: Qubit 1 adicionado à memória do Host 0.\n",
      "2024-06-11 15:01:54,327: Qubit 1 criado com fidelidade inicial 0.5280690985144558 e adicionado à memória do Host 0.\n",
      "2024-06-11 15:01:54,328: Qubit 2 adicionado à memória do Host 0.\n",
      "2024-06-11 15:01:54,328: Qubit 2 criado com fidelidade inicial 0.5280690985144558 e adicionado à memória do Host 0.\n",
      "2024-06-11 15:01:54,329: Qubit 3 adicionado à memória do Host 0.\n",
      "2024-06-11 15:01:54,329: Qubit 3 criado com fidelidade inicial 0.5280690985144558 e adicionado à memória do Host 0.\n",
      "2024-06-11 15:01:54,329: Qubit 4 adicionado à memória do Host 1.\n",
      "2024-06-11 15:01:54,330: Qubit 4 criado com fidelidade inicial 0.5280690985144558 e adicionado à memória do Host 1.\n",
      "2024-06-11 15:01:54,330: Qubit 5 adicionado à memória do Host 1.\n",
      "2024-06-11 15:01:54,330: Qubit 5 criado com fidelidade inicial 0.5280690985144558 e adicionado à memória do Host 1.\n",
      "2024-06-11 15:01:54,331: Qubit 6 adicionado à memória do Host 1.\n",
      "2024-06-11 15:01:54,331: Qubit 6 criado com fidelidade inicial 0.5280690985144558 e adicionado à memória do Host 1.\n",
      "2024-06-11 15:01:54,331: Qubit 7 adicionado à memória do Host 1.\n",
      "2024-06-11 15:01:54,331: Qubit 7 criado com fidelidade inicial 0.5280690985144558 e adicionado à memória do Host 1.\n",
      "2024-06-11 15:01:54,332: Qubit 8 adicionado à memória do Host 2.\n",
      "2024-06-11 15:01:54,332: Qubit 8 criado com fidelidade inicial 0.5280690985144558 e adicionado à memória do Host 2.\n",
      "2024-06-11 15:01:54,332: Qubit 9 adicionado à memória do Host 2.\n",
      "2024-06-11 15:01:54,333: Qubit 9 criado com fidelidade inicial 0.5280690985144558 e adicionado à memória do Host 2.\n",
      "2024-06-11 15:01:54,333: Qubit 10 adicionado à memória do Host 2.\n",
      "2024-06-11 15:01:54,333: Qubit 10 criado com fidelidade inicial 0.5280690985144558 e adicionado à memória do Host 2.\n",
      "2024-06-11 15:01:54,334: Qubit 11 adicionado à memória do Host 2.\n",
      "2024-06-11 15:01:54,334: Qubit 11 criado com fidelidade inicial 0.5280690985144558 e adicionado à memória do Host 2.\n",
      "2024-06-11 15:01:54,334: Qubit 12 adicionado à memória do Host 3.\n",
      "2024-06-11 15:01:54,335: Qubit 12 criado com fidelidade inicial 0.5280690985144558 e adicionado à memória do Host 3.\n",
      "2024-06-11 15:01:54,335: Qubit 13 adicionado à memória do Host 3.\n",
      "2024-06-11 15:01:54,335: Qubit 13 criado com fidelidade inicial 0.5280690985144558 e adicionado à memória do Host 3.\n",
      "2024-06-11 15:01:54,336: Qubit 14 adicionado à memória do Host 3.\n",
      "2024-06-11 15:01:54,336: Qubit 14 criado com fidelidade inicial 0.5280690985144558 e adicionado à memória do Host 3.\n",
      "2024-06-11 15:01:54,336: Qubit 15 adicionado à memória do Host 3.\n",
      "2024-06-11 15:01:54,337: Qubit 15 criado com fidelidade inicial 0.5280690985144558 e adicionado à memória do Host 3.\n",
      "2024-06-11 15:01:54,337: Qubit 16 adicionado à memória do Host 4.\n",
      "2024-06-11 15:01:54,337: Qubit 16 criado com fidelidade inicial 0.5280690985144558 e adicionado à memória do Host 4.\n",
      "2024-06-11 15:01:54,337: Qubit 17 adicionado à memória do Host 4.\n",
      "2024-06-11 15:01:54,338: Qubit 17 criado com fidelidade inicial 0.5280690985144558 e adicionado à memória do Host 4.\n",
      "2024-06-11 15:01:54,338: Qubit 18 adicionado à memória do Host 4.\n",
      "2024-06-11 15:01:54,338: Qubit 18 criado com fidelidade inicial 0.5280690985144558 e adicionado à memória do Host 4.\n",
      "2024-06-11 15:01:54,339: Qubit 19 adicionado à memória do Host 4.\n",
      "2024-06-11 15:01:54,339: Qubit 19 criado com fidelidade inicial 0.5280690985144558 e adicionado à memória do Host 4.\n",
      "2024-06-11 15:01:54,339: Qubit 20 adicionado à memória do Host 5.\n",
      "2024-06-11 15:01:54,340: Qubit 20 criado com fidelidade inicial 0.5280690985144558 e adicionado à memória do Host 5.\n",
      "2024-06-11 15:01:54,340: Qubit 21 adicionado à memória do Host 5.\n",
      "2024-06-11 15:01:54,340: Qubit 21 criado com fidelidade inicial 0.5280690985144558 e adicionado à memória do Host 5.\n",
      "2024-06-11 15:01:54,340: Qubit 22 adicionado à memória do Host 5.\n",
      "2024-06-11 15:01:54,341: Qubit 22 criado com fidelidade inicial 0.5280690985144558 e adicionado à memória do Host 5.\n",
      "2024-06-11 15:01:54,341: Qubit 23 adicionado à memória do Host 5.\n",
      "2024-06-11 15:01:54,341: Qubit 23 criado com fidelidade inicial 0.5280690985144558 e adicionado à memória do Host 5.\n",
      "2024-06-11 15:01:54,342: Qubit 24 adicionado à memória do Host 6.\n",
      "2024-06-11 15:01:54,342: Qubit 24 criado com fidelidade inicial 0.5280690985144558 e adicionado à memória do Host 6.\n",
      "2024-06-11 15:01:54,342: Qubit 25 adicionado à memória do Host 6.\n",
      "2024-06-11 15:01:54,343: Qubit 25 criado com fidelidade inicial 0.5280690985144558 e adicionado à memória do Host 6.\n",
      "2024-06-11 15:01:54,343: Qubit 26 adicionado à memória do Host 6.\n",
      "2024-06-11 15:01:54,343: Qubit 26 criado com fidelidade inicial 0.5280690985144558 e adicionado à memória do Host 6.\n",
      "2024-06-11 15:01:54,343: Qubit 27 adicionado à memória do Host 6.\n",
      "2024-06-11 15:01:54,344: Qubit 27 criado com fidelidade inicial 0.5280690985144558 e adicionado à memória do Host 6.\n",
      "2024-06-11 15:01:54,344: Qubit 28 adicionado à memória do Host 7.\n",
      "2024-06-11 15:01:54,344: Qubit 28 criado com fidelidade inicial 0.5280690985144558 e adicionado à memória do Host 7.\n",
      "2024-06-11 15:01:54,345: Qubit 29 adicionado à memória do Host 7.\n",
      "2024-06-11 15:01:54,345: Qubit 29 criado com fidelidade inicial 0.5280690985144558 e adicionado à memória do Host 7.\n",
      "2024-06-11 15:01:54,346: Qubit 30 adicionado à memória do Host 7.\n",
      "2024-06-11 15:01:54,346: Qubit 30 criado com fidelidade inicial 0.5280690985144558 e adicionado à memória do Host 7.\n",
      "2024-06-11 15:01:54,346: Qubit 31 adicionado à memória do Host 7.\n",
      "2024-06-11 15:01:54,347: Qubit 31 criado com fidelidade inicial 0.5280690985144558 e adicionado à memória do Host 7.\n",
      "2024-06-11 15:01:54,347: Qubit 32 adicionado à memória do Host 8.\n",
      "2024-06-11 15:01:54,347: Qubit 32 criado com fidelidade inicial 0.5280690985144558 e adicionado à memória do Host 8.\n",
      "2024-06-11 15:01:54,347: Qubit 33 adicionado à memória do Host 8.\n",
      "2024-06-11 15:01:54,348: Qubit 33 criado com fidelidade inicial 0.5280690985144558 e adicionado à memória do Host 8.\n",
      "2024-06-11 15:01:54,348: Qubit 34 adicionado à memória do Host 8.\n",
      "2024-06-11 15:01:54,348: Qubit 34 criado com fidelidade inicial 0.5280690985144558 e adicionado à memória do Host 8.\n",
      "2024-06-11 15:01:54,348: Qubit 35 adicionado à memória do Host 8.\n",
      "2024-06-11 15:01:54,349: Qubit 35 criado com fidelidade inicial 0.5280690985144558 e adicionado à memória do Host 8.\n"
     ]
    },
    {
     "name": "stdout",
     "output_type": "stream",
     "text": [
      "Hosts inicializados\n",
      "Canais inicializados\n"
     ]
    },
    {
     "data": {
      "image/png": "[encoded data removed]",
      "text/plain": [
       "<Figure size 640x480 with 1 Axes>"
      ]
     },
     "metadata": {},
     "output_type": "display_data"
    }
   ],
   "source": [
    "rede = Network()\n",
    "rede.set_ready_topology(\"Grade\",3,3)\n",
    "rede.draw()"
   ]
  },
  {
   "cell_type": "code",
   "execution_count": 3,
   "metadata": {},
   "outputs": [],
   "source": [
    "alice = rede.get_host(1)\n",
    "bob = rede.get_host(2)\n",
    "qubit1 = Qubit(1)\n",
    "qubit2 = Qubit(2)\n"
   ]
  },
  {
   "cell_type": "code",
   "execution_count": 4,
   "metadata": {},
   "outputs": [
    {
     "name": "stderr",
     "output_type": "stream",
     "text": [
      "2024-06-11 15:01:54,845: A fidelidade entre o qubit Qubit 7 with state None e o qubit Qubit 11 with state None é 0.2788569728058701\n",
      "2024-06-11 15:01:54,845: O protocolo de criação de emaranhamento foi bem sucedido, mas com fidelidade baixa.\n"
     ]
    },
    {
     "data": {
      "text/plain": [
       "False"
      ]
     },
     "execution_count": 4,
     "metadata": {},
     "output_type": "execute_result"
    }
   ],
   "source": [
    "rede.physical.entanglement_creation_heralding_protocol(alice,bob)"
   ]
  },
  {
   "cell_type": "code",
   "execution_count": 12,
   "metadata": {},
   "outputs": [
    {
     "data": {
      "text/plain": [
       "[<quantumnet.objects.epr.Epr at 0x299f8142330>]"
      ]
     },
     "execution_count": 12,
     "metadata": {},
     "output_type": "execute_result"
    }
   ],
   "source": [
    "rede.physical.failed_eprs"
   ]
  },
  {
   "cell_type": "code",
   "execution_count": 6,
   "metadata": {},
   "outputs": [],
   "source": [
    "# rede.linklayer.request(1,2)"
   ]
  },
  {
   "cell_type": "code",
   "execution_count": 7,
   "metadata": {},
   "outputs": [
    {
     "data": {
      "text/plain": [
       "[]"
      ]
     },
     "execution_count": 7,
     "metadata": {},
     "output_type": "execute_result"
    }
   ],
   "source": [
    "rede.get_eprs_from_edge(1,2)"
   ]
  },
  {
   "cell_type": "code",
   "execution_count": 8,
   "metadata": {},
   "outputs": [
    {
     "data": {
      "text/plain": [
       "{(0, 3): [],\n",
       " (0, 1): [],\n",
       " (1, 4): [],\n",
       " (1, 2): [],\n",
       " (2, 5): [],\n",
       " (3, 6): [],\n",
       " (3, 4): [],\n",
       " (4, 7): [],\n",
       " (4, 5): [],\n",
       " (5, 8): [],\n",
       " (6, 7): [],\n",
       " (7, 8): []}"
      ]
     },
     "execution_count": 8,
     "metadata": {},
     "output_type": "execute_result"
    }
   ],
   "source": [
    "rede.get_eprs()"
   ]
  },
  {
   "cell_type": "code",
   "execution_count": 9,
   "metadata": {},
   "outputs": [],
   "source": [
    "# rede.physical.add_epr_to_channel(0,(1,4))"
   ]
  },
  {
   "cell_type": "code",
   "execution_count": 10,
   "metadata": {},
   "outputs": [],
   "source": [
    "# rede.physical.add_epr_to_channel(,(1,4))"
   ]
  },
  {
   "cell_type": "code",
   "execution_count": 11,
   "metadata": {},
   "outputs": [],
   "source": [
    "# rede.get_eprs()"
   ]
  },
  {
   "cell_type": "code",
   "execution_count": 13,
   "metadata": {},
   "outputs": [
    {
     "name": "stdout",
     "output_type": "stream",
     "text": [
      "0\n",
      "1\n",
      "2\n",
      "3\n",
      "4\n",
      "5\n",
      "6\n",
      "7\n",
      "8\n",
      "9\n"
     ]
    }
   ],
   "source": []
  }
 ],
 "metadata": {
  "kernelspec": {
   "display_name": "Python 3",
   "language": "python",
   "name": "python3"
  },
  "language_info": {
   "codemirror_mode": {
    "name": "ipython",
    "version": 3
   },
   "file_extension": ".py",
   "mimetype": "text/x-python",
   "name": "python",
   "nbconvert_exporter": "python",
   "pygments_lexer": "ipython3",
   "version": "3.12.1"
  }
 },
 "nbformat": 4,
 "nbformat_minor": 2
}
