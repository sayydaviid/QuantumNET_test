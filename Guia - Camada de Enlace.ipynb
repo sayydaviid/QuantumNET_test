{
 "cells": [
  {
   "cell_type": "code",
   "execution_count": 1,
   "metadata": {},
   "outputs": [],
   "source": [
    "from quantumnet.components import Network, Host\n",
    "from quantumnet.objects import Qubit, Logger\n",
    "Logger.activate(Logger)"
   ]
  },
  {
   "cell_type": "code",
   "execution_count": 2,
   "metadata": {},
   "outputs": [
    {
     "name": "stderr",
     "output_type": "stream",
     "text": [
      "2024-06-16 21:35:15,141: Qubit 0 adicionado à memória do Host 0.\n",
      "2024-06-16 21:35:15,141: Qubit 0 criado com fidelidade inicial 0.6709145437963612 e adicionado à memória do Host 0.\n",
      "2024-06-16 21:35:15,141: Qubit 1 adicionado à memória do Host 0.\n",
      "2024-06-16 21:35:15,141: Qubit 1 criado com fidelidade inicial 0.46088816797354804 e adicionado à memória do Host 0.\n",
      "2024-06-16 21:35:15,141: Qubit 2 adicionado à memória do Host 0.\n",
      "2024-06-16 21:35:15,141: Qubit 2 criado com fidelidade inicial 0.22420680576429686 e adicionado à memória do Host 0.\n",
      "2024-06-16 21:35:15,141: Qubit 3 adicionado à memória do Host 0.\n",
      "2024-06-16 21:35:15,141: Qubit 3 criado com fidelidade inicial 0.5907877320549456 e adicionado à memória do Host 0.\n",
      "2024-06-16 21:35:15,141: Qubit 4 adicionado à memória do Host 0.\n",
      "2024-06-16 21:35:15,149: Qubit 4 criado com fidelidade inicial 0.9659256942687713 e adicionado à memória do Host 0.\n",
      "2024-06-16 21:35:15,149: Qubit 5 adicionado à memória do Host 0.\n",
      "2024-06-16 21:35:15,149: Qubit 5 criado com fidelidade inicial 0.037402898026995035 e adicionado à memória do Host 0.\n",
      "2024-06-16 21:35:15,149: Qubit 6 adicionado à memória do Host 0.\n",
      "2024-06-16 21:35:15,149: Qubit 6 criado com fidelidade inicial 0.9888556340161183 e adicionado à memória do Host 0.\n",
      "2024-06-16 21:35:15,149: Qubit 7 adicionado à memória do Host 0.\n",
      "2024-06-16 21:35:15,149: Qubit 7 criado com fidelidade inicial 0.9494853254352615 e adicionado à memória do Host 0.\n",
      "2024-06-16 21:35:15,149: Qubit 8 adicionado à memória do Host 0.\n",
      "2024-06-16 21:35:15,149: Qubit 8 criado com fidelidade inicial 0.20045889887964785 e adicionado à memória do Host 0.\n",
      "2024-06-16 21:35:15,149: Qubit 9 adicionado à memória do Host 0.\n",
      "2024-06-16 21:35:15,149: Qubit 9 criado com fidelidade inicial 0.6395505901692623 e adicionado à memória do Host 0.\n",
      "2024-06-16 21:35:15,149: Qubit 10 adicionado à memória do Host 0.\n",
      "2024-06-16 21:35:15,149: Qubit 10 criado com fidelidade inicial 0.15302735441132675 e adicionado à memória do Host 0.\n",
      "2024-06-16 21:35:15,157: Qubit 11 adicionado à memória do Host 0.\n",
      "2024-06-16 21:35:15,157: Qubit 11 criado com fidelidade inicial 0.42766780000898275 e adicionado à memória do Host 0.\n",
      "2024-06-16 21:35:15,158: Qubit 12 adicionado à memória do Host 0.\n",
      "2024-06-16 21:35:15,184: Qubit 12 criado com fidelidade inicial 0.193001115197183 e adicionado à memória do Host 0.\n",
      "2024-06-16 21:35:15,189: Qubit 13 adicionado à memória do Host 0.\n",
      "2024-06-16 21:35:15,189: Qubit 13 criado com fidelidade inicial 0.7509822303225936 e adicionado à memória do Host 0.\n",
      "2024-06-16 21:35:15,189: Qubit 14 adicionado à memória do Host 0.\n",
      "2024-06-16 21:35:15,191: Qubit 14 criado com fidelidade inicial 0.8433958831985897 e adicionado à memória do Host 0.\n",
      "2024-06-16 21:35:15,191: Qubit 15 adicionado à memória do Host 0.\n",
      "2024-06-16 21:35:15,191: Qubit 15 criado com fidelidade inicial 0.009702476229808688 e adicionado à memória do Host 0.\n",
      "2024-06-16 21:35:15,191: Qubit 16 adicionado à memória do Host 0.\n",
      "2024-06-16 21:35:15,191: Qubit 16 criado com fidelidade inicial 0.3969248185536769 e adicionado à memória do Host 0.\n",
      "2024-06-16 21:35:15,191: Qubit 17 adicionado à memória do Host 0.\n",
      "2024-06-16 21:35:15,191: Qubit 17 criado com fidelidade inicial 0.5749237590237639 e adicionado à memória do Host 0.\n",
      "2024-06-16 21:35:15,191: Qubit 18 adicionado à memória do Host 0.\n",
      "2024-06-16 21:35:15,191: Qubit 18 criado com fidelidade inicial 0.6904657238135568 e adicionado à memória do Host 0.\n",
      "2024-06-16 21:35:15,191: Qubit 19 adicionado à memória do Host 0.\n",
      "2024-06-16 21:35:15,191: Qubit 19 criado com fidelidade inicial 0.08542451752998548 e adicionado à memória do Host 0.\n",
      "2024-06-16 21:35:15,199: Qubit 20 adicionado à memória do Host 1.\n",
      "2024-06-16 21:35:15,199: Qubit 20 criado com fidelidade inicial 0.19316163628612026 e adicionado à memória do Host 1.\n",
      "2024-06-16 21:35:15,199: Qubit 21 adicionado à memória do Host 1.\n",
      "2024-06-16 21:35:15,199: Qubit 21 criado com fidelidade inicial 0.16176332110743163 e adicionado à memória do Host 1.\n",
      "2024-06-16 21:35:15,199: Qubit 22 adicionado à memória do Host 1.\n",
      "2024-06-16 21:35:15,199: Qubit 22 criado com fidelidade inicial 0.3207963327255593 e adicionado à memória do Host 1.\n",
      "2024-06-16 21:35:15,199: Qubit 23 adicionado à memória do Host 1.\n",
      "2024-06-16 21:35:15,199: Qubit 23 criado com fidelidade inicial 0.8059144128901313 e adicionado à memória do Host 1.\n",
      "2024-06-16 21:35:15,204: Qubit 24 adicionado à memória do Host 1.\n",
      "2024-06-16 21:35:15,204: Qubit 24 criado com fidelidade inicial 0.45881285914692915 e adicionado à memória do Host 1.\n",
      "2024-06-16 21:35:15,204: Qubit 25 adicionado à memória do Host 1.\n",
      "2024-06-16 21:35:15,204: Qubit 25 criado com fidelidade inicial 0.10494079169353343 e adicionado à memória do Host 1.\n",
      "2024-06-16 21:35:15,207: Qubit 26 adicionado à memória do Host 1.\n",
      "2024-06-16 21:35:15,207: Qubit 26 criado com fidelidade inicial 0.17295874666405098 e adicionado à memória do Host 1.\n",
      "2024-06-16 21:35:15,208: Qubit 27 adicionado à memória do Host 1.\n",
      "2024-06-16 21:35:15,208: Qubit 27 criado com fidelidade inicial 0.8522291370266455 e adicionado à memória do Host 1.\n",
      "2024-06-16 21:35:15,209: Qubit 28 adicionado à memória do Host 1.\n",
      "2024-06-16 21:35:15,209: Qubit 28 criado com fidelidade inicial 0.030368449525039698 e adicionado à memória do Host 1.\n",
      "2024-06-16 21:35:15,209: Qubit 29 adicionado à memória do Host 1.\n",
      "2024-06-16 21:35:15,209: Qubit 29 criado com fidelidade inicial 0.7161090969377695 e adicionado à memória do Host 1.\n",
      "2024-06-16 21:35:15,209: Qubit 30 adicionado à memória do Host 1.\n",
      "2024-06-16 21:35:15,209: Qubit 30 criado com fidelidade inicial 0.37104021121319575 e adicionado à memória do Host 1.\n",
      "2024-06-16 21:35:15,209: Qubit 31 adicionado à memória do Host 1.\n",
      "2024-06-16 21:35:15,209: Qubit 31 criado com fidelidade inicial 0.8503774317873454 e adicionado à memória do Host 1.\n",
      "2024-06-16 21:35:15,209: Qubit 32 adicionado à memória do Host 1.\n",
      "2024-06-16 21:35:15,209: Qubit 32 criado com fidelidade inicial 0.09540305560519124 e adicionado à memória do Host 1.\n",
      "2024-06-16 21:35:15,209: Qubit 33 adicionado à memória do Host 1.\n",
      "2024-06-16 21:35:15,209: Qubit 33 criado com fidelidade inicial 0.21120337182349758 e adicionado à memória do Host 1.\n",
      "2024-06-16 21:35:15,209: Qubit 34 adicionado à memória do Host 1.\n",
      "2024-06-16 21:35:15,209: Qubit 34 criado com fidelidade inicial 0.5237978310895774 e adicionado à memória do Host 1.\n",
      "2024-06-16 21:35:15,209: Qubit 35 adicionado à memória do Host 1.\n",
      "2024-06-16 21:35:15,209: Qubit 35 criado com fidelidade inicial 0.3393675743422454 e adicionado à memória do Host 1.\n",
      "2024-06-16 21:35:15,209: Qubit 36 adicionado à memória do Host 1.\n",
      "2024-06-16 21:35:15,209: Qubit 36 criado com fidelidade inicial 0.44608581760015487 e adicionado à memória do Host 1.\n",
      "2024-06-16 21:35:15,209: Qubit 37 adicionado à memória do Host 1.\n",
      "2024-06-16 21:35:15,219: Qubit 37 criado com fidelidade inicial 0.08372250140664406 e adicionado à memória do Host 1.\n",
      "2024-06-16 21:35:15,219: Qubit 38 adicionado à memória do Host 1.\n",
      "2024-06-16 21:35:15,219: Qubit 38 criado com fidelidade inicial 0.6997744955358182 e adicionado à memória do Host 1.\n",
      "2024-06-16 21:35:15,223: Qubit 39 adicionado à memória do Host 1.\n",
      "2024-06-16 21:35:15,224: Qubit 39 criado com fidelidade inicial 0.7161795915702935 e adicionado à memória do Host 1.\n",
      "2024-06-16 21:35:15,224: Qubit 40 adicionado à memória do Host 2.\n",
      "2024-06-16 21:35:15,224: Qubit 40 criado com fidelidade inicial 0.3077909867957207 e adicionado à memória do Host 2.\n",
      "2024-06-16 21:35:15,224: Qubit 41 adicionado à memória do Host 2.\n",
      "2024-06-16 21:35:15,224: Qubit 41 criado com fidelidade inicial 0.30494972532040054 e adicionado à memória do Host 2.\n",
      "2024-06-16 21:35:15,224: Qubit 42 adicionado à memória do Host 2.\n",
      "2024-06-16 21:35:15,224: Qubit 42 criado com fidelidade inicial 0.4882420946811191 e adicionado à memória do Host 2.\n",
      "2024-06-16 21:35:15,224: Qubit 43 adicionado à memória do Host 2.\n",
      "2024-06-16 21:35:15,224: Qubit 43 criado com fidelidade inicial 0.4998715417753091 e adicionado à memória do Host 2.\n",
      "2024-06-16 21:35:15,224: Qubit 44 adicionado à memória do Host 2.\n",
      "2024-06-16 21:35:15,229: Qubit 44 criado com fidelidade inicial 0.9539257365121178 e adicionado à memória do Host 2.\n",
      "2024-06-16 21:35:15,229: Qubit 45 adicionado à memória do Host 2.\n",
      "2024-06-16 21:35:15,229: Qubit 45 criado com fidelidade inicial 0.1268621170718245 e adicionado à memória do Host 2.\n",
      "2024-06-16 21:35:15,229: Qubit 46 adicionado à memória do Host 2.\n",
      "2024-06-16 21:35:15,229: Qubit 46 criado com fidelidade inicial 0.8357675390404509 e adicionado à memória do Host 2.\n",
      "2024-06-16 21:35:15,229: Qubit 47 adicionado à memória do Host 2.\n",
      "2024-06-16 21:35:15,229: Qubit 47 criado com fidelidade inicial 0.4643472555874747 e adicionado à memória do Host 2.\n",
      "2024-06-16 21:35:15,229: Qubit 48 adicionado à memória do Host 2.\n",
      "2024-06-16 21:35:15,229: Qubit 48 criado com fidelidade inicial 0.5432864023000328 e adicionado à memória do Host 2.\n",
      "2024-06-16 21:35:15,229: Qubit 49 adicionado à memória do Host 2.\n",
      "2024-06-16 21:35:15,229: Qubit 49 criado com fidelidade inicial 0.8178443887720042 e adicionado à memória do Host 2.\n",
      "2024-06-16 21:35:15,229: Qubit 50 adicionado à memória do Host 2.\n",
      "2024-06-16 21:35:15,229: Qubit 50 criado com fidelidade inicial 0.904653275824039 e adicionado à memória do Host 2.\n",
      "2024-06-16 21:35:15,229: Qubit 51 adicionado à memória do Host 2.\n",
      "2024-06-16 21:35:15,229: Qubit 51 criado com fidelidade inicial 0.695622447707524 e adicionado à memória do Host 2.\n",
      "2024-06-16 21:35:15,229: Qubit 52 adicionado à memória do Host 2.\n",
      "2024-06-16 21:35:15,229: Qubit 52 criado com fidelidade inicial 0.30568361961444246 e adicionado à memória do Host 2.\n",
      "2024-06-16 21:35:15,239: Qubit 53 adicionado à memória do Host 2.\n",
      "2024-06-16 21:35:15,239: Qubit 53 criado com fidelidade inicial 0.5616717322989605 e adicionado à memória do Host 2.\n",
      "2024-06-16 21:35:15,240: Qubit 54 adicionado à memória do Host 2.\n",
      "2024-06-16 21:35:15,241: Qubit 54 criado com fidelidade inicial 0.3134831456202197 e adicionado à memória do Host 2.\n",
      "2024-06-16 21:35:15,241: Qubit 55 adicionado à memória do Host 2.\n",
      "2024-06-16 21:35:15,241: Qubit 55 criado com fidelidade inicial 0.36138711045410543 e adicionado à memória do Host 2.\n",
      "2024-06-16 21:35:15,241: Qubit 56 adicionado à memória do Host 2.\n",
      "2024-06-16 21:35:15,241: Qubit 56 criado com fidelidade inicial 0.6944197728508839 e adicionado à memória do Host 2.\n",
      "2024-06-16 21:35:15,241: Qubit 57 adicionado à memória do Host 2.\n",
      "2024-06-16 21:35:15,241: Qubit 57 criado com fidelidade inicial 0.6695266013129553 e adicionado à memória do Host 2.\n",
      "2024-06-16 21:35:15,241: Qubit 58 adicionado à memória do Host 2.\n",
      "2024-06-16 21:35:15,241: Qubit 58 criado com fidelidade inicial 0.9866781877524029 e adicionado à memória do Host 2.\n",
      "2024-06-16 21:35:15,241: Qubit 59 adicionado à memória do Host 2.\n",
      "2024-06-16 21:35:15,241: Qubit 59 criado com fidelidade inicial 0.4468183187618415 e adicionado à memória do Host 2.\n",
      "2024-06-16 21:35:15,241: Qubit 60 adicionado à memória do Host 3.\n",
      "2024-06-16 21:35:15,249: Qubit 60 criado com fidelidade inicial 0.008360621940429414 e adicionado à memória do Host 3.\n",
      "2024-06-16 21:35:15,249: Qubit 61 adicionado à memória do Host 3.\n",
      "2024-06-16 21:35:15,249: Qubit 61 criado com fidelidade inicial 0.15749683372034573 e adicionado à memória do Host 3.\n",
      "2024-06-16 21:35:15,249: Qubit 62 adicionado à memória do Host 3.\n",
      "2024-06-16 21:35:15,249: Qubit 62 criado com fidelidade inicial 0.6267626069737465 e adicionado à memória do Host 3.\n",
      "2024-06-16 21:35:15,249: Qubit 63 adicionado à memória do Host 3.\n",
      "2024-06-16 21:35:15,249: Qubit 63 criado com fidelidade inicial 0.7263742399036434 e adicionado à memória do Host 3.\n",
      "2024-06-16 21:35:15,249: Qubit 64 adicionado à memória do Host 3.\n",
      "2024-06-16 21:35:15,249: Qubit 64 criado com fidelidade inicial 0.9765042461628755 e adicionado à memória do Host 3.\n",
      "2024-06-16 21:35:15,249: Qubit 65 adicionado à memória do Host 3.\n",
      "2024-06-16 21:35:15,249: Qubit 65 criado com fidelidade inicial 0.33393440276618136 e adicionado à memória do Host 3.\n",
      "2024-06-16 21:35:15,249: Qubit 66 adicionado à memória do Host 3.\n",
      "2024-06-16 21:35:15,249: Qubit 66 criado com fidelidade inicial 0.7905388481211263 e adicionado à memória do Host 3.\n",
      "2024-06-16 21:35:15,259: Qubit 67 adicionado à memória do Host 3.\n",
      "2024-06-16 21:35:15,279: Qubit 67 criado com fidelidade inicial 0.3294556761180194 e adicionado à memória do Host 3.\n",
      "2024-06-16 21:35:15,279: Qubit 68 adicionado à memória do Host 3.\n",
      "2024-06-16 21:35:15,284: Qubit 68 criado com fidelidade inicial 0.3430559577908827 e adicionado à memória do Host 3.\n",
      "2024-06-16 21:35:15,284: Qubit 69 adicionado à memória do Host 3.\n",
      "2024-06-16 21:35:15,291: Qubit 69 criado com fidelidade inicial 0.8170220786324323 e adicionado à memória do Host 3.\n",
      "2024-06-16 21:35:15,291: Qubit 70 adicionado à memória do Host 3.\n",
      "2024-06-16 21:35:15,291: Qubit 70 criado com fidelidade inicial 0.8163524529403154 e adicionado à memória do Host 3.\n",
      "2024-06-16 21:35:15,291: Qubit 71 adicionado à memória do Host 3.\n",
      "2024-06-16 21:35:15,291: Qubit 71 criado com fidelidade inicial 0.4501597895051449 e adicionado à memória do Host 3.\n",
      "2024-06-16 21:35:15,291: Qubit 72 adicionado à memória do Host 3.\n",
      "2024-06-16 21:35:15,291: Qubit 72 criado com fidelidade inicial 0.7164669893215976 e adicionado à memória do Host 3.\n",
      "2024-06-16 21:35:15,291: Qubit 73 adicionado à memória do Host 3.\n",
      "2024-06-16 21:35:15,291: Qubit 73 criado com fidelidade inicial 0.7952157295255948 e adicionado à memória do Host 3.\n",
      "2024-06-16 21:35:15,291: Qubit 74 adicionado à memória do Host 3.\n",
      "2024-06-16 21:35:15,291: Qubit 74 criado com fidelidade inicial 0.6443333452885774 e adicionado à memória do Host 3.\n",
      "2024-06-16 21:35:15,291: Qubit 75 adicionado à memória do Host 3.\n",
      "2024-06-16 21:35:15,291: Qubit 75 criado com fidelidade inicial 0.010984500054296853 e adicionado à memória do Host 3.\n",
      "2024-06-16 21:35:15,291: Qubit 76 adicionado à memória do Host 3.\n",
      "2024-06-16 21:35:15,299: Qubit 76 criado com fidelidade inicial 0.1451006574755872 e adicionado à memória do Host 3.\n",
      "2024-06-16 21:35:15,299: Qubit 77 adicionado à memória do Host 3.\n",
      "2024-06-16 21:35:15,299: Qubit 77 criado com fidelidade inicial 0.957676344134618 e adicionado à memória do Host 3.\n",
      "2024-06-16 21:35:15,299: Qubit 78 adicionado à memória do Host 3.\n",
      "2024-06-16 21:35:15,304: Qubit 78 criado com fidelidade inicial 0.9397770693371182 e adicionado à memória do Host 3.\n",
      "2024-06-16 21:35:15,306: Qubit 79 adicionado à memória do Host 3.\n",
      "2024-06-16 21:35:15,308: Qubit 79 criado com fidelidade inicial 0.0657271520501812 e adicionado à memória do Host 3.\n",
      "2024-06-16 21:35:15,309: Qubit 80 adicionado à memória do Host 4.\n",
      "2024-06-16 21:35:15,309: Qubit 80 criado com fidelidade inicial 0.6706194494314371 e adicionado à memória do Host 4.\n",
      "2024-06-16 21:35:15,309: Qubit 81 adicionado à memória do Host 4.\n",
      "2024-06-16 21:35:15,309: Qubit 81 criado com fidelidade inicial 0.5791890134081756 e adicionado à memória do Host 4.\n",
      "2024-06-16 21:35:15,309: Qubit 82 adicionado à memória do Host 4.\n",
      "2024-06-16 21:35:15,309: Qubit 82 criado com fidelidade inicial 0.6376058185795495 e adicionado à memória do Host 4.\n",
      "2024-06-16 21:35:15,309: Qubit 83 adicionado à memória do Host 4.\n",
      "2024-06-16 21:35:15,309: Qubit 83 criado com fidelidade inicial 0.3311522584274056 e adicionado à memória do Host 4.\n",
      "2024-06-16 21:35:15,309: Qubit 84 adicionado à memória do Host 4.\n",
      "2024-06-16 21:35:15,309: Qubit 84 criado com fidelidade inicial 0.13281678211804804 e adicionado à memória do Host 4.\n",
      "2024-06-16 21:35:15,309: Qubit 85 adicionado à memória do Host 4.\n",
      "2024-06-16 21:35:15,309: Qubit 85 criado com fidelidade inicial 0.09261565998733656 e adicionado à memória do Host 4.\n",
      "2024-06-16 21:35:15,309: Qubit 86 adicionado à memória do Host 4.\n",
      "2024-06-16 21:35:15,309: Qubit 86 criado com fidelidade inicial 0.2179040385213088 e adicionado à memória do Host 4.\n",
      "2024-06-16 21:35:15,309: Qubit 87 adicionado à memória do Host 4.\n",
      "2024-06-16 21:35:15,309: Qubit 87 criado com fidelidade inicial 0.39551748304697587 e adicionado à memória do Host 4.\n",
      "2024-06-16 21:35:15,309: Qubit 88 adicionado à memória do Host 4.\n",
      "2024-06-16 21:35:15,309: Qubit 88 criado com fidelidade inicial 0.44748708526878833 e adicionado à memória do Host 4.\n",
      "2024-06-16 21:35:15,309: Qubit 89 adicionado à memória do Host 4.\n",
      "2024-06-16 21:35:15,319: Qubit 89 criado com fidelidade inicial 0.7215904732714973 e adicionado à memória do Host 4.\n",
      "2024-06-16 21:35:15,319: Qubit 90 adicionado à memória do Host 4.\n",
      "2024-06-16 21:35:15,319: Qubit 90 criado com fidelidade inicial 0.2828678771824147 e adicionado à memória do Host 4.\n",
      "2024-06-16 21:35:15,319: Qubit 91 adicionado à memória do Host 4.\n",
      "2024-06-16 21:35:15,319: Qubit 91 criado com fidelidade inicial 0.6141749824376712 e adicionado à memória do Host 4.\n",
      "2024-06-16 21:35:15,319: Qubit 92 adicionado à memória do Host 4.\n",
      "2024-06-16 21:35:15,319: Qubit 92 criado com fidelidade inicial 0.57988576322135 e adicionado à memória do Host 4.\n",
      "2024-06-16 21:35:15,319: Qubit 93 adicionado à memória do Host 4.\n",
      "2024-06-16 21:35:15,319: Qubit 93 criado com fidelidade inicial 0.6340336321657811 e adicionado à memória do Host 4.\n",
      "2024-06-16 21:35:15,323: Qubit 94 adicionado à memória do Host 4.\n",
      "2024-06-16 21:35:15,324: Qubit 94 criado com fidelidade inicial 0.05213686380874594 e adicionado à memória do Host 4.\n",
      "2024-06-16 21:35:15,325: Qubit 95 adicionado à memória do Host 4.\n",
      "2024-06-16 21:35:15,325: Qubit 95 criado com fidelidade inicial 0.7857532326719376 e adicionado à memória do Host 4.\n",
      "2024-06-16 21:35:15,325: Qubit 96 adicionado à memória do Host 4.\n",
      "2024-06-16 21:35:15,325: Qubit 96 criado com fidelidade inicial 0.02506178669350967 e adicionado à memória do Host 4.\n",
      "2024-06-16 21:35:15,325: Qubit 97 adicionado à memória do Host 4.\n",
      "2024-06-16 21:35:15,325: Qubit 97 criado com fidelidade inicial 0.8295771166200312 e adicionado à memória do Host 4.\n",
      "2024-06-16 21:35:15,325: Qubit 98 adicionado à memória do Host 4.\n",
      "2024-06-16 21:35:15,325: Qubit 98 criado com fidelidade inicial 0.5285927538671993 e adicionado à memória do Host 4.\n",
      "2024-06-16 21:35:15,325: Qubit 99 adicionado à memória do Host 4.\n",
      "2024-06-16 21:35:15,325: Qubit 99 criado com fidelidade inicial 0.924814962157128 e adicionado à memória do Host 4.\n",
      "2024-06-16 21:35:15,329: Qubit 100 adicionado à memória do Host 5.\n",
      "2024-06-16 21:35:15,329: Qubit 100 criado com fidelidade inicial 0.8894834884179224 e adicionado à memória do Host 5.\n",
      "2024-06-16 21:35:15,329: Qubit 101 adicionado à memória do Host 5.\n",
      "2024-06-16 21:35:15,329: Qubit 101 criado com fidelidade inicial 0.12625460174666714 e adicionado à memória do Host 5.\n",
      "2024-06-16 21:35:15,329: Qubit 102 adicionado à memória do Host 5.\n",
      "2024-06-16 21:35:15,329: Qubit 102 criado com fidelidade inicial 0.8535986134593014 e adicionado à memória do Host 5.\n",
      "2024-06-16 21:35:15,329: Qubit 103 adicionado à memória do Host 5.\n",
      "2024-06-16 21:35:15,329: Qubit 103 criado com fidelidade inicial 0.5886343680227394 e adicionado à memória do Host 5.\n",
      "2024-06-16 21:35:15,329: Qubit 104 adicionado à memória do Host 5.\n",
      "2024-06-16 21:35:15,329: Qubit 104 criado com fidelidade inicial 0.5399968553926248 e adicionado à memória do Host 5.\n",
      "2024-06-16 21:35:15,329: Qubit 105 adicionado à memória do Host 5.\n",
      "2024-06-16 21:35:15,329: Qubit 105 criado com fidelidade inicial 0.804434641916919 e adicionado à memória do Host 5.\n",
      "2024-06-16 21:35:15,329: Qubit 106 adicionado à memória do Host 5.\n",
      "2024-06-16 21:35:15,329: Qubit 106 criado com fidelidade inicial 0.3611612471283314 e adicionado à memória do Host 5.\n",
      "2024-06-16 21:35:15,329: Qubit 107 adicionado à memória do Host 5.\n",
      "2024-06-16 21:35:15,329: Qubit 107 criado com fidelidade inicial 0.46002746702840513 e adicionado à memória do Host 5.\n",
      "2024-06-16 21:35:15,329: Qubit 108 adicionado à memória do Host 5.\n",
      "2024-06-16 21:35:15,329: Qubit 108 criado com fidelidade inicial 0.5680856445899398 e adicionado à memória do Host 5.\n",
      "2024-06-16 21:35:15,329: Qubit 109 adicionado à memória do Host 5.\n",
      "2024-06-16 21:35:15,329: Qubit 109 criado com fidelidade inicial 0.33815398712745126 e adicionado à memória do Host 5.\n",
      "2024-06-16 21:35:15,339: Qubit 110 adicionado à memória do Host 5.\n",
      "2024-06-16 21:35:15,339: Qubit 110 criado com fidelidade inicial 0.9035297330392481 e adicionado à memória do Host 5.\n",
      "2024-06-16 21:35:15,340: Qubit 111 adicionado à memória do Host 5.\n",
      "2024-06-16 21:35:15,341: Qubit 111 criado com fidelidade inicial 0.7261544116665126 e adicionado à memória do Host 5.\n",
      "2024-06-16 21:35:15,341: Qubit 112 adicionado à memória do Host 5.\n",
      "2024-06-16 21:35:15,341: Qubit 112 criado com fidelidade inicial 0.9486910395648287 e adicionado à memória do Host 5.\n",
      "2024-06-16 21:35:15,341: Qubit 113 adicionado à memória do Host 5.\n",
      "2024-06-16 21:35:15,341: Qubit 113 criado com fidelidade inicial 0.05538595450453465 e adicionado à memória do Host 5.\n",
      "2024-06-16 21:35:15,341: Qubit 114 adicionado à memória do Host 5.\n",
      "2024-06-16 21:35:15,341: Qubit 114 criado com fidelidade inicial 0.7703224417513406 e adicionado à memória do Host 5.\n",
      "2024-06-16 21:35:15,341: Qubit 115 adicionado à memória do Host 5.\n",
      "2024-06-16 21:35:15,341: Qubit 115 criado com fidelidade inicial 0.7760648393877239 e adicionado à memória do Host 5.\n",
      "2024-06-16 21:35:15,341: Qubit 116 adicionado à memória do Host 5.\n",
      "2024-06-16 21:35:15,341: Qubit 116 criado com fidelidade inicial 0.1956644493699331 e adicionado à memória do Host 5.\n",
      "2024-06-16 21:35:15,341: Qubit 117 adicionado à memória do Host 5.\n",
      "2024-06-16 21:35:15,341: Qubit 117 criado com fidelidade inicial 0.8050052874491047 e adicionado à memória do Host 5.\n",
      "2024-06-16 21:35:15,341: Qubit 118 adicionado à memória do Host 5.\n",
      "2024-06-16 21:35:15,349: Qubit 118 criado com fidelidade inicial 0.08578355208625865 e adicionado à memória do Host 5.\n",
      "2024-06-16 21:35:15,349: Qubit 119 adicionado à memória do Host 5.\n",
      "2024-06-16 21:35:15,349: Qubit 119 criado com fidelidade inicial 0.5491311716708495 e adicionado à memória do Host 5.\n",
      "2024-06-16 21:35:15,349: Qubit 120 adicionado à memória do Host 6.\n",
      "2024-06-16 21:35:15,349: Qubit 120 criado com fidelidade inicial 0.19489005377274027 e adicionado à memória do Host 6.\n",
      "2024-06-16 21:35:15,349: Qubit 121 adicionado à memória do Host 6.\n",
      "2024-06-16 21:35:15,349: Qubit 121 criado com fidelidade inicial 0.010991276062287114 e adicionado à memória do Host 6.\n",
      "2024-06-16 21:35:15,349: Qubit 122 adicionado à memória do Host 6.\n",
      "2024-06-16 21:35:15,349: Qubit 122 criado com fidelidade inicial 0.5011492380448281 e adicionado à memória do Host 6.\n",
      "2024-06-16 21:35:15,349: Qubit 123 adicionado à memória do Host 6.\n",
      "2024-06-16 21:35:15,349: Qubit 123 criado com fidelidade inicial 0.8774139074573607 e adicionado à memória do Host 6.\n",
      "2024-06-16 21:35:15,349: Qubit 124 adicionado à memória do Host 6.\n",
      "2024-06-16 21:35:15,349: Qubit 124 criado com fidelidade inicial 0.24560005214008085 e adicionado à memória do Host 6.\n",
      "2024-06-16 21:35:15,349: Qubit 125 adicionado à memória do Host 6.\n",
      "2024-06-16 21:35:15,349: Qubit 125 criado com fidelidade inicial 0.7239382599589103 e adicionado à memória do Host 6.\n",
      "2024-06-16 21:35:15,349: Qubit 126 adicionado à memória do Host 6.\n",
      "2024-06-16 21:35:15,349: Qubit 126 criado com fidelidade inicial 0.7044523815794521 e adicionado à memória do Host 6.\n",
      "2024-06-16 21:35:15,357: Qubit 127 adicionado à memória do Host 6.\n",
      "2024-06-16 21:35:15,357: Qubit 127 criado com fidelidade inicial 0.6772424028590776 e adicionado à memória do Host 6.\n",
      "2024-06-16 21:35:15,357: Qubit 128 adicionado à memória do Host 6.\n",
      "2024-06-16 21:35:15,358: Qubit 128 criado com fidelidade inicial 0.45760936922597173 e adicionado à memória do Host 6.\n",
      "2024-06-16 21:35:15,358: Qubit 129 adicionado à memória do Host 6.\n",
      "2024-06-16 21:35:15,359: Qubit 129 criado com fidelidade inicial 0.4626005724001301 e adicionado à memória do Host 6.\n",
      "2024-06-16 21:35:15,360: Qubit 130 adicionado à memória do Host 6.\n",
      "2024-06-16 21:35:15,379: Qubit 130 criado com fidelidade inicial 0.07414764376471417 e adicionado à memória do Host 6.\n",
      "2024-06-16 21:35:15,391: Qubit 131 adicionado à memória do Host 6.\n",
      "2024-06-16 21:35:15,391: Qubit 131 criado com fidelidade inicial 0.7702222165362212 e adicionado à memória do Host 6.\n",
      "2024-06-16 21:35:15,391: Qubit 132 adicionado à memória do Host 6.\n",
      "2024-06-16 21:35:15,391: Qubit 132 criado com fidelidade inicial 0.5190419007121682 e adicionado à memória do Host 6.\n",
      "2024-06-16 21:35:15,391: Qubit 133 adicionado à memória do Host 6.\n",
      "2024-06-16 21:35:15,391: Qubit 133 criado com fidelidade inicial 0.8682981631870201 e adicionado à memória do Host 6.\n",
      "2024-06-16 21:35:15,391: Qubit 134 adicionado à memória do Host 6.\n",
      "2024-06-16 21:35:15,391: Qubit 134 criado com fidelidade inicial 0.14891803334535192 e adicionado à memória do Host 6.\n",
      "2024-06-16 21:35:15,399: Qubit 135 adicionado à memória do Host 6.\n",
      "2024-06-16 21:35:15,399: Qubit 135 criado com fidelidade inicial 0.8033178083791812 e adicionado à memória do Host 6.\n",
      "2024-06-16 21:35:15,399: Qubit 136 adicionado à memória do Host 6.\n",
      "2024-06-16 21:35:15,399: Qubit 136 criado com fidelidade inicial 0.6803537127537248 e adicionado à memória do Host 6.\n",
      "2024-06-16 21:35:15,399: Qubit 137 adicionado à memória do Host 6.\n",
      "2024-06-16 21:35:15,399: Qubit 137 criado com fidelidade inicial 0.08880564684249803 e adicionado à memória do Host 6.\n",
      "2024-06-16 21:35:15,399: Qubit 138 adicionado à memória do Host 6.\n",
      "2024-06-16 21:35:15,399: Qubit 138 criado com fidelidade inicial 0.5589417225158926 e adicionado à memória do Host 6.\n",
      "2024-06-16 21:35:15,399: Qubit 139 adicionado à memória do Host 6.\n",
      "2024-06-16 21:35:15,399: Qubit 139 criado com fidelidade inicial 0.6005690183875978 e adicionado à memória do Host 6.\n",
      "2024-06-16 21:35:15,399: Qubit 140 adicionado à memória do Host 7.\n",
      "2024-06-16 21:35:15,399: Qubit 140 criado com fidelidade inicial 0.26333769339221025 e adicionado à memória do Host 7.\n",
      "2024-06-16 21:35:15,399: Qubit 141 adicionado à memória do Host 7.\n",
      "2024-06-16 21:35:15,399: Qubit 141 criado com fidelidade inicial 0.13378904220774568 e adicionado à memória do Host 7.\n",
      "2024-06-16 21:35:15,399: Qubit 142 adicionado à memória do Host 7.\n",
      "2024-06-16 21:35:15,399: Qubit 142 criado com fidelidade inicial 0.6403493571851483 e adicionado à memória do Host 7.\n",
      "2024-06-16 21:35:15,399: Qubit 143 adicionado à memória do Host 7.\n",
      "2024-06-16 21:35:15,399: Qubit 143 criado com fidelidade inicial 0.0014971639681580218 e adicionado à memória do Host 7.\n",
      "2024-06-16 21:35:15,399: Qubit 144 adicionado à memória do Host 7.\n",
      "2024-06-16 21:35:15,399: Qubit 144 criado com fidelidade inicial 0.3309101106517168 e adicionado à memória do Host 7.\n",
      "2024-06-16 21:35:15,407: Qubit 145 adicionado à memória do Host 7.\n",
      "2024-06-16 21:35:15,407: Qubit 145 criado com fidelidade inicial 0.7637868079840803 e adicionado à memória do Host 7.\n",
      "2024-06-16 21:35:15,407: Qubit 146 adicionado à memória do Host 7.\n",
      "2024-06-16 21:35:15,407: Qubit 146 criado com fidelidade inicial 0.8774097665539116 e adicionado à memória do Host 7.\n",
      "2024-06-16 21:35:15,408: Qubit 147 adicionado à memória do Host 7.\n",
      "2024-06-16 21:35:15,409: Qubit 147 criado com fidelidade inicial 0.4297431780369658 e adicionado à memória do Host 7.\n",
      "2024-06-16 21:35:15,414: Qubit 148 adicionado à memória do Host 7.\n",
      "2024-06-16 21:35:15,414: Qubit 148 criado com fidelidade inicial 0.185414731656529 e adicionado à memória do Host 7.\n",
      "2024-06-16 21:35:15,419: Qubit 149 adicionado à memória do Host 7.\n",
      "2024-06-16 21:35:15,419: Qubit 149 criado com fidelidade inicial 0.23939111766066645 e adicionado à memória do Host 7.\n",
      "2024-06-16 21:35:15,419: Qubit 150 adicionado à memória do Host 7.\n",
      "2024-06-16 21:35:15,419: Qubit 150 criado com fidelidade inicial 0.6300089800898984 e adicionado à memória do Host 7.\n",
      "2024-06-16 21:35:15,423: Qubit 151 adicionado à memória do Host 7.\n",
      "2024-06-16 21:35:15,423: Qubit 151 criado com fidelidade inicial 0.8735050041792066 e adicionado à memória do Host 7.\n",
      "2024-06-16 21:35:15,424: Qubit 152 adicionado à memória do Host 7.\n",
      "2024-06-16 21:35:15,425: Qubit 152 criado com fidelidade inicial 0.9608050957017299 e adicionado à memória do Host 7.\n",
      "2024-06-16 21:35:15,425: Qubit 153 adicionado à memória do Host 7.\n",
      "2024-06-16 21:35:15,425: Qubit 153 criado com fidelidade inicial 0.6615478314945257 e adicionado à memória do Host 7.\n",
      "2024-06-16 21:35:15,425: Qubit 154 adicionado à memória do Host 7.\n",
      "2024-06-16 21:35:15,425: Qubit 154 criado com fidelidade inicial 0.48962275496441643 e adicionado à memória do Host 7.\n",
      "2024-06-16 21:35:15,425: Qubit 155 adicionado à memória do Host 7.\n",
      "2024-06-16 21:35:15,425: Qubit 155 criado com fidelidade inicial 0.976076188993036 e adicionado à memória do Host 7.\n",
      "2024-06-16 21:35:15,429: Qubit 156 adicionado à memória do Host 7.\n",
      "2024-06-16 21:35:15,429: Qubit 156 criado com fidelidade inicial 0.8728806822253605 e adicionado à memória do Host 7.\n",
      "2024-06-16 21:35:15,429: Qubit 157 adicionado à memória do Host 7.\n",
      "2024-06-16 21:35:15,429: Qubit 157 criado com fidelidade inicial 0.7027716444702322 e adicionado à memória do Host 7.\n",
      "2024-06-16 21:35:15,429: Qubit 158 adicionado à memória do Host 7.\n",
      "2024-06-16 21:35:15,429: Qubit 158 criado com fidelidade inicial 0.7472355258438647 e adicionado à memória do Host 7.\n",
      "2024-06-16 21:35:15,429: Qubit 159 adicionado à memória do Host 7.\n",
      "2024-06-16 21:35:15,429: Qubit 159 criado com fidelidade inicial 0.5855952878420739 e adicionado à memória do Host 7.\n",
      "2024-06-16 21:35:15,429: Qubit 160 adicionado à memória do Host 8.\n",
      "2024-06-16 21:35:15,429: Qubit 160 criado com fidelidade inicial 0.8761404640495607 e adicionado à memória do Host 8.\n",
      "2024-06-16 21:35:15,429: Qubit 161 adicionado à memória do Host 8.\n",
      "2024-06-16 21:35:15,429: Qubit 161 criado com fidelidade inicial 0.46753623631290986 e adicionado à memória do Host 8.\n",
      "2024-06-16 21:35:15,429: Qubit 162 adicionado à memória do Host 8.\n",
      "2024-06-16 21:35:15,429: Qubit 162 criado com fidelidade inicial 0.11094767101389358 e adicionado à memória do Host 8.\n",
      "2024-06-16 21:35:15,429: Qubit 163 adicionado à memória do Host 8.\n",
      "2024-06-16 21:35:15,429: Qubit 163 criado com fidelidade inicial 0.288229692147983 e adicionado à memória do Host 8.\n",
      "2024-06-16 21:35:15,429: Qubit 164 adicionado à memória do Host 8.\n",
      "2024-06-16 21:35:15,429: Qubit 164 criado com fidelidade inicial 0.7192771330846025 e adicionado à memória do Host 8.\n",
      "2024-06-16 21:35:15,429: Qubit 165 adicionado à memória do Host 8.\n",
      "2024-06-16 21:35:15,429: Qubit 165 criado com fidelidade inicial 0.20640230550309013 e adicionado à memória do Host 8.\n",
      "2024-06-16 21:35:15,439: Qubit 166 adicionado à memória do Host 8.\n",
      "2024-06-16 21:35:15,439: Qubit 166 criado com fidelidade inicial 0.01111889451550141 e adicionado à memória do Host 8.\n",
      "2024-06-16 21:35:15,440: Qubit 167 adicionado à memória do Host 8.\n",
      "2024-06-16 21:35:15,441: Qubit 167 criado com fidelidade inicial 0.8165098175717164 e adicionado à memória do Host 8.\n",
      "2024-06-16 21:35:15,441: Qubit 168 adicionado à memória do Host 8.\n",
      "2024-06-16 21:35:15,441: Qubit 168 criado com fidelidade inicial 0.49800024494891226 e adicionado à memória do Host 8.\n",
      "2024-06-16 21:35:15,441: Qubit 169 adicionado à memória do Host 8.\n",
      "2024-06-16 21:35:15,441: Qubit 169 criado com fidelidade inicial 0.12131915299818541 e adicionado à memória do Host 8.\n",
      "2024-06-16 21:35:15,441: Qubit 170 adicionado à memória do Host 8.\n",
      "2024-06-16 21:35:15,441: Qubit 170 criado com fidelidade inicial 0.9932927505620758 e adicionado à memória do Host 8.\n",
      "2024-06-16 21:35:15,441: Qubit 171 adicionado à memória do Host 8.\n",
      "2024-06-16 21:35:15,441: Qubit 171 criado com fidelidade inicial 0.7962128699575338 e adicionado à memória do Host 8.\n",
      "2024-06-16 21:35:15,441: Qubit 172 adicionado à memória do Host 8.\n",
      "2024-06-16 21:35:15,441: Qubit 172 criado com fidelidade inicial 0.9400730061500144 e adicionado à memória do Host 8.\n",
      "2024-06-16 21:35:15,441: Qubit 173 adicionado à memória do Host 8.\n",
      "2024-06-16 21:35:15,441: Qubit 173 criado com fidelidade inicial 0.8465151300905853 e adicionado à memória do Host 8.\n",
      "2024-06-16 21:35:15,441: Qubit 174 adicionado à memória do Host 8.\n",
      "2024-06-16 21:35:15,441: Qubit 174 criado com fidelidade inicial 0.8686388772612136 e adicionado à memória do Host 8.\n",
      "2024-06-16 21:35:15,441: Qubit 175 adicionado à memória do Host 8.\n",
      "2024-06-16 21:35:15,441: Qubit 175 criado com fidelidade inicial 0.2945618374234513 e adicionado à memória do Host 8.\n",
      "2024-06-16 21:35:15,441: Qubit 176 adicionado à memória do Host 8.\n",
      "2024-06-16 21:35:15,441: Qubit 176 criado com fidelidade inicial 0.9579729065815512 e adicionado à memória do Host 8.\n",
      "2024-06-16 21:35:15,441: Qubit 177 adicionado à memória do Host 8.\n",
      "2024-06-16 21:35:15,441: Qubit 177 criado com fidelidade inicial 0.7227135574629195 e adicionado à memória do Host 8.\n",
      "2024-06-16 21:35:15,449: Qubit 178 adicionado à memória do Host 8.\n",
      "2024-06-16 21:35:15,449: Qubit 178 criado com fidelidade inicial 0.4552309009225236 e adicionado à memória do Host 8.\n",
      "2024-06-16 21:35:15,449: Qubit 179 adicionado à memória do Host 8.\n",
      "2024-06-16 21:35:15,449: Qubit 179 criado com fidelidade inicial 0.0487095451374967 e adicionado à memória do Host 8.\n"
     ]
    },
    {
     "name": "stdout",
     "output_type": "stream",
     "text": [
      "Hosts inicializados\n",
      "Canais inicializados\n"
     ]
    },
    {
     "data": {
      "image/png": "[encoded data removed]",
      "text/plain": [
       "<Figure size 640x480 with 1 Axes>"
      ]
     },
     "metadata": {},
     "output_type": "display_data"
    }
   ],
   "source": [
    "rede = Network()\n",
    "rede.set_ready_topology(\"Grade\", 3,3)\n",
    "rede.draw()"
   ]
  },
  {
   "cell_type": "code",
   "execution_count": 3,
   "metadata": {},
   "outputs": [],
   "source": [
    "alice = rede.get_host(1)\n",
    "bob = rede.get_host(2)\n",
    "qubit1 = Qubit(1)\n",
    "qubit2 = Qubit(2)\n"
   ]
  },
  {
   "cell_type": "code",
   "execution_count": 16,
   "metadata": {},
   "outputs": [
    {
     "name": "stderr",
     "output_type": "stream",
     "text": [
      "2024-06-16 21:36:07,444: A fidelidade entre o qubit Qubit 34 with state None e o qubit Qubit 54 with state None é 0.16420179175900926\n",
      "2024-06-16 21:36:07,445: O protocolo de criação de emaranhamento foi bem sucedido, mas com fidelidade baixa.\n"
     ]
    },
    {
     "data": {
      "text/plain": [
       "False"
      ]
     },
     "execution_count": 16,
     "metadata": {},
     "output_type": "execute_result"
    }
   ],
   "source": [
    "rede.physical.entanglement_creation_heralding_protocol(alice,bob)"
   ]
  },
  {
   "cell_type": "code",
   "execution_count": 5,
   "metadata": {},
   "outputs": [],
   "source": [
    "# rede.linklayer.request(0,1)"
   ]
  },
  {
   "cell_type": "code",
   "execution_count": 17,
   "metadata": {},
   "outputs": [
    {
     "name": "stderr",
     "output_type": "stream",
     "text": [
      "2024-06-16 21:36:08,464: Purificação falhou no canal (1, 2) devido a baixa fidelidade após purificação.\n"
     ]
    },
    {
     "name": "stdout",
     "output_type": "stream",
     "text": [
      "[<quantumnet.objects.epr.Epr object at 0x0000019167444E10>, <quantumnet.objects.epr.Epr object at 0x0000019166384910>]\n",
      "0.7534315638881608\n",
      "0.0267286537032524\n"
     ]
    },
    {
     "data": {
      "text/plain": [
       "False"
      ]
     },
     "execution_count": 17,
     "metadata": {},
     "output_type": "execute_result"
    }
   ],
   "source": [
    "rede.linklayer.purification(alice,bob)"
   ]
  },
  {
   "cell_type": "code",
   "execution_count": 7,
   "metadata": {},
   "outputs": [
    {
     "data": {
      "text/plain": [
       "[]"
      ]
     },
     "execution_count": 7,
     "metadata": {},
     "output_type": "execute_result"
    }
   ],
   "source": [
    "rede.linklayer.failed_requests"
   ]
  },
  {
   "cell_type": "code",
   "execution_count": 8,
   "metadata": {},
   "outputs": [
    {
     "data": {
      "text/plain": [
       "[]"
      ]
     },
     "execution_count": 8,
     "metadata": {},
     "output_type": "execute_result"
    }
   ],
   "source": [
    "rede.get_eprs_from_edge(0,1)"
   ]
  },
  {
   "cell_type": "code",
   "execution_count": 9,
   "metadata": {},
   "outputs": [
    {
     "data": {
      "text/plain": [
       "{(0, 3): [],\n",
       " (0, 1): [],\n",
       " (1, 4): [],\n",
       " (1, 2): [],\n",
       " (2, 5): [],\n",
       " (3, 6): [],\n",
       " (3, 4): [],\n",
       " (4, 7): [],\n",
       " (4, 5): [],\n",
       " (5, 8): [],\n",
       " (6, 7): [],\n",
       " (7, 8): []}"
      ]
     },
     "execution_count": 9,
     "metadata": {},
     "output_type": "execute_result"
    }
   ],
   "source": [
    "rede.get_eprs()"
   ]
  }
 ],
 "metadata": {
  "kernelspec": {
   "display_name": "Python 3",
   "language": "python",
   "name": "python3"
  },
  "language_info": {
   "codemirror_mode": {
    "name": "ipython",
    "version": 3
   },
   "file_extension": ".py",
   "mimetype": "text/x-python",
   "name": "python",
   "nbconvert_exporter": "python",
   "pygments_lexer": "ipython3",
   "version": "3.11.4"
  }
 },
 "nbformat": 4,
 "nbformat_minor": 2
}
