{
 "cells": [
  {
   "cell_type": "markdown",
   "metadata": {},
   "source": [
    "# Guia da Camada de Rede\n",
    "### A camada de rede serve para o cliente pedir uma requisição de rota entre dois pontos (Alice e Bob) e que seja atendida por uma rota escolhida e adequada."
   ]
  },
  {
   "cell_type": "markdown",
   "metadata": {},
   "source": [
    "#### IMPORTANDO AS DEPENDÊNCIAS\n",
    "##### Este documento tem como objetivo demostrar a execução da camada de rede, além de suas funcionalidades. "
   ]
  },
  {
   "cell_type": "code",
   "execution_count": 1,
   "metadata": {},
   "outputs": [],
   "source": [
    "from quantumnet.components import Network, Host\n",
    "from quantumnet.objects import Qubit, Logger\n",
    "Logger.activate(Logger)"
   ]
  },
  {
   "cell_type": "markdown",
   "metadata": {},
   "source": [
    "#### Ao importar as dependências, vamos instaciar a rede com 20 qubits em cada host e 10 pares EPRS em cada canal da topologia. "
   ]
  },
  {
   "cell_type": "code",
   "execution_count": 2,
   "metadata": {},
   "outputs": [
    {
     "name": "stderr",
     "output_type": "stream",
     "text": [
      "2024-07-11 22:36:57,232: Qubit 0 adicionado à memória do Host 0.\n",
      "2024-07-11 22:36:57,232: Qubit 0 criado com fidelidade inicial 0.7030724022225786 e adicionado à memória do Host 0.\n",
      "2024-07-11 22:36:57,233: Qubit 1 adicionado à memória do Host 0.\n",
      "2024-07-11 22:36:57,234: Qubit 1 criado com fidelidade inicial 0.5325512552048951 e adicionado à memória do Host 0.\n",
      "2024-07-11 22:36:57,235: Qubit 2 adicionado à memória do Host 0.\n",
      "2024-07-11 22:36:57,236: Qubit 2 criado com fidelidade inicial 0.0314994994724862 e adicionado à memória do Host 0.\n",
      "2024-07-11 22:36:57,237: Qubit 3 adicionado à memória do Host 0.\n",
      "2024-07-11 22:36:57,237: Qubit 3 criado com fidelidade inicial 0.9727978851383074 e adicionado à memória do Host 0.\n",
      "2024-07-11 22:36:57,238: Qubit 4 adicionado à memória do Host 0.\n",
      "2024-07-11 22:36:57,238: Qubit 4 criado com fidelidade inicial 0.3242331294701277 e adicionado à memória do Host 0.\n",
      "2024-07-11 22:36:57,240: Qubit 5 adicionado à memória do Host 0.\n",
      "2024-07-11 22:36:57,241: Qubit 5 criado com fidelidade inicial 0.5992509640427924 e adicionado à memória do Host 0.\n",
      "2024-07-11 22:36:57,242: Qubit 6 adicionado à memória do Host 0.\n",
      "2024-07-11 22:36:57,242: Qubit 6 criado com fidelidade inicial 0.13904829921619355 e adicionado à memória do Host 0.\n",
      "2024-07-11 22:36:57,243: Qubit 7 adicionado à memória do Host 0.\n",
      "2024-07-11 22:36:57,243: Qubit 7 criado com fidelidade inicial 0.9574258090094518 e adicionado à memória do Host 0.\n",
      "2024-07-11 22:36:57,244: Qubit 8 adicionado à memória do Host 0.\n",
      "2024-07-11 22:36:57,244: Qubit 8 criado com fidelidade inicial 0.5562180542486944 e adicionado à memória do Host 0.\n",
      "2024-07-11 22:36:57,245: Qubit 9 adicionado à memória do Host 0.\n",
      "2024-07-11 22:36:57,245: Qubit 9 criado com fidelidade inicial 0.41391605043467805 e adicionado à memória do Host 0.\n",
      "2024-07-11 22:36:57,247: Qubit 10 adicionado à memória do Host 1.\n",
      "2024-07-11 22:36:57,247: Qubit 10 criado com fidelidade inicial 0.23996891700871248 e adicionado à memória do Host 1.\n",
      "2024-07-11 22:36:57,248: Qubit 11 adicionado à memória do Host 1.\n",
      "2024-07-11 22:36:57,248: Qubit 11 criado com fidelidade inicial 0.4264725302666904 e adicionado à memória do Host 1.\n",
      "2024-07-11 22:36:57,249: Qubit 12 adicionado à memória do Host 1.\n",
      "2024-07-11 22:36:57,250: Qubit 12 criado com fidelidade inicial 0.9211450210547271 e adicionado à memória do Host 1.\n",
      "2024-07-11 22:36:57,250: Qubit 13 adicionado à memória do Host 1.\n",
      "2024-07-11 22:36:57,250: Qubit 13 criado com fidelidade inicial 0.31669439822663115 e adicionado à memória do Host 1.\n",
      "2024-07-11 22:36:57,251: Qubit 14 adicionado à memória do Host 1.\n",
      "2024-07-11 22:36:57,252: Qubit 14 criado com fidelidade inicial 0.9157916708021783 e adicionado à memória do Host 1.\n",
      "2024-07-11 22:36:57,253: Qubit 15 adicionado à memória do Host 1.\n",
      "2024-07-11 22:36:57,253: Qubit 15 criado com fidelidade inicial 0.23930813444723453 e adicionado à memória do Host 1.\n",
      "2024-07-11 22:36:57,254: Qubit 16 adicionado à memória do Host 1.\n",
      "2024-07-11 22:36:57,255: Qubit 16 criado com fidelidade inicial 0.20352360865925812 e adicionado à memória do Host 1.\n",
      "2024-07-11 22:36:57,255: Qubit 17 adicionado à memória do Host 1.\n",
      "2024-07-11 22:36:57,256: Qubit 17 criado com fidelidade inicial 0.3465489352966662 e adicionado à memória do Host 1.\n",
      "2024-07-11 22:36:57,257: Qubit 18 adicionado à memória do Host 1.\n",
      "2024-07-11 22:36:57,257: Qubit 18 criado com fidelidade inicial 0.16476110662713173 e adicionado à memória do Host 1.\n",
      "2024-07-11 22:36:57,258: Qubit 19 adicionado à memória do Host 1.\n",
      "2024-07-11 22:36:57,259: Qubit 19 criado com fidelidade inicial 0.7946385404518779 e adicionado à memória do Host 1.\n",
      "2024-07-11 22:36:57,260: Qubit 20 adicionado à memória do Host 2.\n",
      "2024-07-11 22:36:57,260: Qubit 20 criado com fidelidade inicial 0.22603894786643397 e adicionado à memória do Host 2.\n",
      "2024-07-11 22:36:57,261: Qubit 21 adicionado à memória do Host 2.\n",
      "2024-07-11 22:36:57,262: Qubit 21 criado com fidelidade inicial 0.4064110799925972 e adicionado à memória do Host 2.\n",
      "2024-07-11 22:36:57,262: Qubit 22 adicionado à memória do Host 2.\n",
      "2024-07-11 22:36:57,263: Qubit 22 criado com fidelidade inicial 0.8066933894013716 e adicionado à memória do Host 2.\n",
      "2024-07-11 22:36:57,264: Qubit 23 adicionado à memória do Host 2.\n",
      "2024-07-11 22:36:57,264: Qubit 23 criado com fidelidade inicial 0.006040195866417353 e adicionado à memória do Host 2.\n",
      "2024-07-11 22:36:57,265: Qubit 24 adicionado à memória do Host 2.\n",
      "2024-07-11 22:36:57,265: Qubit 24 criado com fidelidade inicial 0.5940920773894263 e adicionado à memória do Host 2.\n",
      "2024-07-11 22:36:57,266: Qubit 25 adicionado à memória do Host 2.\n",
      "2024-07-11 22:36:57,266: Qubit 25 criado com fidelidade inicial 0.21185526715671132 e adicionado à memória do Host 2.\n",
      "2024-07-11 22:36:57,267: Qubit 26 adicionado à memória do Host 2.\n",
      "2024-07-11 22:36:57,267: Qubit 26 criado com fidelidade inicial 0.6241466043750207 e adicionado à memória do Host 2.\n",
      "2024-07-11 22:36:57,268: Qubit 27 adicionado à memória do Host 2.\n",
      "2024-07-11 22:36:57,268: Qubit 27 criado com fidelidade inicial 0.7330709996573976 e adicionado à memória do Host 2.\n",
      "2024-07-11 22:36:57,269: Qubit 28 adicionado à memória do Host 2.\n",
      "2024-07-11 22:36:57,270: Qubit 28 criado com fidelidade inicial 0.9355363711031865 e adicionado à memória do Host 2.\n",
      "2024-07-11 22:36:57,270: Qubit 29 adicionado à memória do Host 2.\n",
      "2024-07-11 22:36:57,270: Qubit 29 criado com fidelidade inicial 0.02868419899222019 e adicionado à memória do Host 2.\n",
      "2024-07-11 22:36:57,271: Qubit 30 adicionado à memória do Host 3.\n",
      "2024-07-11 22:36:57,271: Qubit 30 criado com fidelidade inicial 0.608338914495061 e adicionado à memória do Host 3.\n",
      "2024-07-11 22:36:57,272: Qubit 31 adicionado à memória do Host 3.\n",
      "2024-07-11 22:36:57,272: Qubit 31 criado com fidelidade inicial 0.7062163213737455 e adicionado à memória do Host 3.\n",
      "2024-07-11 22:36:57,273: Qubit 32 adicionado à memória do Host 3.\n",
      "2024-07-11 22:36:57,284: Qubit 32 criado com fidelidade inicial 0.6927925649927895 e adicionado à memória do Host 3.\n",
      "2024-07-11 22:36:57,290: Qubit 33 adicionado à memória do Host 3.\n",
      "2024-07-11 22:36:57,291: Qubit 33 criado com fidelidade inicial 0.6610295353237783 e adicionado à memória do Host 3.\n",
      "2024-07-11 22:36:57,292: Qubit 34 adicionado à memória do Host 3.\n",
      "2024-07-11 22:36:57,293: Qubit 34 criado com fidelidade inicial 0.5117198086109838 e adicionado à memória do Host 3.\n",
      "2024-07-11 22:36:57,293: Qubit 35 adicionado à memória do Host 3.\n",
      "2024-07-11 22:36:57,294: Qubit 35 criado com fidelidade inicial 0.7870557977686398 e adicionado à memória do Host 3.\n",
      "2024-07-11 22:36:57,298: Qubit 36 adicionado à memória do Host 3.\n",
      "2024-07-11 22:36:57,299: Qubit 36 criado com fidelidade inicial 0.8047597788752735 e adicionado à memória do Host 3.\n",
      "2024-07-11 22:36:57,299: Qubit 37 adicionado à memória do Host 3.\n",
      "2024-07-11 22:36:57,300: Qubit 37 criado com fidelidade inicial 0.788770948577102 e adicionado à memória do Host 3.\n",
      "2024-07-11 22:36:57,301: Qubit 38 adicionado à memória do Host 3.\n",
      "2024-07-11 22:36:57,302: Qubit 38 criado com fidelidade inicial 0.9175879871167435 e adicionado à memória do Host 3.\n",
      "2024-07-11 22:36:57,303: Qubit 39 adicionado à memória do Host 3.\n",
      "2024-07-11 22:36:57,304: Qubit 39 criado com fidelidade inicial 0.5027964917743752 e adicionado à memória do Host 3.\n",
      "2024-07-11 22:36:57,304: Qubit 40 adicionado à memória do Host 4.\n",
      "2024-07-11 22:36:57,305: Qubit 40 criado com fidelidade inicial 0.47855393050186856 e adicionado à memória do Host 4.\n",
      "2024-07-11 22:36:57,306: Qubit 41 adicionado à memória do Host 4.\n",
      "2024-07-11 22:36:57,307: Qubit 41 criado com fidelidade inicial 0.08969375672579127 e adicionado à memória do Host 4.\n",
      "2024-07-11 22:36:57,308: Qubit 42 adicionado à memória do Host 4.\n",
      "2024-07-11 22:36:57,309: Qubit 42 criado com fidelidade inicial 0.16596618122833395 e adicionado à memória do Host 4.\n",
      "2024-07-11 22:36:57,311: Qubit 43 adicionado à memória do Host 4.\n",
      "2024-07-11 22:36:57,312: Qubit 43 criado com fidelidade inicial 0.4583997645613638 e adicionado à memória do Host 4.\n",
      "2024-07-11 22:36:57,313: Qubit 44 adicionado à memória do Host 4.\n",
      "2024-07-11 22:36:57,314: Qubit 44 criado com fidelidade inicial 0.17447249395641362 e adicionado à memória do Host 4.\n",
      "2024-07-11 22:36:57,315: Qubit 45 adicionado à memória do Host 4.\n",
      "2024-07-11 22:36:57,315: Qubit 45 criado com fidelidade inicial 0.42333274118144437 e adicionado à memória do Host 4.\n",
      "2024-07-11 22:36:57,316: Qubit 46 adicionado à memória do Host 4.\n",
      "2024-07-11 22:36:57,317: Qubit 46 criado com fidelidade inicial 0.5451319470649553 e adicionado à memória do Host 4.\n",
      "2024-07-11 22:36:57,317: Qubit 47 adicionado à memória do Host 4.\n",
      "2024-07-11 22:36:57,318: Qubit 47 criado com fidelidade inicial 0.1868336146561712 e adicionado à memória do Host 4.\n",
      "2024-07-11 22:36:57,318: Qubit 48 adicionado à memória do Host 4.\n",
      "2024-07-11 22:36:57,319: Qubit 48 criado com fidelidade inicial 0.31109209403399896 e adicionado à memória do Host 4.\n",
      "2024-07-11 22:36:57,319: Qubit 49 adicionado à memória do Host 4.\n",
      "2024-07-11 22:36:57,320: Qubit 49 criado com fidelidade inicial 0.03544036239295212 e adicionado à memória do Host 4.\n",
      "2024-07-11 22:36:57,320: Qubit 50 adicionado à memória do Host 5.\n",
      "2024-07-11 22:36:57,321: Qubit 50 criado com fidelidade inicial 0.5923200820371127 e adicionado à memória do Host 5.\n",
      "2024-07-11 22:36:57,321: Qubit 51 adicionado à memória do Host 5.\n",
      "2024-07-11 22:36:57,322: Qubit 51 criado com fidelidade inicial 0.7906719153624112 e adicionado à memória do Host 5.\n",
      "2024-07-11 22:36:57,323: Qubit 52 adicionado à memória do Host 5.\n",
      "2024-07-11 22:36:57,323: Qubit 52 criado com fidelidade inicial 0.5350138466960965 e adicionado à memória do Host 5.\n",
      "2024-07-11 22:36:57,323: Qubit 53 adicionado à memória do Host 5.\n",
      "2024-07-11 22:36:57,324: Qubit 53 criado com fidelidade inicial 0.4634137744693264 e adicionado à memória do Host 5.\n",
      "2024-07-11 22:36:57,325: Qubit 54 adicionado à memória do Host 5.\n",
      "2024-07-11 22:36:57,325: Qubit 54 criado com fidelidade inicial 0.8977078168665293 e adicionado à memória do Host 5.\n",
      "2024-07-11 22:36:57,326: Qubit 55 adicionado à memória do Host 5.\n",
      "2024-07-11 22:36:57,327: Qubit 55 criado com fidelidade inicial 0.022356685868422543 e adicionado à memória do Host 5.\n",
      "2024-07-11 22:36:57,327: Qubit 56 adicionado à memória do Host 5.\n",
      "2024-07-11 22:36:57,337: Qubit 56 criado com fidelidade inicial 0.8206051541749655 e adicionado à memória do Host 5.\n",
      "2024-07-11 22:36:57,338: Qubit 57 adicionado à memória do Host 5.\n",
      "2024-07-11 22:36:57,341: Qubit 57 criado com fidelidade inicial 0.8508156459448643 e adicionado à memória do Host 5.\n",
      "2024-07-11 22:36:57,344: Qubit 58 adicionado à memória do Host 5.\n",
      "2024-07-11 22:36:57,345: Qubit 58 criado com fidelidade inicial 0.8371226078472437 e adicionado à memória do Host 5.\n",
      "2024-07-11 22:36:57,346: Qubit 59 adicionado à memória do Host 5.\n",
      "2024-07-11 22:36:57,346: Qubit 59 criado com fidelidade inicial 0.07071101968387838 e adicionado à memória do Host 5.\n",
      "2024-07-11 22:36:57,346: Qubit 60 adicionado à memória do Host 6.\n",
      "2024-07-11 22:36:57,346: Qubit 60 criado com fidelidade inicial 0.20017210819833342 e adicionado à memória do Host 6.\n",
      "2024-07-11 22:36:57,347: Qubit 61 adicionado à memória do Host 6.\n",
      "2024-07-11 22:36:57,347: Qubit 61 criado com fidelidade inicial 0.16526359443201788 e adicionado à memória do Host 6.\n",
      "2024-07-11 22:36:57,347: Qubit 62 adicionado à memória do Host 6.\n",
      "2024-07-11 22:36:57,348: Qubit 62 criado com fidelidade inicial 0.5671345006531154 e adicionado à memória do Host 6.\n",
      "2024-07-11 22:36:57,349: Qubit 63 adicionado à memória do Host 6.\n",
      "2024-07-11 22:36:57,350: Qubit 63 criado com fidelidade inicial 0.2586920674198333 e adicionado à memória do Host 6.\n",
      "2024-07-11 22:36:57,350: Qubit 64 adicionado à memória do Host 6.\n",
      "2024-07-11 22:36:57,350: Qubit 64 criado com fidelidade inicial 0.3889562631272513 e adicionado à memória do Host 6.\n",
      "2024-07-11 22:36:57,351: Qubit 65 adicionado à memória do Host 6.\n",
      "2024-07-11 22:36:57,352: Qubit 65 criado com fidelidade inicial 0.17360249293457175 e adicionado à memória do Host 6.\n",
      "2024-07-11 22:36:57,352: Qubit 66 adicionado à memória do Host 6.\n",
      "2024-07-11 22:36:57,352: Qubit 66 criado com fidelidade inicial 0.7533990201048286 e adicionado à memória do Host 6.\n",
      "2024-07-11 22:36:57,353: Qubit 67 adicionado à memória do Host 6.\n",
      "2024-07-11 22:36:57,353: Qubit 67 criado com fidelidade inicial 0.5815885359539871 e adicionado à memória do Host 6.\n",
      "2024-07-11 22:36:57,353: Qubit 68 adicionado à memória do Host 6.\n",
      "2024-07-11 22:36:57,354: Qubit 68 criado com fidelidade inicial 0.4172273926734328 e adicionado à memória do Host 6.\n",
      "2024-07-11 22:36:57,355: Qubit 69 adicionado à memória do Host 6.\n",
      "2024-07-11 22:36:57,355: Qubit 69 criado com fidelidade inicial 0.8932663971321121 e adicionado à memória do Host 6.\n",
      "2024-07-11 22:36:57,356: Qubit 70 adicionado à memória do Host 7.\n",
      "2024-07-11 22:36:57,357: Qubit 70 criado com fidelidade inicial 0.6758276085891953 e adicionado à memória do Host 7.\n",
      "2024-07-11 22:36:57,357: Qubit 71 adicionado à memória do Host 7.\n",
      "2024-07-11 22:36:57,357: Qubit 71 criado com fidelidade inicial 0.2060863261861966 e adicionado à memória do Host 7.\n",
      "2024-07-11 22:36:57,358: Qubit 72 adicionado à memória do Host 7.\n",
      "2024-07-11 22:36:57,359: Qubit 72 criado com fidelidade inicial 0.3745319111289439 e adicionado à memória do Host 7.\n",
      "2024-07-11 22:36:57,359: Qubit 73 adicionado à memória do Host 7.\n",
      "2024-07-11 22:36:57,360: Qubit 73 criado com fidelidade inicial 0.12467727170917664 e adicionado à memória do Host 7.\n",
      "2024-07-11 22:36:57,360: Qubit 74 adicionado à memória do Host 7.\n",
      "2024-07-11 22:36:57,360: Qubit 74 criado com fidelidade inicial 0.9693688226951844 e adicionado à memória do Host 7.\n",
      "2024-07-11 22:36:57,363: Qubit 75 adicionado à memória do Host 7.\n",
      "2024-07-11 22:36:57,363: Qubit 75 criado com fidelidade inicial 0.271178769885292 e adicionado à memória do Host 7.\n",
      "2024-07-11 22:36:57,363: Qubit 76 adicionado à memória do Host 7.\n",
      "2024-07-11 22:36:57,363: Qubit 76 criado com fidelidade inicial 0.6318789293395042 e adicionado à memória do Host 7.\n",
      "2024-07-11 22:36:57,363: Qubit 77 adicionado à memória do Host 7.\n",
      "2024-07-11 22:36:57,364: Qubit 77 criado com fidelidade inicial 0.32721441797536843 e adicionado à memória do Host 7.\n",
      "2024-07-11 22:36:57,364: Qubit 78 adicionado à memória do Host 7.\n",
      "2024-07-11 22:36:57,364: Qubit 78 criado com fidelidade inicial 0.20959570600939725 e adicionado à memória do Host 7.\n",
      "2024-07-11 22:36:57,365: Qubit 79 adicionado à memória do Host 7.\n",
      "2024-07-11 22:36:57,365: Qubit 79 criado com fidelidade inicial 0.3411559846352993 e adicionado à memória do Host 7.\n",
      "2024-07-11 22:36:57,365: Qubit 80 adicionado à memória do Host 8.\n",
      "2024-07-11 22:36:57,366: Qubit 80 criado com fidelidade inicial 0.3538571057261185 e adicionado à memória do Host 8.\n",
      "2024-07-11 22:36:57,367: Qubit 81 adicionado à memória do Host 8.\n",
      "2024-07-11 22:36:57,367: Qubit 81 criado com fidelidade inicial 0.8523863870189715 e adicionado à memória do Host 8.\n",
      "2024-07-11 22:36:57,368: Qubit 82 adicionado à memória do Host 8.\n",
      "2024-07-11 22:36:57,368: Qubit 82 criado com fidelidade inicial 0.18567899059125836 e adicionado à memória do Host 8.\n",
      "2024-07-11 22:36:57,369: Qubit 83 adicionado à memória do Host 8.\n",
      "2024-07-11 22:36:57,369: Qubit 83 criado com fidelidade inicial 0.8187818235216215 e adicionado à memória do Host 8.\n",
      "2024-07-11 22:36:57,370: Qubit 84 adicionado à memória do Host 8.\n",
      "2024-07-11 22:36:57,371: Qubit 84 criado com fidelidade inicial 0.6741394703705255 e adicionado à memória do Host 8.\n",
      "2024-07-11 22:36:57,371: Qubit 85 adicionado à memória do Host 8.\n",
      "2024-07-11 22:36:57,372: Qubit 85 criado com fidelidade inicial 0.18246819911888312 e adicionado à memória do Host 8.\n",
      "2024-07-11 22:36:57,374: Qubit 86 adicionado à memória do Host 8.\n",
      "2024-07-11 22:36:57,375: Qubit 86 criado com fidelidade inicial 0.8024037636175295 e adicionado à memória do Host 8.\n",
      "2024-07-11 22:36:57,376: Qubit 87 adicionado à memória do Host 8.\n",
      "2024-07-11 22:36:57,376: Qubit 87 criado com fidelidade inicial 0.8850085137140802 e adicionado à memória do Host 8.\n",
      "2024-07-11 22:36:57,377: Qubit 88 adicionado à memória do Host 8.\n",
      "2024-07-11 22:36:57,378: Qubit 88 criado com fidelidade inicial 0.6694336686261149 e adicionado à memória do Host 8.\n",
      "2024-07-11 22:36:57,378: Qubit 89 adicionado à memória do Host 8.\n",
      "2024-07-11 22:36:57,379: Qubit 89 criado com fidelidade inicial 0.915363062405242 e adicionado à memória do Host 8.\n",
      "2024-07-11 22:36:57,379: Par EPR <quantumnet.objects.epr.Epr object at 0x000001DE73F0A6D0> adicionado ao canal.\n",
      "2024-07-11 22:36:57,380: Par EPR <quantumnet.objects.epr.Epr object at 0x000001DE73F0A710> adicionado ao canal.\n",
      "2024-07-11 22:36:57,380: Par EPR <quantumnet.objects.epr.Epr object at 0x000001DE73F02E10> adicionado ao canal.\n",
      "2024-07-11 22:36:57,380: Par EPR <quantumnet.objects.epr.Epr object at 0x000001DE73F02FD0> adicionado ao canal.\n",
      "2024-07-11 22:36:57,381: Par EPR <quantumnet.objects.epr.Epr object at 0x000001DE73F00350> adicionado ao canal.\n",
      "2024-07-11 22:36:57,381: Par EPR <quantumnet.objects.epr.Epr object at 0x000001DE73F0A810> adicionado ao canal.\n",
      "2024-07-11 22:36:57,381: Par EPR <quantumnet.objects.epr.Epr object at 0x000001DE73F03510> adicionado ao canal.\n",
      "2024-07-11 22:36:57,382: Par EPR <quantumnet.objects.epr.Epr object at 0x000001DE73F0A890> adicionado ao canal.\n",
      "2024-07-11 22:36:57,382: Par EPR <quantumnet.objects.epr.Epr object at 0x000001DE73F0AA10> adicionado ao canal.\n",
      "2024-07-11 22:36:57,382: Par EPR <quantumnet.objects.epr.Epr object at 0x000001DE73F03A90> adicionado ao canal.\n",
      "2024-07-11 22:36:57,383: Par EPR <quantumnet.objects.epr.Epr object at 0x000001DE73F0A750> adicionado ao canal.\n",
      "2024-07-11 22:36:57,383: Par EPR <quantumnet.objects.epr.Epr object at 0x000001DE73F0A7D0> adicionado ao canal.\n",
      "2024-07-11 22:36:57,383: Par EPR <quantumnet.objects.epr.Epr object at 0x000001DE73F0B350> adicionado ao canal.\n",
      "2024-07-11 22:36:57,384: Par EPR <quantumnet.objects.epr.Epr object at 0x000001DE73F0B1D0> adicionado ao canal.\n",
      "2024-07-11 22:36:57,384: Par EPR <quantumnet.objects.epr.Epr object at 0x000001DE73F048D0> adicionado ao canal.\n",
      "2024-07-11 22:36:57,386: Par EPR <quantumnet.objects.epr.Epr object at 0x000001DE73F0BB50> adicionado ao canal.\n",
      "2024-07-11 22:36:57,387: Par EPR <quantumnet.objects.epr.Epr object at 0x000001DE73F0BF90> adicionado ao canal.\n",
      "2024-07-11 22:36:57,387: Par EPR <quantumnet.objects.epr.Epr object at 0x000001DE73F0BCD0> adicionado ao canal.\n",
      "2024-07-11 22:36:57,388: Par EPR <quantumnet.objects.epr.Epr object at 0x000001DE73F0BF50> adicionado ao canal.\n",
      "2024-07-11 22:36:57,388: Par EPR <quantumnet.objects.epr.Epr object at 0x000001DE73F0BB10> adicionado ao canal.\n",
      "2024-07-11 22:36:57,389: Par EPR <quantumnet.objects.epr.Epr object at 0x000001DE73F011D0> adicionado ao canal.\n",
      "2024-07-11 22:36:57,390: Par EPR <quantumnet.objects.epr.Epr object at 0x000001DE73F0AC90> adicionado ao canal.\n",
      "2024-07-11 22:36:57,390: Par EPR <quantumnet.objects.epr.Epr object at 0x000001DE73F09150> adicionado ao canal.\n",
      "2024-07-11 22:36:57,391: Par EPR <quantumnet.objects.epr.Epr object at 0x000001DE73F09190> adicionado ao canal.\n",
      "2024-07-11 22:36:57,392: Par EPR <quantumnet.objects.epr.Epr object at 0x000001DE73F01750> adicionado ao canal.\n",
      "2024-07-11 22:36:57,392: Par EPR <quantumnet.objects.epr.Epr object at 0x000001DE73F09B10> adicionado ao canal.\n",
      "2024-07-11 22:36:57,393: Par EPR <quantumnet.objects.epr.Epr object at 0x000001DE73EE8590> adicionado ao canal.\n",
      "2024-07-11 22:36:57,393: Par EPR <quantumnet.objects.epr.Epr object at 0x000001DE73F01510> adicionado ao canal.\n",
      "2024-07-11 22:36:57,393: Par EPR <quantumnet.objects.epr.Epr object at 0x000001DE73F01C90> adicionado ao canal.\n",
      "2024-07-11 22:36:57,394: Par EPR <quantumnet.objects.epr.Epr object at 0x000001DE73F02790> adicionado ao canal.\n",
      "2024-07-11 22:36:57,394: Par EPR <quantumnet.objects.epr.Epr object at 0x000001DE73F02F90> adicionado ao canal.\n",
      "2024-07-11 22:36:57,395: Par EPR <quantumnet.objects.epr.Epr object at 0x000001DE73F09290> adicionado ao canal.\n",
      "2024-07-11 22:36:57,395: Par EPR <quantumnet.objects.epr.Epr object at 0x000001DE73F0AE90> adicionado ao canal.\n",
      "2024-07-11 22:36:57,395: Par EPR <quantumnet.objects.epr.Epr object at 0x000001DE73F02D90> adicionado ao canal.\n",
      "2024-07-11 22:36:57,395: Par EPR <quantumnet.objects.epr.Epr object at 0x000001DE73F02550> adicionado ao canal.\n",
      "2024-07-11 22:36:57,396: Par EPR <quantumnet.objects.epr.Epr object at 0x000001DE73F09A50> adicionado ao canal.\n",
      "2024-07-11 22:36:57,396: Par EPR <quantumnet.objects.epr.Epr object at 0x000001DE73F0ADD0> adicionado ao canal.\n",
      "2024-07-11 22:36:57,398: Par EPR <quantumnet.objects.epr.Epr object at 0x000001DE73F01FD0> adicionado ao canal.\n",
      "2024-07-11 22:36:57,398: Par EPR <quantumnet.objects.epr.Epr object at 0x000001DE73F02A90> adicionado ao canal.\n",
      "2024-07-11 22:36:57,399: Par EPR <quantumnet.objects.epr.Epr object at 0x000001DE733F27D0> adicionado ao canal.\n",
      "2024-07-11 22:36:57,400: Par EPR <quantumnet.objects.epr.Epr object at 0x000001DE73F02350> adicionado ao canal.\n",
      "2024-07-11 22:36:57,400: Par EPR <quantumnet.objects.epr.Epr object at 0x000001DE73F08050> adicionado ao canal.\n",
      "2024-07-11 22:36:57,400: Par EPR <quantumnet.objects.epr.Epr object at 0x000001DE73F03710> adicionado ao canal.\n",
      "2024-07-11 22:36:57,400: Par EPR <quantumnet.objects.epr.Epr object at 0x000001DE73EEB950> adicionado ao canal.\n",
      "2024-07-11 22:36:57,400: Par EPR <quantumnet.objects.epr.Epr object at 0x000001DE73F03AD0> adicionado ao canal.\n",
      "2024-07-11 22:36:57,401: Par EPR <quantumnet.objects.epr.Epr object at 0x000001DE73F00FD0> adicionado ao canal.\n",
      "2024-07-11 22:36:57,401: Par EPR <quantumnet.objects.epr.Epr object at 0x000001DE73F08DD0> adicionado ao canal.\n",
      "2024-07-11 22:36:57,403: Par EPR <quantumnet.objects.epr.Epr object at 0x000001DE73F03FD0> adicionado ao canal.\n",
      "2024-07-11 22:36:57,403: Par EPR <quantumnet.objects.epr.Epr object at 0x000001DE73EFF290> adicionado ao canal.\n",
      "2024-07-11 22:36:57,404: Par EPR <quantumnet.objects.epr.Epr object at 0x000001DE73F08890> adicionado ao canal.\n",
      "2024-07-11 22:36:57,405: Par EPR <quantumnet.objects.epr.Epr object at 0x000001DE73F1AF50> adicionado ao canal.\n",
      "2024-07-11 22:36:57,406: Par EPR <quantumnet.objects.epr.Epr object at 0x000001DE73F1AD50> adicionado ao canal.\n",
      "2024-07-11 22:36:57,406: Par EPR <quantumnet.objects.epr.Epr object at 0x000001DE73F19C50> adicionado ao canal.\n",
      "2024-07-11 22:36:57,407: Par EPR <quantumnet.objects.epr.Epr object at 0x000001DE73EF7B50> adicionado ao canal.\n",
      "2024-07-11 22:36:57,407: Par EPR <quantumnet.objects.epr.Epr object at 0x000001DE73EFC950> adicionado ao canal.\n",
      "2024-07-11 22:36:57,407: Par EPR <quantumnet.objects.epr.Epr object at 0x000001DE73EEF450> adicionado ao canal.\n",
      "2024-07-11 22:36:57,408: Par EPR <quantumnet.objects.epr.Epr object at 0x000001DE73F075D0> adicionado ao canal.\n",
      "2024-07-11 22:36:57,408: Par EPR <quantumnet.objects.epr.Epr object at 0x000001DE73F07890> adicionado ao canal.\n",
      "2024-07-11 22:36:57,408: Par EPR <quantumnet.objects.epr.Epr object at 0x000001DE73EF6250> adicionado ao canal.\n",
      "2024-07-11 22:36:57,409: Par EPR <quantumnet.objects.epr.Epr object at 0x000001DE73EED010> adicionado ao canal.\n",
      "2024-07-11 22:36:57,409: Par EPR <quantumnet.objects.epr.Epr object at 0x000001DE73F04F50> adicionado ao canal.\n",
      "2024-07-11 22:36:57,410: Par EPR <quantumnet.objects.epr.Epr object at 0x000001DE73F04590> adicionado ao canal.\n",
      "2024-07-11 22:36:57,410: Par EPR <quantumnet.objects.epr.Epr object at 0x000001DE73F04D10> adicionado ao canal.\n",
      "2024-07-11 22:36:57,411: Par EPR <quantumnet.objects.epr.Epr object at 0x000001DE73EFD310> adicionado ao canal.\n",
      "2024-07-11 22:36:57,411: Par EPR <quantumnet.objects.epr.Epr object at 0x000001DE73EFC810> adicionado ao canal.\n",
      "2024-07-11 22:36:57,411: Par EPR <quantumnet.objects.epr.Epr object at 0x000001DE73F05910> adicionado ao canal.\n",
      "2024-07-11 22:36:57,412: Par EPR <quantumnet.objects.epr.Epr object at 0x000001DE73EFDBD0> adicionado ao canal.\n",
      "2024-07-11 22:36:57,419: Par EPR <quantumnet.objects.epr.Epr object at 0x000001DE738BCAD0> adicionado ao canal.\n",
      "2024-07-11 22:36:57,420: Par EPR <quantumnet.objects.epr.Epr object at 0x000001DE738CDD50> adicionado ao canal.\n",
      "2024-07-11 22:36:57,421: Par EPR <quantumnet.objects.epr.Epr object at 0x000001DE73EF57D0> adicionado ao canal.\n",
      "2024-07-11 22:36:57,462: Par EPR <quantumnet.objects.epr.Epr object at 0x000001DE738AE910> adicionado ao canal.\n",
      "2024-07-11 22:36:57,467: Par EPR <quantumnet.objects.epr.Epr object at 0x000001DE738AF3D0> adicionado ao canal.\n",
      "2024-07-11 22:36:57,468: Par EPR <quantumnet.objects.epr.Epr object at 0x000001DE73EAD690> adicionado ao canal.\n",
      "2024-07-11 22:36:57,469: Par EPR <quantumnet.objects.epr.Epr object at 0x000001DE73EF4B90> adicionado ao canal.\n",
      "2024-07-11 22:36:57,470: Par EPR <quantumnet.objects.epr.Epr object at 0x000001DE73EF4790> adicionado ao canal.\n",
      "2024-07-11 22:36:57,473: Par EPR <quantumnet.objects.epr.Epr object at 0x000001DE73EF6290> adicionado ao canal.\n",
      "2024-07-11 22:36:57,474: Par EPR <quantumnet.objects.epr.Epr object at 0x000001DE73EF5650> adicionado ao canal.\n",
      "2024-07-11 22:36:57,475: Par EPR <quantumnet.objects.epr.Epr object at 0x000001DE73EF6D90> adicionado ao canal.\n",
      "2024-07-11 22:36:57,478: Par EPR <quantumnet.objects.epr.Epr object at 0x000001DE73EF7B10> adicionado ao canal.\n",
      "2024-07-11 22:36:57,479: Par EPR <quantumnet.objects.epr.Epr object at 0x000001DE73EF5F90> adicionado ao canal.\n",
      "2024-07-11 22:36:57,480: Par EPR <quantumnet.objects.epr.Epr object at 0x000001DE73EF50D0> adicionado ao canal.\n",
      "2024-07-11 22:36:57,480: Par EPR <quantumnet.objects.epr.Epr object at 0x000001DE73EF6C90> adicionado ao canal.\n",
      "2024-07-11 22:36:57,481: Par EPR <quantumnet.objects.epr.Epr object at 0x000001DE73EF48D0> adicionado ao canal.\n",
      "2024-07-11 22:36:57,485: Par EPR <quantumnet.objects.epr.Epr object at 0x000001DE738AD150> adicionado ao canal.\n",
      "2024-07-11 22:36:57,486: Par EPR <quantumnet.objects.epr.Epr object at 0x000001DE738BC950> adicionado ao canal.\n",
      "2024-07-11 22:36:57,486: Par EPR <quantumnet.objects.epr.Epr object at 0x000001DE73EF7F10> adicionado ao canal.\n",
      "2024-07-11 22:36:57,491: Par EPR <quantumnet.objects.epr.Epr object at 0x000001DE738AE110> adicionado ao canal.\n",
      "2024-07-11 22:36:57,492: Par EPR <quantumnet.objects.epr.Epr object at 0x000001DE73EF4050> adicionado ao canal.\n",
      "2024-07-11 22:36:57,495: Par EPR <quantumnet.objects.epr.Epr object at 0x000001DE73F00650> adicionado ao canal.\n",
      "2024-07-11 22:36:57,500: Par EPR <quantumnet.objects.epr.Epr object at 0x000001DE733E8250> adicionado ao canal.\n",
      "2024-07-11 22:36:57,503: Par EPR <quantumnet.objects.epr.Epr object at 0x000001DE73EF7A90> adicionado ao canal.\n",
      "2024-07-11 22:36:57,504: Par EPR <quantumnet.objects.epr.Epr object at 0x000001DE73EF6B90> adicionado ao canal.\n",
      "2024-07-11 22:36:57,504: Par EPR <quantumnet.objects.epr.Epr object at 0x000001DE73EF4A50> adicionado ao canal.\n",
      "2024-07-11 22:36:57,505: Par EPR <quantumnet.objects.epr.Epr object at 0x000001DE73F0BA10> adicionado ao canal.\n",
      "2024-07-11 22:36:57,505: Par EPR <quantumnet.objects.epr.Epr object at 0x000001DE73F1B7D0> adicionado ao canal.\n",
      "2024-07-11 22:36:57,506: Par EPR <quantumnet.objects.epr.Epr object at 0x000001DE73EF4490> adicionado ao canal.\n",
      "2024-07-11 22:36:57,508: Par EPR <quantumnet.objects.epr.Epr object at 0x000001DE73EF7010> adicionado ao canal.\n",
      "2024-07-11 22:36:57,509: Par EPR <quantumnet.objects.epr.Epr object at 0x000001DE73EEBDD0> adicionado ao canal.\n",
      "2024-07-11 22:36:57,510: Par EPR <quantumnet.objects.epr.Epr object at 0x000001DE73F08F50> adicionado ao canal.\n",
      "2024-07-11 22:36:57,511: Par EPR <quantumnet.objects.epr.Epr object at 0x000001DE73F1AF90> adicionado ao canal.\n",
      "2024-07-11 22:36:57,511: Par EPR <quantumnet.objects.epr.Epr object at 0x000001DE73EEB810> adicionado ao canal.\n",
      "2024-07-11 22:36:57,512: Par EPR <quantumnet.objects.epr.Epr object at 0x000001DE73EEBCD0> adicionado ao canal.\n",
      "2024-07-11 22:36:57,512: Par EPR <quantumnet.objects.epr.Epr object at 0x000001DE73EEB8D0> adicionado ao canal.\n",
      "2024-07-11 22:36:57,517: Par EPR <quantumnet.objects.epr.Epr object at 0x000001DE73EF7850> adicionado ao canal.\n",
      "2024-07-11 22:36:57,522: Par EPR <quantumnet.objects.epr.Epr object at 0x000001DE73F1A910> adicionado ao canal.\n",
      "2024-07-11 22:36:57,529: Par EPR <quantumnet.objects.epr.Epr object at 0x000001DE73F0B410> adicionado ao canal.\n",
      "2024-07-11 22:36:57,533: Par EPR <quantumnet.objects.epr.Epr object at 0x000001DE73F0A090> adicionado ao canal.\n",
      "2024-07-11 22:36:57,535: Par EPR <quantumnet.objects.epr.Epr object at 0x000001DE733F2F90> adicionado ao canal.\n",
      "2024-07-11 22:36:57,536: Par EPR <quantumnet.objects.epr.Epr object at 0x000001DE73EEB850> adicionado ao canal.\n",
      "2024-07-11 22:36:57,538: Par EPR <quantumnet.objects.epr.Epr object at 0x000001DE73EEB6D0> adicionado ao canal.\n",
      "2024-07-11 22:36:57,539: Par EPR <quantumnet.objects.epr.Epr object at 0x000001DE73F0B810> adicionado ao canal.\n",
      "2024-07-11 22:36:57,540: Par EPR <quantumnet.objects.epr.Epr object at 0x000001DE73F1B4D0> adicionado ao canal.\n",
      "2024-07-11 22:36:57,541: Par EPR <quantumnet.objects.epr.Epr object at 0x000001DE73F003D0> adicionado ao canal.\n",
      "2024-07-11 22:36:57,541: Par EPR <quantumnet.objects.epr.Epr object at 0x000001DE73EEFD90> adicionado ao canal.\n",
      "2024-07-11 22:36:57,542: Par EPR <quantumnet.objects.epr.Epr object at 0x000001DE73EED310> adicionado ao canal.\n",
      "2024-07-11 22:36:57,542: Par EPR <quantumnet.objects.epr.Epr object at 0x000001DE738ABA50> adicionado ao canal.\n",
      "2024-07-11 22:36:57,544: Par EPR <quantumnet.objects.epr.Epr object at 0x000001DE73EF5610> adicionado ao canal.\n",
      "2024-07-11 22:36:57,546: Par EPR <quantumnet.objects.epr.Epr object at 0x000001DE73EEF050> adicionado ao canal.\n",
      "2024-07-11 22:36:57,547: Par EPR <quantumnet.objects.epr.Epr object at 0x000001DE73EEDC50> adicionado ao canal.\n",
      "2024-07-11 22:36:57,547: Par EPR <quantumnet.objects.epr.Epr object at 0x000001DE73EED5D0> adicionado ao canal.\n"
     ]
    },
    {
     "name": "stdout",
     "output_type": "stream",
     "text": [
      "Hosts inicializados\n",
      "Canais inicializados\n",
      "Pares EPRs adicionados\n"
     ]
    },
    {
     "data": {
      "image/png": "[encoded data removed]",
      "text/plain": [
       "<Figure size 640x480 with 1 Axes>"
      ]
     },
     "metadata": {},
     "output_type": "display_data"
    }
   ],
   "source": [
    "rede = Network()\n",
    "rede.set_ready_topology(\"Grade\", 3,3)\n",
    "rede.draw()"
   ]
  },
  {
   "cell_type": "code",
   "execution_count": 3,
   "metadata": {},
   "outputs": [],
   "source": [
    "alice = rede.get_host(6)\n",
    "bob = rede.get_host(1)"
   ]
  },
  {
   "cell_type": "markdown",
   "metadata": {},
   "source": [
    "##### Nesse sentido, primeiramente precisa-se escolher a melhor rota e seus critérios são dados pela rota com menor caminho. Para verificar isso usaremos a função short_route_valid, que irá entregar uma rota válida entre Alice e Bob. "
   ]
  },
  {
   "cell_type": "code",
   "execution_count": 4,
   "metadata": {},
   "outputs": [
    {
     "name": "stderr",
     "output_type": "stream",
     "text": [
      "2024-07-11 22:36:58,267: Rota válida encontrada: [8, 5, 2, 1, 0]\n"
     ]
    },
    {
     "data": {
      "text/plain": [
       "[8, 5, 2, 1, 0]"
      ]
     },
     "execution_count": 4,
     "metadata": {},
     "output_type": "execute_result"
    }
   ],
   "source": [
    "rede.networklayer.short_route_valid(8,0)"
   ]
  },
  {
   "cell_type": "markdown",
   "metadata": {},
   "source": [
    "##### Para a rota ser válida, precisa-se verificar se cada canal da rede tem peloo menos 1 par EPR e se nó tem 2 qubits. Através dessas funções podemos verificar."
   ]
  },
  {
   "cell_type": "code",
   "execution_count": 5,
   "metadata": {},
   "outputs": [
    {
     "name": "stderr",
     "output_type": "stream",
     "text": [
      "2024-07-11 22:36:58,278: Há pelo menos 1 par EPR nesses canais\n",
      "2024-07-11 22:36:58,279: Todos os nós possuem pelo menos 2 qubits\n"
     ]
    },
    {
     "data": {
      "text/plain": [
       "True"
      ]
     },
     "execution_count": 5,
     "metadata": {},
     "output_type": "execute_result"
    }
   ],
   "source": [
    "rede.networklayer.verify_channels()\n",
    "rede.networklayer.verify_nodes()"
   ]
  },
  {
   "cell_type": "markdown",
   "metadata": {},
   "source": [
    "##### Dessa forma, vamos realizar o entanglement swapping entre Alice e Bob, o que permite criar um par de qubits emaranhados entre dois nós que não têm uma conexão direta de emaranhamento, utilizando pares intermediários."
   ]
  },
  {
   "cell_type": "code",
   "execution_count": 6,
   "metadata": {},
   "outputs": [
    {
     "name": "stderr",
     "output_type": "stream",
     "text": [
      "2024-07-11 22:36:58,291: Rota válida encontrada: [8, 5, 2, 1, 0]\n",
      "2024-07-11 22:36:58,292: Par EPR <quantumnet.objects.epr.Epr object at 0x000001DE7F307A50> adicionado ao canal (8, 2).\n",
      "2024-07-11 22:36:58,294: Par EPR <quantumnet.objects.epr.Epr object at 0x000001DE73EF7A90> removido do canal (8, 5).\n",
      "2024-07-11 22:36:58,296: Par EPR <quantumnet.objects.epr.Epr object at 0x000001DE73F02350> removido do canal (5, 2).\n",
      "2024-07-11 22:36:58,297: Par EPR <quantumnet.objects.epr.Epr object at 0x000001DE73F02350> adicionado ao canal (8, 1).\n",
      "2024-07-11 22:36:58,297: Par EPR <quantumnet.objects.epr.Epr object at 0x000001DE7F307A50> removido do canal (8, 2).\n",
      "2024-07-11 22:36:58,298: Par EPR <quantumnet.objects.epr.Epr object at 0x000001DE73F02F90> removido do canal (2, 1).\n",
      "2024-07-11 22:36:58,298: Par EPR <quantumnet.objects.epr.Epr object at 0x000001DE73F02F90> adicionado ao canal (8, 0).\n",
      "2024-07-11 22:36:58,299: Par EPR <quantumnet.objects.epr.Epr object at 0x000001DE73F02350> removido do canal (8, 1).\n",
      "2024-07-11 22:36:58,299: Par EPR <quantumnet.objects.epr.Epr object at 0x000001DE73F0A750> removido do canal (1, 0).\n",
      "2024-07-11 22:36:58,300: Entanglement Swapping concluído com sucesso entre 8 e 0\n"
     ]
    },
    {
     "data": {
      "text/plain": [
       "True"
      ]
     },
     "execution_count": 6,
     "metadata": {},
     "output_type": "execute_result"
    }
   ],
   "source": [
    "rede.networklayer.entanglement_swapping(8,0)"
   ]
  },
  {
   "cell_type": "code",
   "execution_count": 8,
   "metadata": {},
   "outputs": [
    {
     "data": {
      "text/plain": [
       "[<quantumnet.objects.epr.Epr at 0x1de73f02f90>]"
      ]
     },
     "execution_count": 8,
     "metadata": {},
     "output_type": "execute_result"
    }
   ],
   "source": [
    "rede.get_eprs_from_edge(8,0)"
   ]
  }
 ],
 "metadata": {
  "kernelspec": {
   "display_name": "Python 3",
   "language": "python",
   "name": "python3"
  },
  "language_info": {
   "codemirror_mode": {
    "name": "ipython",
    "version": 3
   },
   "file_extension": ".py",
   "mimetype": "text/x-python",
   "name": "python",
   "nbconvert_exporter": "python",
   "pygments_lexer": "ipython3",
   "version": "3.11.4"
  }
 },
 "nbformat": 4,
 "nbformat_minor": 2
}
