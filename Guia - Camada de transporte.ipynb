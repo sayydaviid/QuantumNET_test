{
 "cells": [
  {
   "cell_type": "code",
   "execution_count": 1,
   "metadata": {},
   "outputs": [],
   "source": [
    "from quantumnet.components import Network, Host\n",
    "from quantumnet.objects import Qubit, Logger\n",
    "Logger.activate(Logger)"
   ]
  },
  {
   "cell_type": "code",
   "execution_count": 2,
   "metadata": {},
   "outputs": [
    {
     "name": "stderr",
     "output_type": "stream",
     "text": [
      "2024-07-17 19:12:41,590: Qubit 0 adicionado à memória do Host 0.\n",
      "2024-07-17 19:12:41,590: Qubit 0 criado com fidelidade inicial 0.31396472898691463 e adicionado à memória do Host 0.\n",
      "2024-07-17 19:12:41,591: Qubit 1 adicionado à memória do Host 0.\n",
      "2024-07-17 19:12:41,591: Qubit 1 criado com fidelidade inicial 0.13199900911696538 e adicionado à memória do Host 0.\n",
      "2024-07-17 19:12:41,591: Qubit 2 adicionado à memória do Host 0.\n",
      "2024-07-17 19:12:41,592: Qubit 2 criado com fidelidade inicial 0.6812522333797822 e adicionado à memória do Host 0.\n",
      "2024-07-17 19:12:41,592: Qubit 3 adicionado à memória do Host 0.\n",
      "2024-07-17 19:12:41,592: Qubit 3 criado com fidelidade inicial 0.26140492343065247 e adicionado à memória do Host 0.\n",
      "2024-07-17 19:12:41,592: Qubit 4 adicionado à memória do Host 0.\n",
      "2024-07-17 19:12:41,593: Qubit 4 criado com fidelidade inicial 0.16545875170790036 e adicionado à memória do Host 0.\n",
      "2024-07-17 19:12:41,593: Qubit 5 adicionado à memória do Host 0.\n",
      "2024-07-17 19:12:41,593: Qubit 5 criado com fidelidade inicial 0.5695571360415124 e adicionado à memória do Host 0.\n",
      "2024-07-17 19:12:41,594: Qubit 6 adicionado à memória do Host 0.\n",
      "2024-07-17 19:12:41,594: Qubit 6 criado com fidelidade inicial 0.08678069713797576 e adicionado à memória do Host 0.\n",
      "2024-07-17 19:12:41,595: Qubit 7 adicionado à memória do Host 0.\n",
      "2024-07-17 19:12:41,595: Qubit 7 criado com fidelidade inicial 0.4543216821581457 e adicionado à memória do Host 0.\n",
      "2024-07-17 19:12:41,595: Qubit 8 adicionado à memória do Host 0.\n",
      "2024-07-17 19:12:41,596: Qubit 8 criado com fidelidade inicial 0.1423521214211091 e adicionado à memória do Host 0.\n",
      "2024-07-17 19:12:41,596: Qubit 9 adicionado à memória do Host 0.\n",
      "2024-07-17 19:12:41,596: Qubit 9 criado com fidelidade inicial 0.5025117695451471 e adicionado à memória do Host 0.\n",
      "2024-07-17 19:12:41,597: Qubit 10 adicionado à memória do Host 1.\n",
      "2024-07-17 19:12:41,597: Qubit 10 criado com fidelidade inicial 0.1433456424289451 e adicionado à memória do Host 1.\n",
      "2024-07-17 19:12:41,597: Qubit 11 adicionado à memória do Host 1.\n",
      "2024-07-17 19:12:41,597: Qubit 11 criado com fidelidade inicial 0.5360099210211506 e adicionado à memória do Host 1.\n",
      "2024-07-17 19:12:41,598: Qubit 12 adicionado à memória do Host 1.\n",
      "2024-07-17 19:12:41,598: Qubit 12 criado com fidelidade inicial 0.7534315979276035 e adicionado à memória do Host 1.\n",
      "2024-07-17 19:12:41,598: Qubit 13 adicionado à memória do Host 1.\n",
      "2024-07-17 19:12:41,599: Qubit 13 criado com fidelidade inicial 0.6259297686642622 e adicionado à memória do Host 1.\n",
      "2024-07-17 19:12:41,599: Qubit 14 adicionado à memória do Host 1.\n",
      "2024-07-17 19:12:41,600: Qubit 14 criado com fidelidade inicial 0.36157470657829804 e adicionado à memória do Host 1.\n",
      "2024-07-17 19:12:41,600: Qubit 15 adicionado à memória do Host 1.\n",
      "2024-07-17 19:12:41,600: Qubit 15 criado com fidelidade inicial 0.8046771078673847 e adicionado à memória do Host 1.\n",
      "2024-07-17 19:12:41,601: Qubit 16 adicionado à memória do Host 1.\n",
      "2024-07-17 19:12:41,601: Qubit 16 criado com fidelidade inicial 0.21588466014603946 e adicionado à memória do Host 1.\n",
      "2024-07-17 19:12:41,601: Qubit 17 adicionado à memória do Host 1.\n",
      "2024-07-17 19:12:41,602: Qubit 17 criado com fidelidade inicial 0.12639746088099513 e adicionado à memória do Host 1.\n",
      "2024-07-17 19:12:41,602: Qubit 18 adicionado à memória do Host 1.\n",
      "2024-07-17 19:12:41,602: Qubit 18 criado com fidelidade inicial 0.951175290837988 e adicionado à memória do Host 1.\n",
      "2024-07-17 19:12:41,602: Qubit 19 adicionado à memória do Host 1.\n",
      "2024-07-17 19:12:41,603: Qubit 19 criado com fidelidade inicial 0.4107852878817343 e adicionado à memória do Host 1.\n",
      "2024-07-17 19:12:41,603: Qubit 20 adicionado à memória do Host 2.\n",
      "2024-07-17 19:12:41,603: Qubit 20 criado com fidelidade inicial 0.7974496848010543 e adicionado à memória do Host 2.\n",
      "2024-07-17 19:12:41,604: Qubit 21 adicionado à memória do Host 2.\n",
      "2024-07-17 19:12:41,604: Qubit 21 criado com fidelidade inicial 0.8818897736203296 e adicionado à memória do Host 2.\n",
      "2024-07-17 19:12:41,604: Qubit 22 adicionado à memória do Host 2.\n",
      "2024-07-17 19:12:41,604: Qubit 22 criado com fidelidade inicial 0.5394426094124783 e adicionado à memória do Host 2.\n",
      "2024-07-17 19:12:41,605: Qubit 23 adicionado à memória do Host 2.\n",
      "2024-07-17 19:12:41,605: Qubit 23 criado com fidelidade inicial 0.22610800686200272 e adicionado à memória do Host 2.\n",
      "2024-07-17 19:12:41,605: Qubit 24 adicionado à memória do Host 2.\n",
      "2024-07-17 19:12:41,606: Qubit 24 criado com fidelidade inicial 0.28590739531651743 e adicionado à memória do Host 2.\n",
      "2024-07-17 19:12:41,606: Qubit 25 adicionado à memória do Host 2.\n",
      "2024-07-17 19:12:41,606: Qubit 25 criado com fidelidade inicial 0.31717819796803537 e adicionado à memória do Host 2.\n",
      "2024-07-17 19:12:41,606: Qubit 26 adicionado à memória do Host 2.\n",
      "2024-07-17 19:12:41,607: Qubit 26 criado com fidelidade inicial 0.642879419037086 e adicionado à memória do Host 2.\n",
      "2024-07-17 19:12:41,607: Qubit 27 adicionado à memória do Host 2.\n",
      "2024-07-17 19:12:41,607: Qubit 27 criado com fidelidade inicial 0.45699267845946 e adicionado à memória do Host 2.\n",
      "2024-07-17 19:12:41,607: Qubit 28 adicionado à memória do Host 2.\n",
      "2024-07-17 19:12:41,608: Qubit 28 criado com fidelidade inicial 0.3852648978960175 e adicionado à memória do Host 2.\n",
      "2024-07-17 19:12:41,608: Qubit 29 adicionado à memória do Host 2.\n",
      "2024-07-17 19:12:41,608: Qubit 29 criado com fidelidade inicial 0.6145266356007884 e adicionado à memória do Host 2.\n",
      "2024-07-17 19:12:41,609: Qubit 30 adicionado à memória do Host 3.\n",
      "2024-07-17 19:12:41,609: Qubit 30 criado com fidelidade inicial 0.6923385257583481 e adicionado à memória do Host 3.\n",
      "2024-07-17 19:12:41,609: Qubit 31 adicionado à memória do Host 3.\n",
      "2024-07-17 19:12:41,609: Qubit 31 criado com fidelidade inicial 0.6568263966973814 e adicionado à memória do Host 3.\n",
      "2024-07-17 19:12:41,610: Qubit 32 adicionado à memória do Host 3.\n",
      "2024-07-17 19:12:41,610: Qubit 32 criado com fidelidade inicial 0.8492753525558381 e adicionado à memória do Host 3.\n",
      "2024-07-17 19:12:41,610: Qubit 33 adicionado à memória do Host 3.\n",
      "2024-07-17 19:12:41,611: Qubit 33 criado com fidelidade inicial 0.46277541770884567 e adicionado à memória do Host 3.\n",
      "2024-07-17 19:12:41,611: Qubit 34 adicionado à memória do Host 3.\n",
      "2024-07-17 19:12:41,611: Qubit 34 criado com fidelidade inicial 0.996516181069923 e adicionado à memória do Host 3.\n",
      "2024-07-17 19:12:41,612: Qubit 35 adicionado à memória do Host 3.\n",
      "2024-07-17 19:12:41,612: Qubit 35 criado com fidelidade inicial 0.020024003337919094 e adicionado à memória do Host 3.\n",
      "2024-07-17 19:12:41,612: Qubit 36 adicionado à memória do Host 3.\n",
      "2024-07-17 19:12:41,613: Qubit 36 criado com fidelidade inicial 0.5669900628716849 e adicionado à memória do Host 3.\n",
      "2024-07-17 19:12:41,613: Qubit 37 adicionado à memória do Host 3.\n",
      "2024-07-17 19:12:41,613: Qubit 37 criado com fidelidade inicial 0.08128864307117678 e adicionado à memória do Host 3.\n",
      "2024-07-17 19:12:41,613: Qubit 38 adicionado à memória do Host 3.\n",
      "2024-07-17 19:12:41,614: Qubit 38 criado com fidelidade inicial 0.08434852882002708 e adicionado à memória do Host 3.\n",
      "2024-07-17 19:12:41,614: Qubit 39 adicionado à memória do Host 3.\n",
      "2024-07-17 19:12:41,614: Qubit 39 criado com fidelidade inicial 0.42050226718513106 e adicionado à memória do Host 3.\n",
      "2024-07-17 19:12:41,614: Qubit 40 adicionado à memória do Host 4.\n",
      "2024-07-17 19:12:41,615: Qubit 40 criado com fidelidade inicial 0.9358223059566136 e adicionado à memória do Host 4.\n",
      "2024-07-17 19:12:41,615: Qubit 41 adicionado à memória do Host 4.\n",
      "2024-07-17 19:12:41,615: Qubit 41 criado com fidelidade inicial 0.20577403872303413 e adicionado à memória do Host 4.\n",
      "2024-07-17 19:12:41,615: Qubit 42 adicionado à memória do Host 4.\n",
      "2024-07-17 19:12:41,616: Qubit 42 criado com fidelidade inicial 0.5126776647120913 e adicionado à memória do Host 4.\n",
      "2024-07-17 19:12:41,616: Qubit 43 adicionado à memória do Host 4.\n",
      "2024-07-17 19:12:41,616: Qubit 43 criado com fidelidade inicial 0.06738467941110915 e adicionado à memória do Host 4.\n",
      "2024-07-17 19:12:41,616: Qubit 44 adicionado à memória do Host 4.\n",
      "2024-07-17 19:12:41,617: Qubit 44 criado com fidelidade inicial 0.701700189151773 e adicionado à memória do Host 4.\n",
      "2024-07-17 19:12:41,617: Qubit 45 adicionado à memória do Host 4.\n",
      "2024-07-17 19:12:41,617: Qubit 45 criado com fidelidade inicial 0.2588083702166102 e adicionado à memória do Host 4.\n",
      "2024-07-17 19:12:41,618: Qubit 46 adicionado à memória do Host 4.\n",
      "2024-07-17 19:12:41,618: Qubit 46 criado com fidelidade inicial 0.34881620738458985 e adicionado à memória do Host 4.\n",
      "2024-07-17 19:12:41,618: Qubit 47 adicionado à memória do Host 4.\n",
      "2024-07-17 19:12:41,619: Qubit 47 criado com fidelidade inicial 0.7022135137669564 e adicionado à memória do Host 4.\n",
      "2024-07-17 19:12:41,619: Qubit 48 adicionado à memória do Host 4.\n",
      "2024-07-17 19:12:41,619: Qubit 48 criado com fidelidade inicial 0.020950224292703545 e adicionado à memória do Host 4.\n",
      "2024-07-17 19:12:41,620: Qubit 49 adicionado à memória do Host 4.\n",
      "2024-07-17 19:12:41,620: Qubit 49 criado com fidelidade inicial 0.5906800895182761 e adicionado à memória do Host 4.\n",
      "2024-07-17 19:12:41,620: Qubit 50 adicionado à memória do Host 5.\n",
      "2024-07-17 19:12:41,620: Qubit 50 criado com fidelidade inicial 0.2755653504061707 e adicionado à memória do Host 5.\n",
      "2024-07-17 19:12:41,621: Qubit 51 adicionado à memória do Host 5.\n",
      "2024-07-17 19:12:41,621: Qubit 51 criado com fidelidade inicial 0.8195271359546031 e adicionado à memória do Host 5.\n",
      "2024-07-17 19:12:41,621: Qubit 52 adicionado à memória do Host 5.\n",
      "2024-07-17 19:12:41,622: Qubit 52 criado com fidelidade inicial 0.9805239621129568 e adicionado à memória do Host 5.\n",
      "2024-07-17 19:12:41,622: Qubit 53 adicionado à memória do Host 5.\n",
      "2024-07-17 19:12:41,622: Qubit 53 criado com fidelidade inicial 0.893330187270955 e adicionado à memória do Host 5.\n",
      "2024-07-17 19:12:41,622: Qubit 54 adicionado à memória do Host 5.\n",
      "2024-07-17 19:12:41,623: Qubit 54 criado com fidelidade inicial 0.586506803527919 e adicionado à memória do Host 5.\n",
      "2024-07-17 19:12:41,623: Qubit 55 adicionado à memória do Host 5.\n",
      "2024-07-17 19:12:41,624: Qubit 55 criado com fidelidade inicial 0.7692693966332769 e adicionado à memória do Host 5.\n",
      "2024-07-17 19:12:41,624: Qubit 56 adicionado à memória do Host 5.\n",
      "2024-07-17 19:12:41,624: Qubit 56 criado com fidelidade inicial 0.4226245596234931 e adicionado à memória do Host 5.\n",
      "2024-07-17 19:12:41,625: Qubit 57 adicionado à memória do Host 5.\n",
      "2024-07-17 19:12:41,625: Qubit 57 criado com fidelidade inicial 0.6768928438296095 e adicionado à memória do Host 5.\n",
      "2024-07-17 19:12:41,625: Qubit 58 adicionado à memória do Host 5.\n",
      "2024-07-17 19:12:41,625: Qubit 58 criado com fidelidade inicial 0.8448823602577777 e adicionado à memória do Host 5.\n",
      "2024-07-17 19:12:41,626: Qubit 59 adicionado à memória do Host 5.\n",
      "2024-07-17 19:12:41,626: Qubit 59 criado com fidelidade inicial 0.3754614499624326 e adicionado à memória do Host 5.\n",
      "2024-07-17 19:12:41,626: Qubit 60 adicionado à memória do Host 6.\n",
      "2024-07-17 19:12:41,626: Qubit 60 criado com fidelidade inicial 0.6261169588272878 e adicionado à memória do Host 6.\n",
      "2024-07-17 19:12:41,627: Qubit 61 adicionado à memória do Host 6.\n",
      "2024-07-17 19:12:41,627: Qubit 61 criado com fidelidade inicial 0.5182890659486712 e adicionado à memória do Host 6.\n",
      "2024-07-17 19:12:41,627: Qubit 62 adicionado à memória do Host 6.\n",
      "2024-07-17 19:12:41,627: Qubit 62 criado com fidelidade inicial 0.33954730995467397 e adicionado à memória do Host 6.\n",
      "2024-07-17 19:12:41,628: Qubit 63 adicionado à memória do Host 6.\n",
      "2024-07-17 19:12:41,628: Qubit 63 criado com fidelidade inicial 0.9847511148734078 e adicionado à memória do Host 6.\n",
      "2024-07-17 19:12:41,628: Qubit 64 adicionado à memória do Host 6.\n",
      "2024-07-17 19:12:41,628: Qubit 64 criado com fidelidade inicial 0.044177860490190124 e adicionado à memória do Host 6.\n",
      "2024-07-17 19:12:41,629: Qubit 65 adicionado à memória do Host 6.\n",
      "2024-07-17 19:12:41,629: Qubit 65 criado com fidelidade inicial 0.4604844429567162 e adicionado à memória do Host 6.\n",
      "2024-07-17 19:12:41,629: Qubit 66 adicionado à memória do Host 6.\n",
      "2024-07-17 19:12:41,630: Qubit 66 criado com fidelidade inicial 0.8845245086928848 e adicionado à memória do Host 6.\n",
      "2024-07-17 19:12:41,630: Qubit 67 adicionado à memória do Host 6.\n",
      "2024-07-17 19:12:41,630: Qubit 67 criado com fidelidade inicial 0.0878082290356057 e adicionado à memória do Host 6.\n",
      "2024-07-17 19:12:41,631: Qubit 68 adicionado à memória do Host 6.\n",
      "2024-07-17 19:12:41,631: Qubit 68 criado com fidelidade inicial 0.5212396792408013 e adicionado à memória do Host 6.\n",
      "2024-07-17 19:12:41,631: Qubit 69 adicionado à memória do Host 6.\n",
      "2024-07-17 19:12:41,631: Qubit 69 criado com fidelidade inicial 0.8506658745866763 e adicionado à memória do Host 6.\n",
      "2024-07-17 19:12:41,632: Qubit 70 adicionado à memória do Host 7.\n",
      "2024-07-17 19:12:41,632: Qubit 70 criado com fidelidade inicial 0.17422150087943056 e adicionado à memória do Host 7.\n",
      "2024-07-17 19:12:41,632: Qubit 71 adicionado à memória do Host 7.\n",
      "2024-07-17 19:12:41,633: Qubit 71 criado com fidelidade inicial 0.3175291846555526 e adicionado à memória do Host 7.\n",
      "2024-07-17 19:12:41,634: Qubit 72 adicionado à memória do Host 7.\n",
      "2024-07-17 19:12:41,634: Qubit 72 criado com fidelidade inicial 0.743136423172098 e adicionado à memória do Host 7.\n",
      "2024-07-17 19:12:41,637: Qubit 73 adicionado à memória do Host 7.\n",
      "2024-07-17 19:12:41,637: Qubit 73 criado com fidelidade inicial 0.7411733569881218 e adicionado à memória do Host 7.\n",
      "2024-07-17 19:12:41,638: Qubit 74 adicionado à memória do Host 7.\n",
      "2024-07-17 19:12:41,639: Qubit 74 criado com fidelidade inicial 0.8062330429648538 e adicionado à memória do Host 7.\n",
      "2024-07-17 19:12:41,639: Qubit 75 adicionado à memória do Host 7.\n",
      "2024-07-17 19:12:41,639: Qubit 75 criado com fidelidade inicial 0.48827754964304926 e adicionado à memória do Host 7.\n",
      "2024-07-17 19:12:41,640: Qubit 76 adicionado à memória do Host 7.\n",
      "2024-07-17 19:12:41,640: Qubit 76 criado com fidelidade inicial 0.6651338727035404 e adicionado à memória do Host 7.\n",
      "2024-07-17 19:12:41,640: Qubit 77 adicionado à memória do Host 7.\n",
      "2024-07-17 19:12:41,641: Qubit 77 criado com fidelidade inicial 0.23922880329565877 e adicionado à memória do Host 7.\n",
      "2024-07-17 19:12:41,641: Qubit 78 adicionado à memória do Host 7.\n",
      "2024-07-17 19:12:41,642: Qubit 78 criado com fidelidade inicial 0.5469467561219574 e adicionado à memória do Host 7.\n",
      "2024-07-17 19:12:41,642: Qubit 79 adicionado à memória do Host 7.\n",
      "2024-07-17 19:12:41,642: Qubit 79 criado com fidelidade inicial 0.6940142689900404 e adicionado à memória do Host 7.\n",
      "2024-07-17 19:12:41,643: Qubit 80 adicionado à memória do Host 8.\n",
      "2024-07-17 19:12:41,643: Qubit 80 criado com fidelidade inicial 0.04601906270395162 e adicionado à memória do Host 8.\n",
      "2024-07-17 19:12:41,643: Qubit 81 adicionado à memória do Host 8.\n",
      "2024-07-17 19:12:41,644: Qubit 81 criado com fidelidade inicial 0.4792375999206294 e adicionado à memória do Host 8.\n",
      "2024-07-17 19:12:41,644: Qubit 82 adicionado à memória do Host 8.\n",
      "2024-07-17 19:12:41,644: Qubit 82 criado com fidelidade inicial 0.9589461386817618 e adicionado à memória do Host 8.\n",
      "2024-07-17 19:12:41,645: Qubit 83 adicionado à memória do Host 8.\n",
      "2024-07-17 19:12:41,645: Qubit 83 criado com fidelidade inicial 0.321312485909089 e adicionado à memória do Host 8.\n",
      "2024-07-17 19:12:41,646: Qubit 84 adicionado à memória do Host 8.\n",
      "2024-07-17 19:12:41,646: Qubit 84 criado com fidelidade inicial 0.6142994534118116 e adicionado à memória do Host 8.\n",
      "2024-07-17 19:12:41,646: Qubit 85 adicionado à memória do Host 8.\n",
      "2024-07-17 19:12:41,647: Qubit 85 criado com fidelidade inicial 0.0519106614591639 e adicionado à memória do Host 8.\n",
      "2024-07-17 19:12:41,647: Qubit 86 adicionado à memória do Host 8.\n",
      "2024-07-17 19:12:41,648: Qubit 86 criado com fidelidade inicial 0.39846977447761245 e adicionado à memória do Host 8.\n",
      "2024-07-17 19:12:41,648: Qubit 87 adicionado à memória do Host 8.\n",
      "2024-07-17 19:12:41,649: Qubit 87 criado com fidelidade inicial 0.7609299211565891 e adicionado à memória do Host 8.\n",
      "2024-07-17 19:12:41,649: Qubit 88 adicionado à memória do Host 8.\n",
      "2024-07-17 19:12:41,649: Qubit 88 criado com fidelidade inicial 0.07167038112314039 e adicionado à memória do Host 8.\n",
      "2024-07-17 19:12:41,650: Qubit 89 adicionado à memória do Host 8.\n",
      "2024-07-17 19:12:41,650: Qubit 89 criado com fidelidade inicial 0.9599554417971923 e adicionado à memória do Host 8.\n",
      "2024-07-17 19:12:41,651: Par EPR <quantumnet.objects.epr.Epr object at 0x000001ED60C1BB30> adicionado ao canal.\n",
      "2024-07-17 19:12:41,651: Par EPR <quantumnet.objects.epr.Epr object at 0x000001ED60BF3740> adicionado ao canal.\n",
      "2024-07-17 19:12:41,652: Par EPR <quantumnet.objects.epr.Epr object at 0x000001ED607CD7C0> adicionado ao canal.\n",
      "2024-07-17 19:12:41,652: Par EPR <quantumnet.objects.epr.Epr object at 0x000001ED606FFE30> adicionado ao canal.\n",
      "2024-07-17 19:12:41,652: Par EPR <quantumnet.objects.epr.Epr object at 0x000001ED60C2CB30> adicionado ao canal.\n",
      "2024-07-17 19:12:41,653: Par EPR <quantumnet.objects.epr.Epr object at 0x000001ED60C2D3A0> adicionado ao canal.\n",
      "2024-07-17 19:12:41,653: Par EPR <quantumnet.objects.epr.Epr object at 0x000001ED60C2D580> adicionado ao canal.\n",
      "2024-07-17 19:12:41,654: Par EPR <quantumnet.objects.epr.Epr object at 0x000001ED60ACDA60> adicionado ao canal.\n",
      "2024-07-17 19:12:41,654: Par EPR <quantumnet.objects.epr.Epr object at 0x000001ED60B556A0> adicionado ao canal.\n",
      "2024-07-17 19:12:41,655: Par EPR <quantumnet.objects.epr.Epr object at 0x000001ED60C2D8B0> adicionado ao canal.\n",
      "2024-07-17 19:12:41,655: Par EPR <quantumnet.objects.epr.Epr object at 0x000001ED60C2D970> adicionado ao canal.\n",
      "2024-07-17 19:12:41,655: Par EPR <quantumnet.objects.epr.Epr object at 0x000001ED60C2CEF0> adicionado ao canal.\n",
      "2024-07-17 19:12:41,656: Par EPR <quantumnet.objects.epr.Epr object at 0x000001ED60815640> adicionado ao canal.\n",
      "2024-07-17 19:12:41,656: Par EPR <quantumnet.objects.epr.Epr object at 0x000001ED60C2DBB0> adicionado ao canal.\n",
      "2024-07-17 19:12:41,656: Par EPR <quantumnet.objects.epr.Epr object at 0x000001ED60C2DC70> adicionado ao canal.\n",
      "2024-07-17 19:12:41,657: Par EPR <quantumnet.objects.epr.Epr object at 0x000001ED6096DF40> adicionado ao canal.\n",
      "2024-07-17 19:12:41,658: Par EPR <quantumnet.objects.epr.Epr object at 0x000001ED60C2DD90> adicionado ao canal.\n",
      "2024-07-17 19:12:41,658: Par EPR <quantumnet.objects.epr.Epr object at 0x000001ED6096EAB0> adicionado ao canal.\n",
      "2024-07-17 19:12:41,659: Par EPR <quantumnet.objects.epr.Epr object at 0x000001ED60C2D5E0> adicionado ao canal.\n",
      "2024-07-17 19:12:41,659: Par EPR <quantumnet.objects.epr.Epr object at 0x000001ED60C2DF10> adicionado ao canal.\n",
      "2024-07-17 19:12:41,660: Par EPR <quantumnet.objects.epr.Epr object at 0x000001ED60C2E0C0> adicionado ao canal.\n",
      "2024-07-17 19:12:41,660: Par EPR <quantumnet.objects.epr.Epr object at 0x000001ED60C2E1E0> adicionado ao canal.\n",
      "2024-07-17 19:12:41,661: Par EPR <quantumnet.objects.epr.Epr object at 0x000001ED6083E150> adicionado ao canal.\n",
      "2024-07-17 19:12:41,661: Par EPR <quantumnet.objects.epr.Epr object at 0x000001ED5E89E330> adicionado ao canal.\n",
      "2024-07-17 19:12:41,661: Par EPR <quantumnet.objects.epr.Epr object at 0x000001ED60C2DD00> adicionado ao canal.\n",
      "2024-07-17 19:12:41,662: Par EPR <quantumnet.objects.epr.Epr object at 0x000001ED60C2E3F0> adicionado ao canal.\n",
      "2024-07-17 19:12:41,662: Par EPR <quantumnet.objects.epr.Epr object at 0x000001ED60C2E3C0> adicionado ao canal.\n",
      "2024-07-17 19:12:41,662: Par EPR <quantumnet.objects.epr.Epr object at 0x000001ED60AF5D30> adicionado ao canal.\n",
      "2024-07-17 19:12:41,663: Par EPR <quantumnet.objects.epr.Epr object at 0x000001ED607CD970> adicionado ao canal.\n",
      "2024-07-17 19:12:41,663: Par EPR <quantumnet.objects.epr.Epr object at 0x000001ED60C2E6C0> adicionado ao canal.\n",
      "2024-07-17 19:12:41,663: Par EPR <quantumnet.objects.epr.Epr object at 0x000001ED60ACE120> adicionado ao canal.\n",
      "2024-07-17 19:12:41,663: Par EPR <quantumnet.objects.epr.Epr object at 0x000001ED60C2E840> adicionado ao canal.\n",
      "2024-07-17 19:12:41,664: Par EPR <quantumnet.objects.epr.Epr object at 0x000001ED6088EA80> adicionado ao canal.\n",
      "2024-07-17 19:12:41,664: Par EPR <quantumnet.objects.epr.Epr object at 0x000001ED60C2E8D0> adicionado ao canal.\n",
      "2024-07-17 19:12:41,664: Par EPR <quantumnet.objects.epr.Epr object at 0x000001ED60AF6A50> adicionado ao canal.\n",
      "2024-07-17 19:12:41,664: Par EPR <quantumnet.objects.epr.Epr object at 0x000001ED60C2EB70> adicionado ao canal.\n",
      "2024-07-17 19:12:41,665: Par EPR <quantumnet.objects.epr.Epr object at 0x000001ED60AF6CC0> adicionado ao canal.\n",
      "2024-07-17 19:12:41,665: Par EPR <quantumnet.objects.epr.Epr object at 0x000001ED60C2EC60> adicionado ao canal.\n",
      "2024-07-17 19:12:41,665: Par EPR <quantumnet.objects.epr.Epr object at 0x000001ED60C2EDB0> adicionado ao canal.\n",
      "2024-07-17 19:12:41,666: Par EPR <quantumnet.objects.epr.Epr object at 0x000001ED60C2EEA0> adicionado ao canal.\n",
      "2024-07-17 19:12:41,666: Par EPR <quantumnet.objects.epr.Epr object at 0x000001ED60C2EF60> adicionado ao canal.\n",
      "2024-07-17 19:12:41,666: Par EPR <quantumnet.objects.epr.Epr object at 0x000001ED60C2EAE0> adicionado ao canal.\n",
      "2024-07-17 19:12:41,667: Par EPR <quantumnet.objects.epr.Epr object at 0x000001ED60C2F140> adicionado ao canal.\n",
      "2024-07-17 19:12:41,667: Par EPR <quantumnet.objects.epr.Epr object at 0x000001ED60C2F1D0> adicionado ao canal.\n",
      "2024-07-17 19:12:41,667: Par EPR <quantumnet.objects.epr.Epr object at 0x000001ED60C2F3E0> adicionado ao canal.\n",
      "2024-07-17 19:12:41,667: Par EPR <quantumnet.objects.epr.Epr object at 0x000001ED60C2F440> adicionado ao canal.\n",
      "2024-07-17 19:12:41,668: Par EPR <quantumnet.objects.epr.Epr object at 0x000001ED60C1B170> adicionado ao canal.\n",
      "2024-07-17 19:12:41,668: Par EPR <quantumnet.objects.epr.Epr object at 0x000001ED60C2F080> adicionado ao canal.\n",
      "2024-07-17 19:12:41,668: Par EPR <quantumnet.objects.epr.Epr object at 0x000001ED60C2F740> adicionado ao canal.\n",
      "2024-07-17 19:12:41,668: Par EPR <quantumnet.objects.epr.Epr object at 0x000001ED60C1BD70> adicionado ao canal.\n",
      "2024-07-17 19:12:41,669: Par EPR <quantumnet.objects.epr.Epr object at 0x000001ED60C2F170> adicionado ao canal.\n",
      "2024-07-17 19:12:41,669: Par EPR <quantumnet.objects.epr.Epr object at 0x000001ED60C2F950> adicionado ao canal.\n",
      "2024-07-17 19:12:41,669: Par EPR <quantumnet.objects.epr.Epr object at 0x000001ED60C2F350> adicionado ao canal.\n",
      "2024-07-17 19:12:41,670: Par EPR <quantumnet.objects.epr.Epr object at 0x000001ED60937860> adicionado ao canal.\n",
      "2024-07-17 19:12:41,670: Par EPR <quantumnet.objects.epr.Epr object at 0x000001ED60AF7D10> adicionado ao canal.\n",
      "2024-07-17 19:12:41,670: Par EPR <quantumnet.objects.epr.Epr object at 0x000001ED60AA7A40> adicionado ao canal.\n",
      "2024-07-17 19:12:41,671: Par EPR <quantumnet.objects.epr.Epr object at 0x000001ED60C2FB30> adicionado ao canal.\n",
      "2024-07-17 19:12:41,671: Par EPR <quantumnet.objects.epr.Epr object at 0x000001ED60C2FDA0> adicionado ao canal.\n",
      "2024-07-17 19:12:41,672: Par EPR <quantumnet.objects.epr.Epr object at 0x000001ED60C2FC20> adicionado ao canal.\n",
      "2024-07-17 19:12:41,673: Par EPR <quantumnet.objects.epr.Epr object at 0x000001ED60C2F6E0> adicionado ao canal.\n",
      "2024-07-17 19:12:41,673: Par EPR <quantumnet.objects.epr.Epr object at 0x000001ED6083F470> adicionado ao canal.\n",
      "2024-07-17 19:12:41,673: Par EPR <quantumnet.objects.epr.Epr object at 0x000001ED60C2FCE0> adicionado ao canal.\n",
      "2024-07-17 19:12:41,674: Par EPR <quantumnet.objects.epr.Epr object at 0x000001ED60B97FB0> adicionado ao canal.\n",
      "2024-07-17 19:12:41,674: Par EPR <quantumnet.objects.epr.Epr object at 0x000001ED60C181D0> adicionado ao canal.\n",
      "2024-07-17 19:12:41,674: Par EPR <quantumnet.objects.epr.Epr object at 0x000001ED60A580B0> adicionado ao canal.\n",
      "2024-07-17 19:12:41,675: Par EPR <quantumnet.objects.epr.Epr object at 0x000001ED60C18290> adicionado ao canal.\n",
      "2024-07-17 19:12:41,675: Par EPR <quantumnet.objects.epr.Epr object at 0x000001ED60C18530> adicionado ao canal.\n",
      "2024-07-17 19:12:41,676: Par EPR <quantumnet.objects.epr.Epr object at 0x000001ED60C18650> adicionado ao canal.\n",
      "2024-07-17 19:12:41,676: Par EPR <quantumnet.objects.epr.Epr object at 0x000001ED60C48110> adicionado ao canal.\n",
      "2024-07-17 19:12:41,676: Par EPR <quantumnet.objects.epr.Epr object at 0x000001ED60C18320> adicionado ao canal.\n",
      "2024-07-17 19:12:41,677: Par EPR <quantumnet.objects.epr.Epr object at 0x000001ED60C186E0> adicionado ao canal.\n",
      "2024-07-17 19:12:41,677: Par EPR <quantumnet.objects.epr.Epr object at 0x000001ED60C48680> adicionado ao canal.\n",
      "2024-07-17 19:12:41,677: Par EPR <quantumnet.objects.epr.Epr object at 0x000001ED60C188C0> adicionado ao canal.\n",
      "2024-07-17 19:12:41,678: Par EPR <quantumnet.objects.epr.Epr object at 0x000001ED60C183B0> adicionado ao canal.\n",
      "2024-07-17 19:12:41,678: Par EPR <quantumnet.objects.epr.Epr object at 0x000001ED60900BF0> adicionado ao canal.\n",
      "2024-07-17 19:12:41,678: Par EPR <quantumnet.objects.epr.Epr object at 0x000001ED60C18B30> adicionado ao canal.\n",
      "2024-07-17 19:12:41,679: Par EPR <quantumnet.objects.epr.Epr object at 0x000001ED60C483E0> adicionado ao canal.\n",
      "2024-07-17 19:12:41,679: Par EPR <quantumnet.objects.epr.Epr object at 0x000001ED60C18D40> adicionado ao canal.\n",
      "2024-07-17 19:12:41,679: Par EPR <quantumnet.objects.epr.Epr object at 0x000001ED60C48980> adicionado ao canal.\n",
      "2024-07-17 19:12:41,680: Par EPR <quantumnet.objects.epr.Epr object at 0x000001ED60C48CE0> adicionado ao canal.\n",
      "2024-07-17 19:12:41,680: Par EPR <quantumnet.objects.epr.Epr object at 0x000001ED60C18D70> adicionado ao canal.\n",
      "2024-07-17 19:12:41,680: Par EPR <quantumnet.objects.epr.Epr object at 0x000001ED60C18F20> adicionado ao canal.\n",
      "2024-07-17 19:12:41,680: Par EPR <quantumnet.objects.epr.Epr object at 0x000001ED60C48DD0> adicionado ao canal.\n",
      "2024-07-17 19:12:41,681: Par EPR <quantumnet.objects.epr.Epr object at 0x000001ED60C18C80> adicionado ao canal.\n",
      "2024-07-17 19:12:41,681: Par EPR <quantumnet.objects.epr.Epr object at 0x000001ED60C49100> adicionado ao canal.\n",
      "2024-07-17 19:12:41,681: Par EPR <quantumnet.objects.epr.Epr object at 0x000001ED60C48950> adicionado ao canal.\n",
      "2024-07-17 19:12:41,682: Par EPR <quantumnet.objects.epr.Epr object at 0x000001ED60C18770> adicionado ao canal.\n",
      "2024-07-17 19:12:41,682: Par EPR <quantumnet.objects.epr.Epr object at 0x000001ED60C193A0> adicionado ao canal.\n",
      "2024-07-17 19:12:41,682: Par EPR <quantumnet.objects.epr.Epr object at 0x000001ED60C19340> adicionado ao canal.\n",
      "2024-07-17 19:12:41,682: Par EPR <quantumnet.objects.epr.Epr object at 0x000001ED60C49310> adicionado ao canal.\n",
      "2024-07-17 19:12:41,683: Par EPR <quantumnet.objects.epr.Epr object at 0x000001ED60C49430> adicionado ao canal.\n",
      "2024-07-17 19:12:41,683: Par EPR <quantumnet.objects.epr.Epr object at 0x000001ED60C19640> adicionado ao canal.\n",
      "2024-07-17 19:12:41,683: Par EPR <quantumnet.objects.epr.Epr object at 0x000001ED60C49520> adicionado ao canal.\n",
      "2024-07-17 19:12:41,683: Par EPR <quantumnet.objects.epr.Epr object at 0x000001ED60C490D0> adicionado ao canal.\n",
      "2024-07-17 19:12:41,684: Par EPR <quantumnet.objects.epr.Epr object at 0x000001ED60C497C0> adicionado ao canal.\n",
      "2024-07-17 19:12:41,684: Par EPR <quantumnet.objects.epr.Epr object at 0x000001ED60C1B470> adicionado ao canal.\n",
      "2024-07-17 19:12:41,684: Par EPR <quantumnet.objects.epr.Epr object at 0x000001ED60C49730> adicionado ao canal.\n",
      "2024-07-17 19:12:41,685: Par EPR <quantumnet.objects.epr.Epr object at 0x000001ED60C19B80> adicionado ao canal.\n",
      "2024-07-17 19:12:41,685: Par EPR <quantumnet.objects.epr.Epr object at 0x000001ED60C188F0> adicionado ao canal.\n",
      "2024-07-17 19:12:41,685: Par EPR <quantumnet.objects.epr.Epr object at 0x000001ED60C49B20> adicionado ao canal.\n",
      "2024-07-17 19:12:41,685: Par EPR <quantumnet.objects.epr.Epr object at 0x000001ED60C49D00> adicionado ao canal.\n",
      "2024-07-17 19:12:41,686: Par EPR <quantumnet.objects.epr.Epr object at 0x000001ED60C19DF0> adicionado ao canal.\n",
      "2024-07-17 19:12:41,686: Par EPR <quantumnet.objects.epr.Epr object at 0x000001ED60BF3CB0> adicionado ao canal.\n",
      "2024-07-17 19:12:41,686: Par EPR <quantumnet.objects.epr.Epr object at 0x000001ED60C19C10> adicionado ao canal.\n",
      "2024-07-17 19:12:41,686: Par EPR <quantumnet.objects.epr.Epr object at 0x000001ED60C19E20> adicionado ao canal.\n",
      "2024-07-17 19:12:41,687: Par EPR <quantumnet.objects.epr.Epr object at 0x000001ED60C19F40> adicionado ao canal.\n",
      "2024-07-17 19:12:41,687: Par EPR <quantumnet.objects.epr.Epr object at 0x000001ED60C49D90> adicionado ao canal.\n",
      "2024-07-17 19:12:41,687: Par EPR <quantumnet.objects.epr.Epr object at 0x000001ED60C19D30> adicionado ao canal.\n",
      "2024-07-17 19:12:41,688: Par EPR <quantumnet.objects.epr.Epr object at 0x000001ED60C1A300> adicionado ao canal.\n",
      "2024-07-17 19:12:41,688: Par EPR <quantumnet.objects.epr.Epr object at 0x000001ED60BF2570> adicionado ao canal.\n",
      "2024-07-17 19:12:41,689: Par EPR <quantumnet.objects.epr.Epr object at 0x000001ED60C1A2A0> adicionado ao canal.\n",
      "2024-07-17 19:12:41,689: Par EPR <quantumnet.objects.epr.Epr object at 0x000001ED60C1A3F0> adicionado ao canal.\n",
      "2024-07-17 19:12:41,689: Par EPR <quantumnet.objects.epr.Epr object at 0x000001ED60C1A210> adicionado ao canal.\n",
      "2024-07-17 19:12:41,689: Par EPR <quantumnet.objects.epr.Epr object at 0x000001ED60C4A270> adicionado ao canal.\n",
      "2024-07-17 19:12:41,690: Par EPR <quantumnet.objects.epr.Epr object at 0x000001ED60C1A480> adicionado ao canal.\n",
      "2024-07-17 19:12:41,690: Par EPR <quantumnet.objects.epr.Epr object at 0x000001ED60C1A690> adicionado ao canal.\n",
      "2024-07-17 19:12:41,690: Par EPR <quantumnet.objects.epr.Epr object at 0x000001ED60C19FD0> adicionado ao canal.\n",
      "2024-07-17 19:12:41,691: Par EPR <quantumnet.objects.epr.Epr object at 0x000001ED60B71C70> adicionado ao canal.\n",
      "2024-07-17 19:12:41,691: Par EPR <quantumnet.objects.epr.Epr object at 0x000001ED606C2AB0> adicionado ao canal.\n",
      "2024-07-17 19:12:41,691: Par EPR <quantumnet.objects.epr.Epr object at 0x000001ED60C4A420> adicionado ao canal.\n"
     ]
    },
    {
     "name": "stdout",
     "output_type": "stream",
     "text": [
      "Hosts inicializados\n",
      "Canais inicializados\n",
      "Pares EPRs adicionados\n"
     ]
    },
    {
     "data": {
      "image/png": "[encoded data removed]",
      "text/plain": [
       "<Figure size 640x480 with 1 Axes>"
      ]
     },
     "metadata": {},
     "output_type": "display_data"
    }
   ],
   "source": [
    "rede = Network()\n",
    "rede.set_ready_topology(\"Grade\", 3,3)\n",
    "rede.draw()"
   ]
  },
  {
   "cell_type": "code",
   "execution_count": 3,
   "metadata": {},
   "outputs": [],
   "source": [
    "alice = rede.get_host(0)\n",
    "bob = rede.get_host(8)"
   ]
  },
  {
   "cell_type": "code",
   "execution_count": 4,
   "metadata": {},
   "outputs": [
    {
     "name": "stdout",
     "output_type": "stream",
     "text": [
      "memoria de alice: [<quantumnet.objects.qubit.Qubit object at 0x000001ED60BF35C0>, <quantumnet.objects.qubit.Qubit object at 0x000001ED60A33F80>, <quantumnet.objects.qubit.Qubit object at 0x000001ED608B2990>, <quantumnet.objects.qubit.Qubit object at 0x000001ED60178F80>, <quantumnet.objects.qubit.Qubit object at 0x000001ED606C37A0>, <quantumnet.objects.qubit.Qubit object at 0x000001ED609C1EB0>, <quantumnet.objects.qubit.Qubit object at 0x000001ED607B3AA0>, <quantumnet.objects.qubit.Qubit object at 0x000001ED608B3260>, <quantumnet.objects.qubit.Qubit object at 0x000001ED608E3CB0>, <quantumnet.objects.qubit.Qubit object at 0x000001ED60B23920>]\n",
      "memoria de bob: [<quantumnet.objects.qubit.Qubit object at 0x000001ED60C19820>, <quantumnet.objects.qubit.Qubit object at 0x000001ED60C1A5A0>, <quantumnet.objects.qubit.Qubit object at 0x000001ED60A048F0>, <quantumnet.objects.qubit.Qubit object at 0x000001ED608E12B0>, <quantumnet.objects.qubit.Qubit object at 0x000001ED60C19AF0>, <quantumnet.objects.qubit.Qubit object at 0x000001ED60C186B0>, <quantumnet.objects.qubit.Qubit object at 0x000001ED60BC4B30>, <quantumnet.objects.qubit.Qubit object at 0x000001ED60B95280>, <quantumnet.objects.qubit.Qubit object at 0x000001ED60C18230>, <quantumnet.objects.qubit.Qubit object at 0x000001ED60C1BAA0>]\n"
     ]
    }
   ],
   "source": [
    "print('memoria de alice:',(alice.memory))\n",
    "print('memoria de bob:',(bob.memory))"
   ]
  },
  {
   "cell_type": "code",
   "execution_count": 5,
   "metadata": {},
   "outputs": [
    {
     "name": "stderr",
     "output_type": "stream",
     "text": [
      "2024-07-17 19:12:42,190: Rota válida encontrada: [0, 3, 6, 7, 8]\n",
      "2024-07-17 19:12:42,191: Rota válida encontrada: [0, 3, 6, 7, 8]\n",
      "2024-07-17 19:12:42,191: Transmissão de 2 qubits entre 0 e 8 concluída com sucesso.\n"
     ]
    },
    {
     "data": {
      "text/plain": [
       "True"
      ]
     },
     "execution_count": 5,
     "metadata": {},
     "output_type": "execute_result"
    }
   ],
   "source": [
    "rede.transportlayer.request_transmission(0,8, 2)"
   ]
  },
  {
   "cell_type": "code",
   "execution_count": 6,
   "metadata": {},
   "outputs": [
    {
     "data": {
      "text/plain": [
       "[{'route': [0, 3, 6, 7, 8], 'alice_id': 0, 'bob_id': 8},\n",
       " {'route': [0, 3, 6, 7, 8], 'alice_id': 0, 'bob_id': 8}]"
      ]
     },
     "execution_count": 6,
     "metadata": {},
     "output_type": "execute_result"
    }
   ],
   "source": [
    "rede.transportlayer.get_transmitted_qubits()"
   ]
  },
  {
   "cell_type": "code",
   "execution_count": 7,
   "metadata": {},
   "outputs": [
    {
     "name": "stderr",
     "output_type": "stream",
     "text": [
      "2024-07-17 19:12:42,206: Rota válida encontrada: [0, 3, 6, 7, 8]\n",
      "2024-07-17 19:12:42,206: Teletransporte de qubit de 0 para 8 foi bem-sucedido com fidelidade final de 0.3013921501233694.\n"
     ]
    },
    {
     "data": {
      "text/plain": [
       "True"
      ]
     },
     "execution_count": 7,
     "metadata": {},
     "output_type": "execute_result"
    }
   ],
   "source": [
    "rede.transportlayer.teleportation_protocol(0,8)"
   ]
  },
  {
   "cell_type": "code",
   "execution_count": 8,
   "metadata": {},
   "outputs": [
    {
     "data": {
      "text/plain": [
       "[{'route': [0, 3, 6, 7, 8], 'alice_id': 0, 'bob_id': 8},\n",
       " {'route': [0, 3, 6, 7, 8], 'alice_id': 0, 'bob_id': 8},\n",
       " {'alice_id': 0,\n",
       "  'bob_id': 8,\n",
       "  'route': [0, 3, 6, 7, 8],\n",
       "  'fidelity_alice': 0.31396472898691463,\n",
       "  'fidelity_bob': 0.9599554417971923,\n",
       "  'fidelity_route': 1.0,\n",
       "  'F_final': 0.3013921501233694,\n",
       "  'qubit_alice': <quantumnet.objects.qubit.Qubit at 0x1ed60bf35c0>,\n",
       "  'qubit_bob': <quantumnet.objects.qubit.Qubit at 0x1ed60c1baa0>,\n",
       "  'success': True}]"
      ]
     },
     "execution_count": 8,
     "metadata": {},
     "output_type": "execute_result"
    }
   ],
   "source": [
    "rede.transportlayer.get_teleported_qubits()"
   ]
  },
  {
   "cell_type": "code",
   "execution_count": 10,
   "metadata": {},
   "outputs": [
    {
     "name": "stdout",
     "output_type": "stream",
     "text": [
      "memoria de alice: [<quantumnet.objects.qubit.Qubit object at 0x000001ED60A33F80>, <quantumnet.objects.qubit.Qubit object at 0x000001ED608B2990>, <quantumnet.objects.qubit.Qubit object at 0x000001ED60178F80>, <quantumnet.objects.qubit.Qubit object at 0x000001ED606C37A0>, <quantumnet.objects.qubit.Qubit object at 0x000001ED609C1EB0>, <quantumnet.objects.qubit.Qubit object at 0x000001ED607B3AA0>, <quantumnet.objects.qubit.Qubit object at 0x000001ED608B3260>, <quantumnet.objects.qubit.Qubit object at 0x000001ED608E3CB0>, <quantumnet.objects.qubit.Qubit object at 0x000001ED60B23920>]\n",
      "memoria de bob: [<quantumnet.objects.qubit.Qubit object at 0x000001ED60C19820>, <quantumnet.objects.qubit.Qubit object at 0x000001ED60C1A5A0>, <quantumnet.objects.qubit.Qubit object at 0x000001ED60A048F0>, <quantumnet.objects.qubit.Qubit object at 0x000001ED608E12B0>, <quantumnet.objects.qubit.Qubit object at 0x000001ED60C19AF0>, <quantumnet.objects.qubit.Qubit object at 0x000001ED60C186B0>, <quantumnet.objects.qubit.Qubit object at 0x000001ED60BC4B30>, <quantumnet.objects.qubit.Qubit object at 0x000001ED60B95280>, <quantumnet.objects.qubit.Qubit object at 0x000001ED60C18230>, <quantumnet.objects.qubit.Qubit object at 0x000001ED60BF35C0>]\n"
     ]
    }
   ],
   "source": [
    "print('memoria de alice:',(alice.memory))\n",
    "print('memoria de bob:',(bob.memory))"
   ]
  },
  {
   "cell_type": "code",
   "execution_count": 11,
   "metadata": {},
   "outputs": [
    {
     "name": "stderr",
     "output_type": "stream",
     "text": [
      "2024-07-17 19:12:42,234: Número insuficiente de qubits na memória de Alice (Host 0). Tentando transmitir os 9 qubits disponíveis.\n",
      "2024-07-17 19:12:42,234: Rota válida encontrada: [0, 3, 6, 7, 8]\n",
      "2024-07-17 19:12:42,235: Rota válida encontrada: [0, 3, 6, 7, 8]\n",
      "2024-07-17 19:12:42,235: Rota válida encontrada: [0, 3, 6, 7, 8]\n",
      "2024-07-17 19:12:42,235: Rota válida encontrada: [0, 3, 6, 7, 8]\n",
      "2024-07-17 19:12:42,236: Rota válida encontrada: [0, 3, 6, 7, 8]\n",
      "2024-07-17 19:12:42,236: Rota válida encontrada: [0, 3, 6, 7, 8]\n",
      "2024-07-17 19:12:42,237: Rota válida encontrada: [0, 3, 6, 7, 8]\n",
      "2024-07-17 19:12:42,237: Rota válida encontrada: [0, 3, 6, 7, 8]\n",
      "2024-07-17 19:12:42,238: Rota válida encontrada: [0, 3, 6, 7, 8]\n",
      "2024-07-17 19:12:42,238: Teletransporte de qubit de 0 para 8 foi bem-sucedido com fidelidade final de 0.006074470677413111.\n",
      "2024-07-17 19:12:42,238: Teletransporte de qubit de 0 para 8 foi bem-sucedido com fidelidade final de 0.32648168526549537.\n",
      "2024-07-17 19:12:42,238: Teletransporte de qubit de 0 para 8 foi bem-sucedido com fidelidade final de 0.2506732419562258.\n",
      "2024-07-17 19:12:42,239: Teletransporte de qubit de 0 para 8 foi bem-sucedido com fidelidade final de 0.05316396282668019.\n",
      "2024-07-17 19:12:42,239: Teletransporte de qubit de 0 para 8 foi bem-sucedido com fidelidade final de 0.34987863735709784.\n",
      "2024-07-17 19:12:42,239: Teletransporte de qubit de 0 para 8 foi bem-sucedido com fidelidade final de 0.004504843390319693.\n",
      "2024-07-17 19:12:42,240: Teletransporte de qubit de 0 para 8 foi bem-sucedido com fidelidade final de 0.18103345822984585.\n",
      "2024-07-17 19:12:42,240: Teletransporte de qubit de 0 para 8 foi bem-sucedido com fidelidade final de 0.10831998852943774.\n",
      "2024-07-17 19:12:42,240: Teletransporte de qubit de 0 para 8 foi bem-sucedido com fidelidade final de 0.03601521004216438.\n",
      "2024-07-17 19:12:42,240: Transmissão e teletransporte de 9 qubits entre 0 e 8 concluídos com sucesso.\n"
     ]
    },
    {
     "data": {
      "text/plain": [
       "True"
      ]
     },
     "execution_count": 11,
     "metadata": {},
     "output_type": "execute_result"
    }
   ],
   "source": [
    "rede.transportlayer.run_transport_layer(0,8,11)"
   ]
  },
  {
   "cell_type": "code",
   "execution_count": 12,
   "metadata": {},
   "outputs": [
    {
     "data": {
      "text/plain": [
       "[{'route': [0, 3, 6, 7, 8], 'alice_id': 0, 'bob_id': 8},\n",
       " {'route': [0, 3, 6, 7, 8], 'alice_id': 0, 'bob_id': 8},\n",
       " {'alice_id': 0,\n",
       "  'bob_id': 8,\n",
       "  'route': [0, 3, 6, 7, 8],\n",
       "  'fidelity_alice': 0.31396472898691463,\n",
       "  'fidelity_bob': 0.9599554417971923,\n",
       "  'fidelity_route': 1.0,\n",
       "  'F_final': 0.3013921501233694,\n",
       "  'qubit_alice': <quantumnet.objects.qubit.Qubit at 0x1ed60bf35c0>,\n",
       "  'qubit_bob': <quantumnet.objects.qubit.Qubit at 0x1ed60c1baa0>,\n",
       "  'success': True},\n",
       " {'alice_id': 0,\n",
       "  'bob_id': 8,\n",
       "  'route': [0, 3, 6, 7, 8],\n",
       "  'fidelity_alice': 0.13199900911696538,\n",
       "  'fidelity_bob': 0.04601906270395162,\n",
       "  'fidelity_route': 1.0,\n",
       "  'F_final': 0.006074470677413111,\n",
       "  'qubit_alice': <quantumnet.objects.qubit.Qubit at 0x1ed60a33f80>,\n",
       "  'qubit_bob': <quantumnet.objects.qubit.Qubit at 0x1ed60c19820>,\n",
       "  'success': True},\n",
       " {'alice_id': 0,\n",
       "  'bob_id': 8,\n",
       "  'route': [0, 3, 6, 7, 8],\n",
       "  'fidelity_alice': 0.6812522333797822,\n",
       "  'fidelity_bob': 0.4792375999206294,\n",
       "  'fidelity_route': 1.0,\n",
       "  'F_final': 0.32648168526549537,\n",
       "  'qubit_alice': <quantumnet.objects.qubit.Qubit at 0x1ed608b2990>,\n",
       "  'qubit_bob': <quantumnet.objects.qubit.Qubit at 0x1ed60c1a5a0>,\n",
       "  'success': True},\n",
       " {'alice_id': 0,\n",
       "  'bob_id': 8,\n",
       "  'route': [0, 3, 6, 7, 8],\n",
       "  'fidelity_alice': 0.26140492343065247,\n",
       "  'fidelity_bob': 0.9589461386817618,\n",
       "  'fidelity_route': 1.0,\n",
       "  'F_final': 0.2506732419562258,\n",
       "  'qubit_alice': <quantumnet.objects.qubit.Qubit at 0x1ed60178f80>,\n",
       "  'qubit_bob': <quantumnet.objects.qubit.Qubit at 0x1ed60a048f0>,\n",
       "  'success': True},\n",
       " {'alice_id': 0,\n",
       "  'bob_id': 8,\n",
       "  'route': [0, 3, 6, 7, 8],\n",
       "  'fidelity_alice': 0.16545875170790036,\n",
       "  'fidelity_bob': 0.321312485909089,\n",
       "  'fidelity_route': 1.0,\n",
       "  'F_final': 0.05316396282668019,\n",
       "  'qubit_alice': <quantumnet.objects.qubit.Qubit at 0x1ed606c37a0>,\n",
       "  'qubit_bob': <quantumnet.objects.qubit.Qubit at 0x1ed608e12b0>,\n",
       "  'success': True},\n",
       " {'alice_id': 0,\n",
       "  'bob_id': 8,\n",
       "  'route': [0, 3, 6, 7, 8],\n",
       "  'fidelity_alice': 0.5695571360415124,\n",
       "  'fidelity_bob': 0.6142994534118116,\n",
       "  'fidelity_route': 1.0,\n",
       "  'F_final': 0.34987863735709784,\n",
       "  'qubit_alice': <quantumnet.objects.qubit.Qubit at 0x1ed609c1eb0>,\n",
       "  'qubit_bob': <quantumnet.objects.qubit.Qubit at 0x1ed60c19af0>,\n",
       "  'success': True},\n",
       " {'alice_id': 0,\n",
       "  'bob_id': 8,\n",
       "  'route': [0, 3, 6, 7, 8],\n",
       "  'fidelity_alice': 0.08678069713797576,\n",
       "  'fidelity_bob': 0.0519106614591639,\n",
       "  'fidelity_route': 1.0,\n",
       "  'F_final': 0.004504843390319693,\n",
       "  'qubit_alice': <quantumnet.objects.qubit.Qubit at 0x1ed607b3aa0>,\n",
       "  'qubit_bob': <quantumnet.objects.qubit.Qubit at 0x1ed60c186b0>,\n",
       "  'success': True},\n",
       " {'alice_id': 0,\n",
       "  'bob_id': 8,\n",
       "  'route': [0, 3, 6, 7, 8],\n",
       "  'fidelity_alice': 0.4543216821581457,\n",
       "  'fidelity_bob': 0.39846977447761245,\n",
       "  'fidelity_route': 1.0,\n",
       "  'F_final': 0.18103345822984585,\n",
       "  'qubit_alice': <quantumnet.objects.qubit.Qubit at 0x1ed608b3260>,\n",
       "  'qubit_bob': <quantumnet.objects.qubit.Qubit at 0x1ed60bc4b30>,\n",
       "  'success': True},\n",
       " {'alice_id': 0,\n",
       "  'bob_id': 8,\n",
       "  'route': [0, 3, 6, 7, 8],\n",
       "  'fidelity_alice': 0.1423521214211091,\n",
       "  'fidelity_bob': 0.7609299211565891,\n",
       "  'fidelity_route': 1.0,\n",
       "  'F_final': 0.10831998852943774,\n",
       "  'qubit_alice': <quantumnet.objects.qubit.Qubit at 0x1ed608e3cb0>,\n",
       "  'qubit_bob': <quantumnet.objects.qubit.Qubit at 0x1ed60b95280>,\n",
       "  'success': True},\n",
       " {'alice_id': 0,\n",
       "  'bob_id': 8,\n",
       "  'route': [0, 3, 6, 7, 8],\n",
       "  'fidelity_alice': 0.5025117695451471,\n",
       "  'fidelity_bob': 0.07167038112314039,\n",
       "  'fidelity_route': 1.0,\n",
       "  'F_final': 0.03601521004216438,\n",
       "  'qubit_alice': <quantumnet.objects.qubit.Qubit at 0x1ed60b23920>,\n",
       "  'qubit_bob': <quantumnet.objects.qubit.Qubit at 0x1ed60c18230>,\n",
       "  'success': True}]"
      ]
     },
     "execution_count": 12,
     "metadata": {},
     "output_type": "execute_result"
    }
   ],
   "source": [
    "rede.transportlayer.get_teleported_qubits()"
   ]
  },
  {
   "cell_type": "code",
   "execution_count": 13,
   "metadata": {},
   "outputs": [
    {
     "name": "stdout",
     "output_type": "stream",
     "text": [
      "memoria de alice: []\n",
      "memoria de bob: [<quantumnet.objects.qubit.Qubit object at 0x000001ED60BF35C0>, <quantumnet.objects.qubit.Qubit object at 0x000001ED60A33F80>, <quantumnet.objects.qubit.Qubit object at 0x000001ED608B2990>, <quantumnet.objects.qubit.Qubit object at 0x000001ED60178F80>, <quantumnet.objects.qubit.Qubit object at 0x000001ED606C37A0>, <quantumnet.objects.qubit.Qubit object at 0x000001ED609C1EB0>, <quantumnet.objects.qubit.Qubit object at 0x000001ED607B3AA0>, <quantumnet.objects.qubit.Qubit object at 0x000001ED608B3260>, <quantumnet.objects.qubit.Qubit object at 0x000001ED608E3CB0>, <quantumnet.objects.qubit.Qubit object at 0x000001ED60B23920>]\n"
     ]
    }
   ],
   "source": [
    "print('memoria de alice:',(alice.memory))\n",
    "print('memoria de bob:',(bob.memory))"
   ]
  }
 ],
 "metadata": {
  "kernelspec": {
   "display_name": "Python 3",
   "language": "python",
   "name": "python3"
  },
  "language_info": {
   "codemirror_mode": {
    "name": "ipython",
    "version": 3
   },
   "file_extension": ".py",
   "mimetype": "text/x-python",
   "name": "python",
   "nbconvert_exporter": "python",
   "pygments_lexer": "ipython3",
   "version": "3.12.1"
  }
 },
 "nbformat": 4,
 "nbformat_minor": 2
}
